{
  "cells": [
    {
      "cell_type": "markdown",
      "metadata": {
        "id": "view-in-github",
        "colab_type": "text"
      },
      "source": [
        "<a href=\"https://colab.research.google.com/github/bbamknp2018/MSC_DPDM_2025/blob/main/%E0%B8%AA%E0%B8%B3%E0%B9%80%E0%B8%99%E0%B8%B2%E0%B8%82%E0%B8%AD%E0%B8%87_Frequent_Patterns_(Association_Rules).ipynb\" target=\"_parent\"><img src=\"https://colab.research.google.com/assets/colab-badge.svg\" alt=\"Open In Colab\"/></a>"
      ]
    },
    {
      "cell_type": "code",
      "execution_count": null,
      "metadata": {
        "id": "KZmRixV_o0Jw"
      },
      "outputs": [],
      "source": [
        "import pandas as pd\n",
        "import os"
      ]
    },
    {
      "cell_type": "code",
      "execution_count": null,
      "metadata": {
        "id": "BZaeBFmzp6zA"
      },
      "outputs": [],
      "source": [
        "from google.colab import drive\n",
        "drive.mount('/content/drive')"
      ]
    },
    {
      "cell_type": "code",
      "execution_count": null,
      "metadata": {
        "id": "krbEDi1CijTV"
      },
      "outputs": [],
      "source": [
        "import pandas as pd\n",
        "import os\n",
        "path = '/content/'\n",
        "data = pd.read_csv(os.path.join(path,'Copy of reduced_marketbasket.csv'),encoding='latin-1') #encoding= 'latin-1' bc. มีภาษาที่เป็นจุด ๆ บนหัวทำให้ข้อมมูลเละ"
      ]
    },
    {
      "cell_type": "code",
      "execution_count": null,
      "metadata": {
        "id": "ikJazGz6qAn7"
      },
      "outputs": [],
      "source": [
        "data = pd.read_csv(os.path.join(path,'Copy of reduced_marketbasket.csv'),encoding='latin-1') #encoding= 'latin-1' bc. มีภาษาที่เป็นจุด ๆ บนหัวทำให้ข้อมมูลเละ"
      ]
    },
    {
      "cell_type": "code",
      "execution_count": null,
      "metadata": {
        "id": "vVP_s3oxqNnU"
      },
      "outputs": [],
      "source": [
        "data"
      ]
    },
    {
      "cell_type": "code",
      "execution_count": null,
      "metadata": {
        "id": "UzHyVCoQtm5U"
      },
      "outputs": [],
      "source": [
        "data.isnull().any()"
      ]
    },
    {
      "cell_type": "code",
      "execution_count": null,
      "metadata": {
        "id": "Z2UMEkMQxiRl"
      },
      "outputs": [],
      "source": [
        "data.info()"
      ]
    },
    {
      "cell_type": "markdown",
      "metadata": {
        "id": "7fFZhPmwO-hN"
      },
      "source": [
        "InvoiceNo = รหัสใบเสร็จ, StockCode = รหัสสินค้า, Description = คำอธิบายรายการสินค้า, Quantity = จำนวนชิ้น, InvoiceDate = วันที่ซื้อ, UnitPrice = ราคาต่อหน่วย, CustomerID = รหัสสมาชิกลูกค้า, Country = ประเทศที่ตั้ง กรณีมีหลายสาขา"
      ]
    },
    {
      "cell_type": "code",
      "execution_count": null,
      "metadata": {
        "id": "24vlB3XrNBm7"
      },
      "outputs": [],
      "source": [
        "data.groupby('InvoiceNo')['StockCode'].apply(list) #รวม ให้สินค้ารหัสใบเสร็จเดียวกันมาอยู่ด้วยกัน # จัดกลุ่มข้อมูล .apply(func  ที่จะทำ)"
      ]
    },
    {
      "cell_type": "markdown",
      "metadata": {
        "id": "z2SfJsQvRuzq"
      },
      "source": [
        "## การเตรียมข้อมูล for Apriori Algorithm"
      ]
    },
    {
      "cell_type": "markdown",
      "metadata": {
        "id": "r9qB7RGwR9yD"
      },
      "source": [
        "ข้อมูลที่ใช้มักจะอยู่ในรูปแบบของธุรกรรม (Transactions) โดยแต่ละธุรกรรมจะประกอบไปด้วยชุดของรายการ (Items)"
      ]
    },
    {
      "cell_type": "code",
      "execution_count": null,
      "metadata": {
        "id": "WQJgxn-KuAPL"
      },
      "outputs": [],
      "source": [
        "transactions = data.groupby('InvoiceNo')['StockCode'].apply(list)"
      ]
    },
    {
      "cell_type": "code",
      "execution_count": null,
      "metadata": {
        "id": "1b125190"
      },
      "outputs": [],
      "source": [
        "data = pd.read_csv(os.path.join('/content','Copy of reduced_marketbasket.csv'),encoding='latin-1') #encoding= 'latin-1' bc. มีภาษาที่เป็นจุด ๆ บนหัวทำให้ข้อมมูลเละ"
      ]
    },
    {
      "cell_type": "code",
      "execution_count": null,
      "metadata": {
        "id": "da67120c"
      },
      "outputs": [],
      "source": [
        "transactions = data.groupby('InvoiceNo')['StockCode'].apply(list)"
      ]
    },
    {
      "cell_type": "code",
      "execution_count": null,
      "metadata": {
        "id": "crWZf7vuVXnP"
      },
      "outputs": [],
      "source": [
        "len(data['Country'].unique())"
      ]
    },
    {
      "cell_type": "code",
      "execution_count": null,
      "metadata": {
        "id": "KBCui-E6VcAV"
      },
      "outputs": [],
      "source": [
        "set(data['Country']) #  เหมือนกับ .unique() สามารถระบุได้ไหมว่าลูกค้าประเทศไหนซื้อสินค้าอะไร"
      ]
    },
    {
      "cell_type": "markdown",
      "metadata": {
        "id": "TqkZl7tUsgUT"
      },
      "source": [
        "## Association Rules"
      ]
    },
    {
      "cell_type": "code",
      "execution_count": null,
      "metadata": {
        "id": "65PH6CAdNqpu"
      },
      "outputs": [],
      "source": [
        "!ls"
      ]
    },
    {
      "cell_type": "code",
      "execution_count": null,
      "metadata": {
        "id": "kxLayaaAtkh8"
      },
      "outputs": [],
      "source": [
        "!pip install apyori"
      ]
    },
    {
      "cell_type": "code",
      "execution_count": null,
      "metadata": {
        "id": "MU_DkGZ2sKw_"
      },
      "outputs": [],
      "source": [
        "from apyori import apriori"
      ]
    },
    {
      "cell_type": "code",
      "execution_count": null,
      "metadata": {
        "id": "42bbca7d"
      },
      "outputs": [],
      "source": [
        "!pip install apyori"
      ]
    },
    {
      "cell_type": "code",
      "execution_count": null,
      "metadata": {
        "id": "f7066a9a"
      },
      "outputs": [],
      "source": [
        "from apyori import apriori"
      ]
    },
    {
      "cell_type": "code",
      "execution_count": null,
      "metadata": {
        "id": "97k-zMvHOCsh"
      },
      "outputs": [],
      "source": [
        "list(apriori(transactions,min_support = 0.5))"
      ]
    },
    {
      "cell_type": "code",
      "execution_count": null,
      "metadata": {
        "id": "bw35IV3HOboo"
      },
      "outputs": [],
      "source": [
        "list(apriori(transactions,min_support = 0.065))"
      ]
    },
    {
      "cell_type": "code",
      "execution_count": null,
      "metadata": {
        "id": "Uwysx9eLtg7H"
      },
      "outputs": [],
      "source": [
        "frequentItemsets = list(apriori(transactions,min_support = 0.065))\n",
        "frequentItemsets"
      ]
    },
    {
      "cell_type": "code",
      "execution_count": null,
      "metadata": {
        "id": "4Qzi9KmGi2R_"
      },
      "outputs": [],
      "source": []
    },
    {
      "cell_type": "code",
      "execution_count": null,
      "metadata": {
        "id": "YrGYvw60PK1-"
      },
      "outputs": [],
      "source": [
        "frequentItemsets = list(apriori(transactions,min_support = 0.03))\n",
        "frequentItemsets"
      ]
    },
    {
      "cell_type": "code",
      "execution_count": null,
      "metadata": {
        "id": "Cy62VyRYubh1"
      },
      "outputs": [],
      "source": [
        "len(frequentItemsets)"
      ]
    },
    {
      "cell_type": "code",
      "execution_count": null,
      "metadata": {
        "id": "6lzdtht5OqOw"
      },
      "outputs": [],
      "source": [
        "frequentItemsets[-1]"
      ]
    },
    {
      "cell_type": "code",
      "execution_count": null,
      "metadata": {
        "id": "BvlRLR-0m94M"
      },
      "outputs": [],
      "source": [
        "frequentItemsets[-1][0]"
      ]
    },
    {
      "cell_type": "code",
      "execution_count": null,
      "metadata": {
        "id": "Vv4fTSt_ReT9"
      },
      "outputs": [],
      "source": [
        "len(frequentItemsets[-1][0])"
      ]
    },
    {
      "cell_type": "code",
      "execution_count": null,
      "metadata": {
        "id": "e5_ZFqjIoqmw"
      },
      "outputs": [],
      "source": [
        "min_sup = 0.03\n",
        "\n",
        "frequentItemsets = list(apriori(transactions,min_support = min_sup))\n",
        "for i in frequentItemsets:\n",
        "    if len(i[0])>1: #check ที่มากกว่า 2\n",
        "        print('yes')\n",
        "        print(i)"
      ]
    },
    {
      "cell_type": "markdown",
      "metadata": {
        "id": "sNVv9l7QpWTI"
      },
      "source": [
        "RelationRecord(items=frozenset({'22386', '85099B'}), support=0.03216216216216216,\n",
        "ordered_statistics=\n",
        "[OrderedStatistic(items_base=frozenset(), items_add=frozenset({'22386', '85099B'}), confidence=0.03216216216216216, lift=1.0),\n",
        "\n",
        "OrderedStatistic(items_base=frozenset({'22386'}),items_add=frozenset({'85099B'}),\n",
        "confidence=0.6766856214459789, lift=8.20897311262335),\n",
        "\n",
        "OrderedStatistic(items_base=frozenset({'85099B'}), items_add=frozenset({'22386'}),\n",
        "confidence=0.39016393442622943, lift=8.20897311262335)])\n"
      ]
    },
    {
      "cell_type": "code",
      "execution_count": null,
      "metadata": {
        "id": "-NWAj_eiTrjC"
      },
      "outputs": [],
      "source": [
        "data[data['StockCode']=='85099B']"
      ]
    },
    {
      "cell_type": "code",
      "execution_count": null,
      "metadata": {
        "id": "5KwOKbA8TVfI"
      },
      "outputs": [],
      "source": [
        "data[data['StockCode']=='22386']"
      ]
    },
    {
      "cell_type": "markdown",
      "metadata": {
        "id": "KpCFmvKpYfvZ"
      },
      "source": [
        "**k-itemset**: สินค้า k ชนิดถูกซื้อร่วมกันบ่อยแค่ไหน  \n",
        "(relative (%)) **support**: หลักฐาน ที่สนับสนุนสมมติฐานที่เราตั้งไว้ ว่ามีกี่ชิ้น (มีกี่ transection ที่มาทดสอบสมมติฐานเรา)  \n",
        "**min_support**: pattern ที่น่าสนใจคือ pattern ที่เกิดขึ้นบ่อยเท่าที่เราต้องการ (กำหนด threshold)  \n",
        "**confident** conditional probability ดูว่าเกิดอันไหนก่อน หลัง  \n",
        "**lift**: หาความสัมพันธ์"
      ]
    },
    {
      "cell_type": "markdown",
      "metadata": {
        "id": "8Fd67OiCUhDh"
      },
      "source": [
        "# HW 2 หา pattern ที่น่าสนใจใน Dataset หนังอินเดีย (india imdb)"
      ]
    },
    {
      "cell_type": "code",
      "execution_count": null,
      "metadata": {
        "id": "6xgKsiU0l0uo"
      },
      "outputs": [],
      "source": [
        "India_data = pd.read_csv(os.path.join(path,'IMDb Movies India.csv'),encoding='latin-1')\n",
        "India_data"
      ]
    },
    {
      "cell_type": "markdown",
      "metadata": {
        "id": "4aW1zxFrnACD"
      },
      "source": [
        "## ตรวจสอบ + จัดการค่าว่าง"
      ]
    },
    {
      "cell_type": "code",
      "execution_count": null,
      "metadata": {
        "id": "7mjdPGhSm7UD"
      },
      "outputs": [],
      "source": [
        "India_data.isnull().any()"
      ]
    },
    {
      "cell_type": "code",
      "execution_count": null,
      "metadata": {
        "id": "3ttlg2ZRnIFW"
      },
      "outputs": [],
      "source": [
        "India_data.info()"
      ]
    },
    {
      "cell_type": "code",
      "execution_count": null,
      "metadata": {
        "id": "YUJpjYIB3z1W"
      },
      "outputs": [],
      "source": [
        "# คำนวณสัดส่วนของค่าว่างในแต่ละคอลัมน์\n",
        "missing_data = India_data.isnull().sum() / len(India_data) * 100\n",
        "missing_data"
      ]
    },
    {
      "cell_type": "markdown",
      "metadata": {
        "id": "JstLxHG8y5Uw"
      },
      "source": [
        "### ชื่อ"
      ]
    },
    {
      "cell_type": "code",
      "execution_count": null,
      "metadata": {
        "id": "34BUD2nzpoxj"
      },
      "outputs": [],
      "source": [
        "print(len(India_data[India_data['Name'].isnull()]))\n",
        "India_data[India_data['Name'].isnull()]"
      ]
    },
    {
      "cell_type": "code",
      "execution_count": null,
      "metadata": {
        "id": "7E_waxRDzd0C"
      },
      "outputs": [],
      "source": [
        "India_data.loc[0,'Name']= '\"space\"'  #loc ชี้ไปที่ตารางด้วยแถวและคอลัมน์ทีาเราสนใจ จะเปลี่ยนชื่อ"
      ]
    },
    {
      "cell_type": "code",
      "execution_count": null,
      "metadata": {
        "id": "3RNL87IMz0lI"
      },
      "outputs": [],
      "source": [
        "India_data['Name'].unique()"
      ]
    },
    {
      "cell_type": "markdown",
      "metadata": {
        "id": "A5a_o2Ho0Bd7"
      },
      "source": [
        "### ปี (missing 3.40%)"
      ]
    },
    {
      "cell_type": "code",
      "execution_count": null,
      "metadata": {
        "id": "zRdxVZihp3-t"
      },
      "outputs": [],
      "source": [
        "print(len(India_data[India_data['Year'].isnull()]))\n",
        "India_data[India_data['Year'].isnull()]"
      ]
    },
    {
      "cell_type": "code",
      "execution_count": null,
      "metadata": {
        "id": "oduMCxoDJxyf"
      },
      "outputs": [],
      "source": [
        "India_data['Year'] = India_data['Year'] = India_data['Year'].str.replace('(', '').str.replace(')', '').astype(float)"
      ]
    },
    {
      "cell_type": "markdown",
      "metadata": {
        "id": "m9sFeINxKLCr"
      },
      "source": [
        "ผู้กำกับคนเดียวกันน่าจะผลิตหนังในปีใกล้ๆ เคียงกัน"
      ]
    },
    {
      "cell_type": "code",
      "execution_count": null,
      "metadata": {
        "id": "-SmQlpCLLmMh"
      },
      "outputs": [],
      "source": [
        "India_data['Year'].fillna(India_data.groupby('Director')['Year'].transform('mean'))"
      ]
    },
    {
      "cell_type": "markdown",
      "metadata": {
        "id": "rjoiRLokL8Rf"
      },
      "source": [
        "Director เพราะน่าจะผลิตหนังในช่วงเดียวๆ กัน"
      ]
    },
    {
      "cell_type": "code",
      "execution_count": null,
      "metadata": {
        "id": "XO5iSDupLk9a"
      },
      "outputs": [],
      "source": [
        "India_data['Year'] = India_data['Year'].fillna(India_data.groupby('Director')['Year'].transform('mean'))"
      ]
    },
    {
      "cell_type": "code",
      "execution_count": null,
      "metadata": {
        "id": "WiDi_yocMGjw"
      },
      "outputs": [],
      "source": [
        "print(len(India_data[India_data['Year'].isnull()]))\n",
        "India_data[India_data['Year'].isnull()].head(5)"
      ]
    },
    {
      "cell_type": "markdown",
      "metadata": {
        "id": "KCIOddx20hsR"
      },
      "source": [
        "### ประเภทหนัง (missing 12.10%)"
      ]
    },
    {
      "cell_type": "code",
      "execution_count": null,
      "metadata": {
        "id": "SKHkVBcHp4cz"
      },
      "outputs": [],
      "source": [
        "print(len(India_data[India_data['Genre'].isnull()]))\n",
        "India_data[India_data['Genre'].isnull()]"
      ]
    },
    {
      "cell_type": "code",
      "execution_count": null,
      "metadata": {
        "id": "N20XQKdX1QuJ"
      },
      "outputs": [],
      "source": [
        "India_data_Genre_Na =  India_data[India_data['Genre'].isnull()]\n",
        "India_data_Genre_Na"
      ]
    },
    {
      "cell_type": "code",
      "execution_count": null,
      "metadata": {
        "id": "e-Lu_LhnzDzd"
      },
      "outputs": [],
      "source": [
        "India_data_Name_dup = India_data[India_data['Name'].duplicated()] #ดูชื่อหนังที่ซ้ำกัน\n",
        "India_data_Name_dup"
      ]
    },
    {
      "cell_type": "code",
      "execution_count": null,
      "metadata": {
        "id": "vfHTrkKK6WTU"
      },
      "outputs": [],
      "source": [
        "name_genre = {} # สร้าง dict เก็บชื่อหนัง+ประเภท\n",
        "for i in range(len(India_data)):\n",
        "    if pd.notna(India_data.loc[i, 'Genre']):  # ใช้ pd.notna เพื่อตรวจสอบว่าไม่เป็นค่าว่าง\n",
        "        name_genre[India_data.loc[i, 'Name']] = India_data.loc[i, 'Genre']\n",
        "\n",
        "for i in range(len(India_data)): # เติมประเภทหนัง จากชื่อที่เหมือนกัน ด้วยประเภทที่เจอล่าสุด กรณีซ้ำ\n",
        "    if pd.isnull(India_data.loc[i, 'Genre']):  # ใช้ pd.isnull เพื่อตรวจสอบค่าว่าง\n",
        "        if India_data.loc[i, 'Name'] in name_genre:\n",
        "            India_data.loc[i, 'Genre'] = name_genre[India_data.loc[i, 'Name']]"
      ]
    },
    {
      "cell_type": "code",
      "execution_count": null,
      "metadata": {
        "id": "cEdH3S5S3Xk6"
      },
      "outputs": [],
      "source": [
        "print(len(India_data[India_data['Genre'].isnull()]))\n",
        "India_data[India_data['Genre'].isnull()].head(5)"
      ]
    },
    {
      "cell_type": "markdown",
      "metadata": {
        "id": "GNq2cQ_QOQNS"
      },
      "source": [
        "### Rating (48.939326%)"
      ]
    },
    {
      "cell_type": "code",
      "execution_count": null,
      "metadata": {
        "id": "noiDtlsxp43V"
      },
      "outputs": [],
      "source": [
        "print(len(India_data[India_data['Rating'].isnull()]))\n",
        "India_data[India_data['Rating'].isnull()].head(5)"
      ]
    },
    {
      "cell_type": "markdown",
      "metadata": {
        "id": "88cl6FohCFEQ"
      },
      "source": [
        "IMDb Rating: ใช้ระบบ 10 จุด โดยผู้ชมทั่วไปจะให้คะแนนภาพยนตร์หรือรายการโดยหลังจากได้ชม คะแนนเหล่านี้จะถูกรวมและคำนวณเป็นค่าเฉลี่ยเพื่อสะท้อนถึงคุณภาพหรือความนิยมโดยรวมของผลงานนั้นๆ\n",
        "\n"
      ]
    },
    {
      "cell_type": "code",
      "execution_count": null,
      "metadata": {
        "id": "s1S2FmtbBk67"
      },
      "outputs": [],
      "source": [
        "India_data['Rating'].max()"
      ]
    },
    {
      "cell_type": "code",
      "execution_count": null,
      "metadata": {
        "id": "0EULE9H-Brvc"
      },
      "outputs": [],
      "source": [
        "India_data['Rating'].min()"
      ]
    },
    {
      "cell_type": "code",
      "execution_count": null,
      "metadata": {
        "id": "GJqxpruXCy8-"
      },
      "outputs": [],
      "source": [
        "India_data.groupby('Genre')['Rating'].mean().round(1)"
      ]
    },
    {
      "cell_type": "markdown",
      "metadata": {
        "id": "Qgpjt-3EFIEg"
      },
      "source": [
        "ใช้ .transform('mean') เพื่อสร้าง Series ที่มีขนาดเท่าเดิมกับข้อมูลต้นทาง เพื่อเติมค่าเฉลี่ยเข้าไปที่ตำแหน่งที่มีค่าว่างโดยตรง"
      ]
    },
    {
      "cell_type": "code",
      "execution_count": null,
      "metadata": {
        "id": "XauBTfncEbGG"
      },
      "outputs": [],
      "source": [
        "India_data['Rating'] = India_data['Rating'].fillna(India_data.groupby('Genre')['Rating'].transform('mean')).round(1)"
      ]
    },
    {
      "cell_type": "code",
      "execution_count": null,
      "metadata": {
        "id": "TkorDfSCOj6X"
      },
      "outputs": [],
      "source": [
        "print(len(India_data[India_data['Rating'].isnull()]))\n",
        "India_data[India_data['Rating'].isnull()].head(5)"
      ]
    },
    {
      "cell_type": "markdown",
      "metadata": {
        "id": "lYKYPjyWKQQb"
      },
      "source": [
        "### Duration"
      ]
    },
    {
      "cell_type": "code",
      "execution_count": null,
      "metadata": {
        "id": "zbIw5Lm4KSFy"
      },
      "outputs": [],
      "source": [
        "India_data['Duration'] = India_data['Duration'].str.replace(' min', '').astype(float)"
      ]
    },
    {
      "cell_type": "code",
      "execution_count": null,
      "metadata": {
        "id": "SJ1IbOrZKc7D"
      },
      "outputs": [],
      "source": [
        "India_data.info()"
      ]
    },
    {
      "cell_type": "code",
      "execution_count": null,
      "metadata": {
        "id": "-g3TFHQiPJdL"
      },
      "outputs": [],
      "source": [
        "India_data['Duration'].fillna(India_data.groupby('Genre')['Duration'].transform('mean')).round(1)"
      ]
    },
    {
      "cell_type": "code",
      "execution_count": null,
      "metadata": {
        "id": "AtrsSEiSPIPi"
      },
      "outputs": [],
      "source": [
        "India_data['Duration'] = India_data['Duration'].fillna(India_data.groupby('Genre')['Duration'].transform('mean')).round(1)"
      ]
    },
    {
      "cell_type": "code",
      "execution_count": null,
      "metadata": {
        "id": "LgTlmLDPPWpt"
      },
      "outputs": [],
      "source": [
        "print(len(India_data[India_data['Duration'].isnull()]))\n",
        "India_data[India_data['Duration'].isnull()].head(5)"
      ]
    },
    {
      "cell_type": "markdown",
      "metadata": {
        "id": "lFBUf-7L_66s"
      },
      "source": [
        "### คะแนน vote"
      ]
    },
    {
      "cell_type": "code",
      "execution_count": null,
      "metadata": {
        "id": "ZFeLT6mqp5UK"
      },
      "outputs": [],
      "source": [
        "print(len(India_data[India_data['Votes'].isnull()]))\n",
        "India_data[India_data['Votes'].isnull()].head(5)"
      ]
    },
    {
      "cell_type": "code",
      "execution_count": null,
      "metadata": {
        "id": "nrOdLKdUGMbv"
      },
      "outputs": [],
      "source": [
        "India_data.info()"
      ]
    },
    {
      "cell_type": "code",
      "execution_count": null,
      "metadata": {
        "id": "rBVHU2xOGXvW"
      },
      "outputs": [],
      "source": [
        "India_data['Votes'].replace('$5.16M', 0, inplace=True)"
      ]
    },
    {
      "cell_type": "code",
      "execution_count": null,
      "metadata": {
        "id": "jGCvQyaKBVQa"
      },
      "outputs": [],
      "source": [
        "India_data['Votes'] = India_data['Votes'].str.replace(',','').astype('float64') # force change type"
      ]
    },
    {
      "cell_type": "code",
      "execution_count": null,
      "metadata": {
        "id": "IphAWorOHtnY"
      },
      "outputs": [],
      "source": [
        "India_data.groupby('Genre')['Votes'].mean().round(1)"
      ]
    },
    {
      "cell_type": "code",
      "execution_count": null,
      "metadata": {
        "id": "8PM-MHUiHmEF"
      },
      "outputs": [],
      "source": [
        "India_data['Votes'] = India_data['Votes'].fillna(India_data.groupby('Genre')['Votes'].transform('mean')).round(1)"
      ]
    },
    {
      "cell_type": "code",
      "execution_count": null,
      "metadata": {
        "id": "aGfhfZQEH6Lz"
      },
      "outputs": [],
      "source": [
        "# India_data['Votes_2'] = India_data['Votes'].fillna(India_data.groupby(['Genre','Director'])['Votes'].transform('mean')).round(1)"
      ]
    },
    {
      "cell_type": "code",
      "execution_count": null,
      "metadata": {
        "id": "NJySTBPjIcyc"
      },
      "outputs": [],
      "source": [
        "India_data.info()"
      ]
    },
    {
      "cell_type": "markdown",
      "metadata": {
        "id": "hZzL6EEORlqp"
      },
      "source": [
        "### เติมค่าว่างที่เหลือ"
      ]
    },
    {
      "cell_type": "code",
      "execution_count": null,
      "metadata": {
        "id": "FV6zF1NaRn3p"
      },
      "outputs": [],
      "source": [
        "missing_data = India_data.isnull().sum() / len(India_data) * 100\n",
        "missing_data"
      ]
    },
    {
      "cell_type": "code",
      "execution_count": null,
      "metadata": {
        "id": "VbI-26bxTKlG"
      },
      "outputs": [],
      "source": [
        "India_data.info()"
      ]
    },
    {
      "cell_type": "code",
      "execution_count": null,
      "metadata": {
        "id": "9OyZqvI9REvi"
      },
      "outputs": [],
      "source": [
        "India_data.fillna({'Year':India_data['Year'].mean(), 'Duration':India_data['Duration'].mean(), 'Votes':0 ,'Rating':India_data['Rating'].mean()}, inplace=True)"
      ]
    },
    {
      "cell_type": "code",
      "execution_count": null,
      "metadata": {
        "id": "ANH-Pemp-8HN"
      },
      "outputs": [],
      "source": [
        "India_data.info()"
      ]
    },
    {
      "cell_type": "code",
      "execution_count": null,
      "metadata": {
        "id": "NBEDHoWYA_8M"
      },
      "outputs": [],
      "source": [
        "# ลบแถวที่มีค่าว่างในคอลัมน์ที่เลือก\n",
        "India_data_cleaned = India_data.dropna(subset=['Genre', 'Director', 'Actor 1', 'Actor 2', 'Actor 3'])"
      ]
    },
    {
      "cell_type": "code",
      "execution_count": null,
      "metadata": {
        "id": "67qjoDfUAZUm"
      },
      "outputs": [],
      "source": [
        "India_data_cleaned.info()"
      ]
    },
    {
      "cell_type": "code",
      "execution_count": null,
      "metadata": {
        "id": "9m0Nxz2lUCO8"
      },
      "outputs": [],
      "source": [
        "# India_data.fillna({'Genre':'Unknown','Director':'Unknown', 'Actor 1':'Unknown', 'Actor 2':'Unknown', 'Actor 3':'Unknown'}, inplace=True)"
      ]
    },
    {
      "cell_type": "code",
      "execution_count": null,
      "metadata": {
        "id": "aVMu07k4UTeT"
      },
      "outputs": [],
      "source": [
        "India_data_cleaned.info()"
      ]
    },
    {
      "cell_type": "code",
      "execution_count": null,
      "metadata": {
        "id": "-AW3r9thUV82"
      },
      "outputs": [],
      "source": [
        "missing_data = India_data_cleaned.isnull().sum() / len(India_data_cleaned) * 100\n",
        "missing_data"
      ]
    },
    {
      "cell_type": "markdown",
      "metadata": {
        "id": "aFHFgAs_UkoZ"
      },
      "source": [
        "## แบ่งกลุ่มข้อมูล int float"
      ]
    },
    {
      "cell_type": "markdown",
      "metadata": {
        "id": "4JsGy61mU5X9"
      },
      "source": [
        "### Year"
      ]
    },
    {
      "cell_type": "code",
      "execution_count": null,
      "metadata": {
        "id": "QzAQqEdlVHeG"
      },
      "outputs": [],
      "source": [
        "India_data_cleaned['Year'].max()"
      ]
    },
    {
      "cell_type": "code",
      "execution_count": null,
      "metadata": {
        "id": "qkXYVb_WVL-p"
      },
      "outputs": [],
      "source": [
        "India_data_cleaned['Year'].min()"
      ]
    },
    {
      "cell_type": "markdown",
      "metadata": {
        "id": "Zmoc8NFvXHkQ"
      },
      "source": [
        "1. ยุคเงียบ (Silent Era) และยุคเสียง (Sound Era)  \n",
        "ยุคเงียบ (Pre-1927): ก่อนปี 1927 ซึ่งเป็นยุคของภาพยนตร์เงียบ  \n",
        "ยุคเสียง (1927-1940): เริ่มต้นด้วย \"The Jazz Singer\" ในปี 1927   ซึ่งเป็นภาพยนตร์ที่มีเสียงพูดครั้งแรก  \n",
        "2. ยุคทองของฮอลลีวูด (Golden Age of Hollywood)  \n",
        "ยุคทอง (1940-1960): ยุคนี้เป็นช่วงเวลาของการผลิตภาพยนตร์ที่มีคุณภาพสูง ด้วยเรื่องราวและดาราที่โดดเด่น  \n",
        "3. ยุคใหม่และการพัฒนาทางเทคโนโลยี  \n",
        "ยุคใหม่ (1960-1980):   ช่วงนี้เห็นการเปลี่ยนแปลงทางวัฒนธรรมและเทคนิคในการผลิตภาพยนตร์ รวมถึงการเกิดขึ้นของ New Hollywood  \n",
        "ยุคดิจิทัล (1980-2000):   การเริ่มต้นของการใช้เทคโนโลยีดิจิทัลในการผลิตภาพยนตร์\n",
        "4. ยุคอินเทอร์เน็ตและการสตรีมมิ่ง  \n",
        "ยุคอินเทอร์เน็ต (2000-2010):   เริ่มต้นของการใช้อินเทอร์เน็ตในการกระจายภาพยนตร์และการเข้าถึงแบบกว้างขวาง\n",
        "ยุคสตรีมมิ่ง (2010-2022): การเข้าถึงภาพยนตร์ผ่านบริการสตรีมมิ่งออนไลน์ที่เพิ่มมากขึ้น  "
      ]
    },
    {
      "cell_type": "code",
      "execution_count": null,
      "metadata": {
        "id": "or3kcQv0W5k8"
      },
      "outputs": [],
      "source": [
        "years = pd.Series(range(1913, 2023))  # สร้าง Series สำหรับตัวอย่าง\n",
        "\n",
        "# กำหนดช่วงปีและป้ายกำกับยุคตามประวัติศาสตร์ภาพยนตร์\n",
        "bins = [1913, 1927, 1940, 1960, 1980, 2000, 2010, 2023]\n",
        "labels = ['Silent Era', 'Early Sound Era', 'Golden Age of Hollywood', 'New Hollywood', 'Blockbuster Era', 'Internet Age', 'Streaming Era']\n",
        "\n",
        "# ใช้ pd.cut() เพื่อแบ่ง 'Year' ตามช่วงที่กำหนด\n",
        "India_data_cleaned['Era'] = pd.cut(India_data_cleaned['Year'], bins=bins, labels=labels, right=False)\n"
      ]
    },
    {
      "cell_type": "code",
      "execution_count": null,
      "metadata": {
        "id": "4ZnkAC5kXdpn"
      },
      "outputs": [],
      "source": [
        "India_data_cleaned.head(5)"
      ]
    },
    {
      "cell_type": "markdown",
      "metadata": {
        "id": "nTkSV4xOU-T6"
      },
      "source": [
        "### Duration"
      ]
    },
    {
      "cell_type": "code",
      "execution_count": null,
      "metadata": {
        "id": "N7E5iEnFVP9w"
      },
      "outputs": [],
      "source": [
        "India_data_cleaned['Duration'].max()"
      ]
    },
    {
      "cell_type": "code",
      "execution_count": null,
      "metadata": {
        "id": "aEZpXzfhVRcu"
      },
      "outputs": [],
      "source": [
        "India_data_cleaned['Duration'].min()"
      ]
    },
    {
      "cell_type": "code",
      "execution_count": null,
      "metadata": {
        "id": "eOWke-UmVX2Y"
      },
      "outputs": [],
      "source": [
        "India_data_cleaned[India_data_cleaned['Duration']<=10]"
      ]
    },
    {
      "cell_type": "code",
      "execution_count": null,
      "metadata": {
        "id": "JWvANRtpYTO-"
      },
      "outputs": [],
      "source": [
        "# แบ่งตามช่วงเวลาในการฉาย\n",
        "bins = [0, 90, 120, 180, 322]\n",
        "labels = ['Short', 'Medium', 'Long', 'Epic']\n",
        "\n",
        "India_data_cleaned['Duration_Category'] = pd.cut(India_data_cleaned['Duration'], bins=bins, labels=labels, right=False)"
      ]
    },
    {
      "cell_type": "code",
      "execution_count": null,
      "metadata": {
        "id": "OhvmVkrsYjfI"
      },
      "outputs": [],
      "source": [
        "India_data_cleaned.head(5)"
      ]
    },
    {
      "cell_type": "markdown",
      "metadata": {
        "id": "NNLrm8k3VAhV"
      },
      "source": [
        "### Rating"
      ]
    },
    {
      "cell_type": "markdown",
      "metadata": {
        "id": "dbk1rubrYu8l"
      },
      "source": [
        "แบ่งตามค่าคะแนน"
      ]
    },
    {
      "cell_type": "code",
      "execution_count": null,
      "metadata": {
        "id": "A-kg48tNZLfv"
      },
      "outputs": [],
      "source": [
        "quantile_labels = ['Poor', 'Below Average', 'Average', 'Good', 'Excellent']\n",
        "India_data_cleaned['Rating_Quantiles'] = pd.qcut(India_data_cleaned['Rating'], q=5, labels=quantile_labels)"
      ]
    },
    {
      "cell_type": "code",
      "execution_count": null,
      "metadata": {
        "id": "WD-IYPZWYsq9"
      },
      "outputs": [],
      "source": [
        "India_data_cleaned.head(5)"
      ]
    },
    {
      "cell_type": "markdown",
      "metadata": {
        "id": "Cd5UpDUQVDqp"
      },
      "source": [
        "### Votes"
      ]
    },
    {
      "cell_type": "code",
      "execution_count": null,
      "metadata": {
        "id": "lRrTdcK0U8He"
      },
      "outputs": [],
      "source": [
        "India_data_cleaned['Votes'].max()"
      ]
    },
    {
      "cell_type": "code",
      "execution_count": null,
      "metadata": {
        "id": "JVNsaqrZZnHB"
      },
      "outputs": [],
      "source": [
        "India_data_cleaned['Votes'].min()"
      ]
    },
    {
      "cell_type": "code",
      "execution_count": null,
      "metadata": {
        "id": "Z1SC_ohpa4V9"
      },
      "outputs": [],
      "source": [
        "bins = range(0, int(India_data_cleaned['Votes'].max()) + 10000, 10000)  # สร้างช่วงตั้งแต่ 0 ถึงสูงสุดของ 'Votes' ทุก 10,000 โหวต\n",
        "labels = [f'{i}-{i+10000-1}' for i in bins[:-1]]  # สร้างป้ายกำกับสำหรับแต่ละช่วง\n",
        "\n",
        "India_data_cleaned['Votes_Range'] = pd.cut(India_data_cleaned['Votes'], bins=bins, labels=labels, include_lowest=True) #include_lowest=True ให้เก็บค่าต่ำสุดด้วย"
      ]
    },
    {
      "cell_type": "code",
      "execution_count": null,
      "metadata": {
        "id": "WfTbY6I_a_Ud"
      },
      "outputs": [],
      "source": [
        "India_data_cleaned['Votes_Range'].unique()"
      ]
    },
    {
      "cell_type": "code",
      "execution_count": null,
      "metadata": {
        "id": "QH85jOonc0HT"
      },
      "outputs": [],
      "source": [
        "India_data_cleaned.head(5)"
      ]
    },
    {
      "cell_type": "code",
      "execution_count": null,
      "metadata": {
        "id": "XRD1KT4Pb9NY"
      },
      "outputs": [],
      "source": [
        "India_data_cleaned.info()"
      ]
    },
    {
      "cell_type": "code",
      "execution_count": null,
      "metadata": {
        "id": "uF_BaCeRCuZp"
      },
      "outputs": [],
      "source": [
        "# India_data_cleaned.to_csv('/content/drive/MyDrive/dpdm24_DATA/cleaned_india_data.csv', index=False).to_csv('/content/drive/MyDrive/dpdm24_DATA/cleaned_india_data.csv', index=False)"
      ]
    },
    {
      "cell_type": "markdown",
      "metadata": {
        "id": "goEi4hXsdH9o"
      },
      "source": [
        "## หา pattern"
      ]
    },
    {
      "cell_type": "code",
      "execution_count": null,
      "metadata": {
        "id": "aINCUZ5JeCaX"
      },
      "outputs": [],
      "source": [
        "import matplotlib.pyplot as plt\n",
        "numerical_features = [\"Year\", \"Duration\", \"Rating\", \"Votes\"]\n",
        "# Create boxplots for each numerical feature\n",
        "fig, axes = plt.subplots(nrows=1, ncols=len(numerical_features), figsize=(12, 6)) # plot boxplot ของ age,avg_glucose_level,bmi ดูการกระจายของข้อมูล\n",
        "for i, feature in enumerate(numerical_features):\n",
        "    axes[i].boxplot(India_data_cleaned[feature])\n",
        "    axes[i].set_title(feature)\n",
        "plt.show()\n"
      ]
    },
    {
      "cell_type": "code",
      "execution_count": null,
      "metadata": {
        "id": "a54lr53gdRGX"
      },
      "outputs": [],
      "source": [
        "India_data_cleaned[[\"Year\", \"Duration\", \"Rating\", \"Votes\"]].describe()"
      ]
    },
    {
      "cell_type": "code",
      "execution_count": null,
      "metadata": {
        "id": "0bU6i_2UnfGQ"
      },
      "outputs": [],
      "source": [
        "India_data_cleaned"
      ]
    },
    {
      "cell_type": "code",
      "execution_count": null,
      "metadata": {
        "id": "QocjGz1VUe4J"
      },
      "outputs": [],
      "source": [
        "# convert categorical variables to numerical using one-hot encoding\n",
        "cat_vars = ['Genre','Director', 'Actor 1', 'Actor 2', 'Actor 3', 'Era', 'Duration_Category','Rating_Quantiles', 'Votes_Range']  #'Director', 'Actor 1', 'Actor 2', 'Actor 3', 'Era', 'Duration_Category','Rating_Quantiles', 'Votes_Range'\n",
        "data_encoded = pd.get_dummies(India_data_cleaned, columns=cat_vars)"
      ]
    },
    {
      "cell_type": "code",
      "execution_count": null,
      "metadata": {
        "id": "k9v-fkrvUixx"
      },
      "outputs": [],
      "source": [
        "data_encoded"
      ]
    },
    {
      "cell_type": "code",
      "execution_count": null,
      "metadata": {
        "id": "6BJa5TgzVKA1"
      },
      "outputs": [],
      "source": [
        "data_apri = data_encoded.iloc[:,5:]\n",
        "data_apri"
      ]
    },
    {
      "cell_type": "code",
      "execution_count": null,
      "metadata": {
        "id": "HVnMc-ayVDJg"
      },
      "outputs": [],
      "source": [
        "apriori(data_apri, min_support=0.05, use_colnames=True)"
      ]
    },
    {
      "cell_type": "code",
      "execution_count": null,
      "metadata": {
        "id": "7ziUsgA1WdnB"
      },
      "outputs": [],
      "source": [
        "data_apri.columns"
      ]
    },
    {
      "cell_type": "code",
      "execution_count": null,
      "metadata": {
        "id": "_wYtuIPGW58z"
      },
      "outputs": [],
      "source": [
        "[col for col in data_apri.columns if col.startswith('Era')]"
      ]
    },
    {
      "cell_type": "code",
      "execution_count": null,
      "metadata": {
        "id": "2Q7vSYy_XF1P"
      },
      "outputs": [],
      "source": [
        "[col for col in data_apri.columns if col.startswith('Rating_Quantiles')]"
      ]
    },
    {
      "cell_type": "code",
      "execution_count": null,
      "metadata": {
        "id": "JdaTENRhY1l-"
      },
      "outputs": [],
      "source": [
        "[col for col in data_apri.columns if col.startswith('Votes_Range')]"
      ]
    },
    {
      "cell_type": "code",
      "execution_count": null,
      "metadata": {
        "id": "0656HH-oZpjR"
      },
      "outputs": [],
      "source": [
        "[col for col in data_apri.columns if col.startswith('Duration')]"
      ]
    },
    {
      "cell_type": "markdown",
      "metadata": {
        "id": "wimMM1i1Xc8L"
      },
      "source": [
        "### แยกตามแต่ละยุค พิจารณา Rating_Quantiles_Excellent"
      ]
    },
    {
      "cell_type": "markdown",
      "metadata": {
        "id": "KHygtB72a1Td"
      },
      "source": [
        "##### Era_Silent"
      ]
    },
    {
      "cell_type": "code",
      "execution_count": null,
      "metadata": {
        "id": "vvpwAwpDXgvu"
      },
      "outputs": [],
      "source": [
        "# คอลัมน์ที่คุณไม่ต้องการ\n",
        "columns_to_remove = [\n",
        "    'Era_Early Sound Era',\n",
        "    'Era_Golden Age of Hollywood',\n",
        "    'Era_New Hollywood',\n",
        "    'Era_Blockbuster Era',\n",
        "    'Era_Internet Age',\n",
        "    'Era_Streaming Era',\n",
        "    'Rating_Quantiles_Poor',\n",
        "    'Rating_Quantiles_Below Average',\n",
        "    # 'Rating_Quantiles_Average',\n",
        "    # 'Rating_Quantiles_Good',\n",
        "    # 'Rating_Quantiles_Excellent',\n",
        "    'Votes_Range_0-9999',\n",
        "    'Votes_Range_10000-19999',\n",
        "    'Votes_Range_20000-29999',\n",
        "    'Votes_Range_30000-39999',\n",
        "    'Votes_Range_40000-49999',\n",
        "    'Votes_Range_50000-59999',\n",
        "    'Votes_Range_60000-69999',\n",
        "    'Votes_Range_70000-79999',\n",
        "    'Votes_Range_80000-89999',\n",
        "    'Votes_Range_90000-99999',\n",
        "    'Votes_Range_100000-109999',\n",
        "    'Votes_Range_110000-119999',\n",
        "    'Votes_Range_120000-129999',\n",
        "    'Votes_Range_130000-139999',\n",
        "    'Votes_Range_140000-149999',\n",
        "    'Votes_Range_150000-159999',\n",
        "    'Votes_Range_160000-169999',\n",
        "    'Votes_Range_170000-179999',\n",
        "    'Votes_Range_180000-189999',\n",
        "    'Votes_Range_190000-199999',\n",
        "    'Votes_Range_200000-209999',\n",
        "    'Votes_Range_210000-219999',\n",
        "    'Votes_Range_220000-229999',\n",
        "    'Votes_Range_230000-239999',\n",
        "    'Votes_Range_240000-249999',\n",
        "    'Votes_Range_250000-259999',\n",
        "    'Votes_Range_260000-269999',\n",
        "    'Votes_Range_270000-279999',\n",
        "    'Votes_Range_280000-289999',\n",
        "    'Votes_Range_290000-299999',\n",
        "    'Votes_Range_300000-309999',\n",
        "    'Votes_Range_310000-319999',\n",
        "    'Votes_Range_320000-329999',\n",
        "    'Votes_Range_330000-339999',\n",
        "    'Votes_Range_340000-349999',\n",
        "    'Votes_Range_350000-359999',\n",
        "    'Votes_Range_360000-369999',\n",
        "    'Votes_Range_370000-379999',\n",
        "    'Votes_Range_380000-389999',\n",
        "    'Votes_Range_390000-399999',\n",
        "    'Votes_Range_400000-409999',\n",
        "    'Votes_Range_410000-419999',\n",
        "    'Votes_Range_420000-429999',\n",
        "    'Votes_Range_430000-439999',\n",
        "    'Votes_Range_440000-449999',\n",
        "    'Votes_Range_450000-459999',\n",
        "    'Votes_Range_460000-469999',\n",
        "    'Votes_Range_470000-479999',\n",
        "    'Votes_Range_480000-489999',\n",
        "    'Votes_Range_490000-499999',\n",
        "    'Votes_Range_500000-509999',\n",
        "    'Votes_Range_510000-519999',\n",
        "    'Votes_Range_520000-529999',\n",
        "    'Votes_Range_530000-539999',\n",
        "    'Votes_Range_540000-549999',\n",
        "    'Votes_Range_550000-559999',\n",
        "    'Votes_Range_560000-569999',\n",
        "    'Votes_Range_570000-579999',\n",
        "    'Votes_Range_580000-589999',\n",
        "    'Votes_Range_590000-599999',\n",
        "    'Duration_Category_Short',\n",
        "    'Duration_Category_Medium',\n",
        "    'Duration_Category_Long',\n",
        "    'Duration_Category_Epic'\n",
        "    ]\n",
        "\n",
        "# ลบคอลัมน์ที่ไม่ต้องการออกจาก DataFrame\n",
        "data_apri_Era_Silent = data_apri.drop(columns=columns_to_remove)\n",
        "data_apri_Era_Silent.head(5)"
      ]
    },
    {
      "cell_type": "code",
      "execution_count": null,
      "metadata": {
        "id": "1edy3aSeaiSn"
      },
      "outputs": [],
      "source": [
        "data_apri_Era_Silent.shape"
      ]
    },
    {
      "cell_type": "code",
      "execution_count": null,
      "metadata": {
        "id": "VJDQwfaIYKpA"
      },
      "outputs": [],
      "source": [
        "apriori(data_apri_Era_Silent, min_support=0.03, use_colnames=True)"
      ]
    },
    {
      "cell_type": "code",
      "execution_count": null,
      "metadata": {
        "id": "7Niyh0UdbH0x"
      },
      "outputs": [],
      "source": [
        "frequentItemsets_Silent =  apriori(data_apri_Era_Silent, min_support=0.03, use_colnames=True)\n",
        "frequentItemsets_Silent"
      ]
    },
    {
      "cell_type": "code",
      "execution_count": null,
      "metadata": {
        "id": "zyzpggRbcSHq"
      },
      "outputs": [],
      "source": [
        "from mlxtend.frequent_patterns import apriori, association_rules\n",
        "\n",
        "# ค่าที่ตั้งต้น\n",
        "min_sup = 0.03\n",
        "\n",
        "# คำนวณ frequent itemsets\n",
        "frequentItemsets_Silent = apriori(data_apri_Era_Silent, min_support=min_sup, use_colnames=True)\n",
        "\n",
        "# สร้างกฎเชื่อมโยง (association rules) จาก frequent itemsets\n",
        "rules = association_rules(frequentItemsets_Silent, metric=\"lift\", min_threshold=1)\n",
        "\n",
        "# แสดงกฎเชื่อมโยง\n",
        "for index, rule in rules.iterrows():\n",
        "    print(f\"RelationRecord(items={rule['antecedents']} + {rule['consequents']}, \"\n",
        "          f\"support={rule['support']}, \"\n",
        "          f\"confidence={rule['confidence']}, \"\n",
        "          f\"lift={rule['lift']})\")"
      ]
    },
    {
      "cell_type": "code",
      "execution_count": null,
      "metadata": {
        "id": "fWEIKFDFeJbO"
      },
      "outputs": [],
      "source": [
        "\n",
        "# filter rules to show only consequents with \"stroke_1\"\n",
        "rules_Genre = rules[rules[\"consequents\"].astype(str).str.contains(\"Genre\")]\n",
        "\n",
        "# print the resulting rules\n",
        "print(rules_Genre)"
      ]
    },
    {
      "cell_type": "code",
      "execution_count": null,
      "metadata": {
        "id": "KvenVhFNeRB-"
      },
      "outputs": [],
      "source": [
        "rules_Genre"
      ]
    },
    {
      "cell_type": "code",
      "execution_count": null,
      "metadata": {
        "id": "Xe_Ad1xseXA0"
      },
      "outputs": [],
      "source": [
        "rules"
      ]
    },
    {
      "cell_type": "code",
      "execution_count": null,
      "metadata": {
        "id": "tXjc7_OWem3u"
      },
      "outputs": [],
      "source": [
        "# filter rules to show only consequents with \"stroke_1\"\n",
        "rules_Genre = rules[rules[\"antecedents\"].astype(str).str.contains(\"Genre\")]\n",
        "\n",
        "# print the resulting rules\n",
        "rules_Genre"
      ]
    },
    {
      "cell_type": "code",
      "execution_count": null,
      "metadata": {
        "id": "Q5vV6RFTdjLs"
      },
      "outputs": [],
      "source": [
        "\n",
        "# # Build association rules\n",
        "# frequent_itemsets = apriori(tdata, min_support=0.01, use_colnames=True)\n",
        "# rules = association_rules(frequent_itemsets, metric=\"lift\", min_threshold=1)"
      ]
    },
    {
      "cell_type": "markdown",
      "metadata": {
        "id": "lKcA2OmYe7XV"
      },
      "source": [
        "##### Era_Early"
      ]
    },
    {
      "cell_type": "code",
      "execution_count": null,
      "metadata": {
        "id": "QVQ2zD5ce7Xl"
      },
      "outputs": [],
      "source": [
        "# คอลัมน์ที่คุณไม่ต้องการ\n",
        "columns_to_remove = [\n",
        "    'Era_Silent Era',\n",
        "    # 'Era_Early Sound Era',\n",
        "    'Era_Golden Age of Hollywood',\n",
        "    'Era_New Hollywood',\n",
        "    'Era_Blockbuster Era',\n",
        "    'Era_Internet Age',\n",
        "    'Era_Streaming Era',\n",
        "    'Rating_Quantiles_Poor',\n",
        "    'Rating_Quantiles_Below Average',\n",
        "    # 'Rating_Quantiles_Average',\n",
        "    # 'Rating_Quantiles_Good',\n",
        "    # 'Rating_Quantiles_Excellent',\n",
        "    'Votes_Range_0-9999',\n",
        "    'Votes_Range_10000-19999',\n",
        "    'Votes_Range_20000-29999',\n",
        "    'Votes_Range_30000-39999',\n",
        "    'Votes_Range_40000-49999',\n",
        "    'Votes_Range_50000-59999',\n",
        "    'Votes_Range_60000-69999',\n",
        "    'Votes_Range_70000-79999',\n",
        "    'Votes_Range_80000-89999',\n",
        "    'Votes_Range_90000-99999',\n",
        "    'Votes_Range_100000-109999',\n",
        "    'Votes_Range_110000-119999',\n",
        "    'Votes_Range_120000-129999',\n",
        "    'Votes_Range_130000-139999',\n",
        "    'Votes_Range_140000-149999',\n",
        "    'Votes_Range_150000-159999',\n",
        "    'Votes_Range_160000-169999',\n",
        "    'Votes_Range_170000-179999',\n",
        "    'Votes_Range_180000-189999',\n",
        "    'Votes_Range_190000-199999',\n",
        "    'Votes_Range_200000-209999',\n",
        "    'Votes_Range_210000-219999',\n",
        "    'Votes_Range_220000-229999',\n",
        "    'Votes_Range_230000-239999',\n",
        "    'Votes_Range_240000-249999',\n",
        "    'Votes_Range_250000-259999',\n",
        "    'Votes_Range_260000-269999',\n",
        "    'Votes_Range_270000-279999',\n",
        "    'Votes_Range_280000-289999',\n",
        "    'Votes_Range_290000-299999',\n",
        "    'Votes_Range_300000-309999',\n",
        "    'Votes_Range_310000-319999',\n",
        "    'Votes_Range_320000-329999',\n",
        "    'Votes_Range_330000-339999',\n",
        "    'Votes_Range_340000-349999',\n",
        "    'Votes_Range_350000-359999',\n",
        "    'Votes_Range_360000-369999',\n",
        "    'Votes_Range_370000-379999',\n",
        "    'Votes_Range_380000-389999',\n",
        "    'Votes_Range_390000-399999',\n",
        "    'Votes_Range_400000-409999',\n",
        "    'Votes_Range_410000-419999',\n",
        "    'Votes_Range_420000-429999',\n",
        "    'Votes_Range_430000-439999',\n",
        "    'Votes_Range_440000-449999',\n",
        "    'Votes_Range_450000-459999',\n",
        "    'Votes_Range_460000-469999',\n",
        "    'Votes_Range_470000-479999',\n",
        "    'Votes_Range_480000-489999',\n",
        "    'Votes_Range_490000-499999',\n",
        "    'Votes_Range_500000-509999',\n",
        "    'Votes_Range_510000-519999',\n",
        "    'Votes_Range_520000-529999',\n",
        "    'Votes_Range_530000-539999',\n",
        "    'Votes_Range_540000-549999',\n",
        "    'Votes_Range_550000-559999',\n",
        "    'Votes_Range_560000-569999',\n",
        "    'Votes_Range_570000-579999',\n",
        "    'Votes_Range_580000-589999',\n",
        "    'Votes_Range_590000-599999',\n",
        "    'Duration_Category_Short',\n",
        "    'Duration_Category_Medium',\n",
        "    'Duration_Category_Long',\n",
        "    'Duration_Category_Epic'\n",
        "    ]\n",
        "\n",
        "# ลบคอลัมน์ที่ไม่ต้องการออกจาก DataFrame\n",
        "data_apri_Era_Early = data_apri.drop(columns=columns_to_remove)\n",
        "data_apri_Era_Early.head(5)"
      ]
    },
    {
      "cell_type": "code",
      "execution_count": null,
      "metadata": {
        "id": "je3OvjsGe7Xm"
      },
      "outputs": [],
      "source": [
        "data_apri_Era_Early.shape"
      ]
    },
    {
      "cell_type": "code",
      "execution_count": null,
      "metadata": {
        "id": "rEcN6doAe7Xm"
      },
      "outputs": [],
      "source": [
        "apriori(data_apri_Era_Early, min_support=0.03, use_colnames=True)"
      ]
    },
    {
      "cell_type": "code",
      "execution_count": null,
      "metadata": {
        "id": "8fnCgq3Ne7Xn"
      },
      "outputs": [],
      "source": [
        "frequentItemsets_Early =  apriori(data_apri_Era_Early, min_support=0.03, use_colnames=True)\n",
        "frequentItemsets_Early"
      ]
    },
    {
      "cell_type": "code",
      "execution_count": null,
      "metadata": {
        "id": "JxPc-AK8e7Xn"
      },
      "outputs": [],
      "source": [
        "from mlxtend.frequent_patterns import apriori, association_rules\n",
        "\n",
        "# ค่าที่ตั้งต้น\n",
        "min_sup = 0.03\n",
        "\n",
        "# คำนวณ frequent itemsets\n",
        "frequentItemsets_Early = apriori(data_apri_Era_Early, min_support=min_sup, use_colnames=True)\n",
        "\n",
        "# สร้างกฎเชื่อมโยง (association rules) จาก frequent itemsets\n",
        "rules = association_rules(frequentItemsets_Early, metric=\"lift\", min_threshold=1)\n",
        "\n",
        "# แสดงกฎเชื่อมโยง\n",
        "for index, rule in rules.iterrows():\n",
        "    print(f\"RelationRecord(items={rule['antecedents']} + {rule['consequents']}, \"\n",
        "          f\"support={rule['support']}, \"\n",
        "          f\"confidence={rule['confidence']}, \"\n",
        "          f\"lift={rule['lift']})\")"
      ]
    },
    {
      "cell_type": "code",
      "execution_count": null,
      "metadata": {
        "id": "aIEXi7KHe7Xn"
      },
      "outputs": [],
      "source": [
        "\n",
        "# filter rules to show only consequents with \"stroke_1\"\n",
        "rules_Genre = rules[rules[\"consequents\"].astype(str).str.contains(\"Genre\")]\n",
        "\n",
        "# print the resulting rules\n",
        "rules_Genre"
      ]
    },
    {
      "cell_type": "code",
      "execution_count": null,
      "metadata": {
        "id": "34riBE_Fe7Xo"
      },
      "outputs": [],
      "source": [
        "# filter rules to show only consequents with \"stroke_1\"\n",
        "rules_Genre = rules[rules[\"antecedents\"].astype(str).str.contains(\"Genre\")]\n",
        "\n",
        "# print the resulting rules\n",
        "rules_Genre"
      ]
    },
    {
      "cell_type": "code",
      "execution_count": null,
      "metadata": {
        "id": "qfwK5y-Re7Xo"
      },
      "outputs": [],
      "source": [
        "rules"
      ]
    },
    {
      "cell_type": "code",
      "execution_count": null,
      "metadata": {
        "id": "vBKebIXUe7Xo"
      },
      "outputs": [],
      "source": [
        "\n",
        "# # Build association rules\n",
        "# frequent_itemsets = apriori(tdata, min_support=0.01, use_colnames=True)\n",
        "# rules = association_rules(frequent_itemsets, metric=\"lift\", min_threshold=1)"
      ]
    },
    {
      "cell_type": "markdown",
      "metadata": {
        "id": "4vtTsRELgbyD"
      },
      "source": [
        "##### Era_Golden"
      ]
    },
    {
      "cell_type": "code",
      "execution_count": null,
      "metadata": {
        "id": "8YGr0xYagbyZ"
      },
      "outputs": [],
      "source": [
        "data_apri_Era_Golden.shape"
      ]
    },
    {
      "cell_type": "code",
      "execution_count": null,
      "metadata": {
        "id": "bfqC__Digbya"
      },
      "outputs": [],
      "source": [
        "apriori(data_apri_Era_Golden, min_support=0.03, use_colnames=True)"
      ]
    },
    {
      "cell_type": "code",
      "execution_count": null,
      "metadata": {
        "id": "-mfTs_44gbya"
      },
      "outputs": [],
      "source": [
        "frequentItemsets_Golden =  apriori(data_apri_Era_Golden, min_support=0.03, use_colnames=True)\n",
        "frequentItemsets_Golden"
      ]
    },
    {
      "cell_type": "code",
      "execution_count": null,
      "metadata": {
        "id": "PEQyTe9pgbyb"
      },
      "outputs": [],
      "source": [
        "from mlxtend.frequent_patterns import apriori, association_rules\n",
        "\n",
        "# ค่าที่ตั้งต้น\n",
        "min_sup = 0.03\n",
        "\n",
        "# คำนวณ frequent itemsets\n",
        "frequentItemsets_Golden = apriori(data_apri_Era_Golden, min_support=min_sup, use_colnames=True)\n",
        "\n",
        "# สร้างกฎเชื่อมโยง (association rules) จาก frequent itemsets\n",
        "rules = association_rules(frequentItemsets_Golden, metric=\"lift\", min_threshold=1)\n",
        "\n",
        "# แสดงกฎเชื่อมโยง\n",
        "for index, rule in rules.iterrows():\n",
        "    print(f\"RelationRecord(items={rule['antecedents']} + {rule['consequents']}, \"\n",
        "          f\"support={rule['support']}, \"\n",
        "          f\"confidence={rule['confidence']}, \"\n",
        "          f\"lift={rule['lift']})\")"
      ]
    },
    {
      "cell_type": "code",
      "execution_count": null,
      "metadata": {
        "id": "4INUSAC5gbyb"
      },
      "outputs": [],
      "source": [
        "\n",
        "# filter rules to show only consequents with \"stroke_1\"\n",
        "rules_Genre = rules[rules[\"consequents\"].astype(str).str.contains(\"Genre\")]\n",
        "\n",
        "# print the resulting rules\n",
        "rules_Genre"
      ]
    },
    {
      "cell_type": "code",
      "execution_count": null,
      "metadata": {
        "id": "bFyhr5Mugbyc"
      },
      "outputs": [],
      "source": [
        "# filter rules to show only consequents with \"stroke_1\"\n",
        "rules_Genre = rules[rules[\"antecedents\"].astype(str).str.contains(\"Genre\")]\n",
        "\n",
        "# print the resulting rules\n",
        "rules_Genre"
      ]
    },
    {
      "cell_type": "code",
      "execution_count": null,
      "metadata": {
        "id": "-pgtQuOBgbyc"
      },
      "outputs": [],
      "source": [
        "rules"
      ]
    },
    {
      "cell_type": "markdown",
      "metadata": {
        "id": "fuLrpkaDhTox"
      },
      "source": [
        "##### Era_Hollywood"
      ]
    },
    {
      "cell_type": "code",
      "execution_count": null,
      "metadata": {
        "id": "iNLyA9LlhTpF"
      },
      "outputs": [],
      "source": [
        "# คอลัมน์ที่คุณไม่ต้องการ\n",
        "columns_to_remove = [\n",
        "    'Era_Silent Era',\n",
        "    'Era_Early Sound Era',\n",
        "    'Era_Golden Age of Hollywood',\n",
        "    # 'Era_New Hollywood',\n",
        "    'Era_Blockbuster Era',\n",
        "    'Era_Internet Age',\n",
        "    'Era_Streaming Era',\n",
        "    'Rating_Quantiles_Poor',\n",
        "    'Rating_Quantiles_Below Average',\n",
        "    # 'Rating_Quantiles_Average',\n",
        "    # 'Rating_Quantiles_Good',\n",
        "    # 'Rating_Quantiles_Excellent',\n",
        "    'Votes_Range_0-9999',\n",
        "    'Votes_Range_10000-19999',\n",
        "    'Votes_Range_20000-29999',\n",
        "    'Votes_Range_30000-39999',\n",
        "    'Votes_Range_40000-49999',\n",
        "    'Votes_Range_50000-59999',\n",
        "    'Votes_Range_60000-69999',\n",
        "    'Votes_Range_70000-79999',\n",
        "    'Votes_Range_80000-89999',\n",
        "    'Votes_Range_90000-99999',\n",
        "    'Votes_Range_100000-109999',\n",
        "    'Votes_Range_110000-119999',\n",
        "    'Votes_Range_120000-129999',\n",
        "    'Votes_Range_130000-139999',\n",
        "    'Votes_Range_140000-149999',\n",
        "    'Votes_Range_150000-159999',\n",
        "    'Votes_Range_160000-169999',\n",
        "    'Votes_Range_170000-179999',\n",
        "    'Votes_Range_180000-189999',\n",
        "    'Votes_Range_190000-199999',\n",
        "    'Votes_Range_200000-209999',\n",
        "    'Votes_Range_210000-219999',\n",
        "    'Votes_Range_220000-229999',\n",
        "    'Votes_Range_230000-239999',\n",
        "    'Votes_Range_240000-249999',\n",
        "    'Votes_Range_250000-259999',\n",
        "    'Votes_Range_260000-269999',\n",
        "    'Votes_Range_270000-279999',\n",
        "    'Votes_Range_280000-289999',\n",
        "    'Votes_Range_290000-299999',\n",
        "    'Votes_Range_300000-309999',\n",
        "    'Votes_Range_310000-319999',\n",
        "    'Votes_Range_320000-329999',\n",
        "    'Votes_Range_330000-339999',\n",
        "    'Votes_Range_340000-349999',\n",
        "    'Votes_Range_350000-359999',\n",
        "    'Votes_Range_360000-369999',\n",
        "    'Votes_Range_370000-379999',\n",
        "    'Votes_Range_380000-389999',\n",
        "    'Votes_Range_390000-399999',\n",
        "    'Votes_Range_400000-409999',\n",
        "    'Votes_Range_410000-419999',\n",
        "    'Votes_Range_420000-429999',\n",
        "    'Votes_Range_430000-439999',\n",
        "    'Votes_Range_440000-449999',\n",
        "    'Votes_Range_450000-459999',\n",
        "    'Votes_Range_460000-469999',\n",
        "    'Votes_Range_470000-479999',\n",
        "    'Votes_Range_480000-489999',\n",
        "    'Votes_Range_490000-499999',\n",
        "    'Votes_Range_500000-509999',\n",
        "    'Votes_Range_510000-519999',\n",
        "    'Votes_Range_520000-529999',\n",
        "    'Votes_Range_530000-539999',\n",
        "    'Votes_Range_540000-549999',\n",
        "    'Votes_Range_550000-559999',\n",
        "    'Votes_Range_560000-569999',\n",
        "    'Votes_Range_570000-579999',\n",
        "    'Votes_Range_580000-589999',\n",
        "    'Votes_Range_590000-599999',\n",
        "    'Duration_Category_Short',\n",
        "    'Duration_Category_Medium',\n",
        "    'Duration_Category_Long',\n",
        "    'Duration_Category_Epic'\n",
        "    ]\n",
        "\n",
        "# ลบคอลัมน์ที่ไม่ต้องการออกจาก DataFrame\n",
        "data_apri_Era_Hollywood = data_apri.drop(columns=columns_to_remove)\n",
        "data_apri_Era_Hollywood.head(5)"
      ]
    },
    {
      "cell_type": "code",
      "execution_count": null,
      "metadata": {
        "id": "Xxb6u-q5hTpG"
      },
      "outputs": [],
      "source": [
        "data_apri_Era_Hollywood.shape"
      ]
    },
    {
      "cell_type": "code",
      "execution_count": null,
      "metadata": {
        "id": "5Ta0bgXahTpH"
      },
      "outputs": [],
      "source": [
        "apriori(data_apri_Era_Hollywood, min_support=0.03, use_colnames=True)"
      ]
    },
    {
      "cell_type": "code",
      "execution_count": null,
      "metadata": {
        "id": "NtyEioakhTpH"
      },
      "outputs": [],
      "source": [
        "frequentItemsets_Hollywood =  apriori(data_apri_Era_Hollywood, min_support=0.03, use_colnames=True)\n",
        "frequentItemsets_Hollywood"
      ]
    },
    {
      "cell_type": "code",
      "execution_count": null,
      "metadata": {
        "id": "r_TP19gWhTpI"
      },
      "outputs": [],
      "source": [
        "from mlxtend.frequent_patterns import apriori, association_rules\n",
        "\n",
        "# ค่าที่ตั้งต้น\n",
        "min_sup = 0.03\n",
        "\n",
        "# คำนวณ frequent itemsets\n",
        "frequentItemsets_Hollywood = apriori(data_apri_Era_Hollywood, min_support=min_sup, use_colnames=True)\n",
        "\n",
        "# สร้างกฎเชื่อมโยง (association rules) จาก frequent itemsets\n",
        "rules = association_rules(frequentItemsets_Hollywood, metric=\"lift\", min_threshold=1)\n",
        "\n",
        "# แสดงกฎเชื่อมโยง\n",
        "for index, rule in rules.iterrows():\n",
        "    print(f\"RelationRecord(items={rule['antecedents']} + {rule['consequents']}, \"\n",
        "          f\"support={rule['support']}, \"\n",
        "          f\"confidence={rule['confidence']}, \"\n",
        "          f\"lift={rule['lift']})\")"
      ]
    },
    {
      "cell_type": "code",
      "execution_count": null,
      "metadata": {
        "id": "4Xde3BGYhTpI"
      },
      "outputs": [],
      "source": [
        "\n",
        "# filter rules to show only consequents with \"stroke_1\"\n",
        "rules_Genre = rules[rules[\"consequents\"].astype(str).str.contains(\"Genre\")]\n",
        "\n",
        "# print the resulting rules\n",
        "rules_Genre"
      ]
    },
    {
      "cell_type": "code",
      "execution_count": null,
      "metadata": {
        "id": "5hYYb0qLhTpJ"
      },
      "outputs": [],
      "source": [
        "# filter rules to show only consequents with \"stroke_1\"\n",
        "rules_Genre = rules[rules[\"antecedents\"].astype(str).str.contains(\"Genre\")]\n",
        "\n",
        "# print the resulting rules\n",
        "rules_Genre"
      ]
    },
    {
      "cell_type": "code",
      "execution_count": null,
      "metadata": {
        "id": "0XQ0hVjbhTpJ"
      },
      "outputs": [],
      "source": [
        "rules"
      ]
    },
    {
      "cell_type": "markdown",
      "metadata": {
        "id": "34MM8TETi20K"
      },
      "source": [
        "##### Era_Blockbuster"
      ]
    },
    {
      "cell_type": "code",
      "execution_count": null,
      "metadata": {
        "id": "cKOUB5DXi20g"
      },
      "outputs": [],
      "source": [
        "# คอลัมน์ที่คุณไม่ต้องการ\n",
        "columns_to_remove = [\n",
        "    'Era_Silent Era',\n",
        "    'Era_Early Sound Era',\n",
        "    'Era_Golden Age of Hollywood',\n",
        "    'Era_New Hollywood',\n",
        "    # 'Era_Blockbuster Era',\n",
        "    'Era_Internet Age',\n",
        "    'Era_Streaming Era',\n",
        "    'Rating_Quantiles_Poor',\n",
        "    'Rating_Quantiles_Below Average',\n",
        "    # 'Rating_Quantiles_Average',\n",
        "    # 'Rating_Quantiles_Good',\n",
        "    # 'Rating_Quantiles_Excellent',\n",
        "    'Votes_Range_0-9999',\n",
        "    'Votes_Range_10000-19999',\n",
        "    'Votes_Range_20000-29999',\n",
        "    'Votes_Range_30000-39999',\n",
        "    'Votes_Range_40000-49999',\n",
        "    'Votes_Range_50000-59999',\n",
        "    'Votes_Range_60000-69999',\n",
        "    'Votes_Range_70000-79999',\n",
        "    'Votes_Range_80000-89999',\n",
        "    'Votes_Range_90000-99999',\n",
        "    'Votes_Range_100000-109999',\n",
        "    'Votes_Range_110000-119999',\n",
        "    'Votes_Range_120000-129999',\n",
        "    'Votes_Range_130000-139999',\n",
        "    'Votes_Range_140000-149999',\n",
        "    'Votes_Range_150000-159999',\n",
        "    'Votes_Range_160000-169999',\n",
        "    'Votes_Range_170000-179999',\n",
        "    'Votes_Range_180000-189999',\n",
        "    'Votes_Range_190000-199999',\n",
        "    'Votes_Range_200000-209999',\n",
        "    'Votes_Range_210000-219999',\n",
        "    'Votes_Range_220000-229999',\n",
        "    'Votes_Range_230000-239999',\n",
        "    'Votes_Range_240000-249999',\n",
        "    'Votes_Range_250000-259999',\n",
        "    'Votes_Range_260000-269999',\n",
        "    'Votes_Range_270000-279999',\n",
        "    'Votes_Range_280000-289999',\n",
        "    'Votes_Range_290000-299999',\n",
        "    'Votes_Range_300000-309999',\n",
        "    'Votes_Range_310000-319999',\n",
        "    'Votes_Range_320000-329999',\n",
        "    'Votes_Range_330000-339999',\n",
        "    'Votes_Range_340000-349999',\n",
        "    'Votes_Range_350000-359999',\n",
        "    'Votes_Range_360000-369999',\n",
        "    'Votes_Range_370000-379999',\n",
        "    'Votes_Range_380000-389999',\n",
        "    'Votes_Range_390000-399999',\n",
        "    'Votes_Range_400000-409999',\n",
        "    'Votes_Range_410000-419999',\n",
        "    'Votes_Range_420000-429999',\n",
        "    'Votes_Range_430000-439999',\n",
        "    'Votes_Range_440000-449999',\n",
        "    'Votes_Range_450000-459999',\n",
        "    'Votes_Range_460000-469999',\n",
        "    'Votes_Range_470000-479999',\n",
        "    'Votes_Range_480000-489999',\n",
        "    'Votes_Range_490000-499999',\n",
        "    'Votes_Range_500000-509999',\n",
        "    'Votes_Range_510000-519999',\n",
        "    'Votes_Range_520000-529999',\n",
        "    'Votes_Range_530000-539999',\n",
        "    'Votes_Range_540000-549999',\n",
        "    'Votes_Range_550000-559999',\n",
        "    'Votes_Range_560000-569999',\n",
        "    'Votes_Range_570000-579999',\n",
        "    'Votes_Range_580000-589999',\n",
        "    'Votes_Range_590000-599999',\n",
        "    'Duration_Category_Short',\n",
        "    'Duration_Category_Medium',\n",
        "    'Duration_Category_Long',\n",
        "    'Duration_Category_Epic'\n",
        "    ]\n",
        "\n",
        "# ลบคอลัมน์ที่ไม่ต้องการออกจาก DataFrame\n",
        "data_apri_Era_Blockbuster = data_apri.drop(columns=columns_to_remove)\n",
        "data_apri_Era_Blockbuster.head(5)"
      ]
    },
    {
      "cell_type": "code",
      "execution_count": null,
      "metadata": {
        "id": "0UKVr2-ni20g"
      },
      "outputs": [],
      "source": [
        "data_apri_Era_Blockbuster.shape"
      ]
    },
    {
      "cell_type": "code",
      "execution_count": null,
      "metadata": {
        "id": "Bf5ul1UDi20h"
      },
      "outputs": [],
      "source": [
        "apriori(data_apri_Era_Blockbuster, min_support=0.03, use_colnames=True)"
      ]
    },
    {
      "cell_type": "code",
      "execution_count": null,
      "metadata": {
        "id": "tJycnAISi20h"
      },
      "outputs": [],
      "source": [
        "frequentItemsets_Blockbuster =  apriori(data_apri_Era_Blockbuster, min_support=0.03, use_colnames=True)\n",
        "frequentItemsets_Blockbuster"
      ]
    },
    {
      "cell_type": "code",
      "execution_count": null,
      "metadata": {
        "id": "b874qP2li20h"
      },
      "outputs": [],
      "source": [
        "from mlxtend.frequent_patterns import apriori, association_rules\n",
        "\n",
        "# ค่าที่ตั้งต้น\n",
        "min_sup = 0.03\n",
        "\n",
        "# คำนวณ frequent itemsets\n",
        "frequentItemsets_Blockbuster = apriori(data_apri_Era_Blockbuster, min_support=min_sup, use_colnames=True)\n",
        "\n",
        "# สร้างกฎเชื่อมโยง (association rules) จาก frequent itemsets\n",
        "rules = association_rules(frequentItemsets_Blockbuster, metric=\"lift\", min_threshold=1)\n",
        "\n",
        "# แสดงกฎเชื่อมโยง\n",
        "for index, rule in rules.iterrows():\n",
        "    print(f\"RelationRecord(items={rule['antecedents']} + {rule['consequents']}, \"\n",
        "          f\"support={rule['support']}, \"\n",
        "          f\"confidence={rule['confidence']}, \"\n",
        "          f\"lift={rule['lift']})\")"
      ]
    },
    {
      "cell_type": "code",
      "execution_count": null,
      "metadata": {
        "id": "dHC4fKRzi20i"
      },
      "outputs": [],
      "source": [
        "\n",
        "# filter rules to show only consequents with \"stroke_1\"\n",
        "rules_Genre = rules[rules[\"consequents\"].astype(str).str.contains(\"Genre\")]\n",
        "\n",
        "# print the resulting rules\n",
        "rules_Genre"
      ]
    },
    {
      "cell_type": "code",
      "execution_count": null,
      "metadata": {
        "id": "M5rY5JgWi20i"
      },
      "outputs": [],
      "source": [
        "# filter rules to show only consequents with \"stroke_1\"\n",
        "rules_Genre = rules[rules[\"antecedents\"].astype(str).str.contains(\"Genre\")]\n",
        "\n",
        "# print the resulting rules\n",
        "rules_Genre"
      ]
    },
    {
      "cell_type": "code",
      "execution_count": null,
      "metadata": {
        "id": "cahTt4v1j5bT"
      },
      "outputs": [],
      "source": [
        "# # กรองกฎเชื่อมโยงที่ antecedents มีคำว่า \"Genre\"\n",
        "# rules_Genre = rules[\n",
        "#     (rules[\"antecedents\"].astype(str).str.contains(\"Genre\")) &\n",
        "#     (rules[\"consequents\"].astype(str).str.contains(\"Rating\"))\n",
        "# ]\n",
        "\n",
        "# # แสดงผลลัพธ์ที่กรองแล้ว\n",
        "# rules_Genre\n"
      ]
    },
    {
      "cell_type": "code",
      "execution_count": null,
      "metadata": {
        "id": "JRFgpDuMkJm5"
      },
      "outputs": [],
      "source": [
        "# กรองกฎเชื่อมโยงที่ antecedents มีคำว่า \"Genre\"\n",
        "rules_Genre = rules[\n",
        "    (rules[\"consequents\"].astype(str).str.contains(\"Genre\")) &\n",
        "    (rules[\"antecedents\"].astype(str).str.contains(\"Rating\"))\n",
        "]\n",
        "\n",
        "# แสดงผลลัพธ์ที่กรองแล้ว\n",
        "rules_Genre"
      ]
    },
    {
      "cell_type": "code",
      "execution_count": null,
      "metadata": {
        "id": "6pMIMpTVi20i"
      },
      "outputs": [],
      "source": [
        "rules"
      ]
    },
    {
      "cell_type": "markdown",
      "metadata": {
        "id": "gYj53Y6EkUxW"
      },
      "source": [
        "##### Era_Internet"
      ]
    },
    {
      "cell_type": "code",
      "execution_count": null,
      "metadata": {
        "id": "VDLAD5s_kUxr"
      },
      "outputs": [],
      "source": [
        "# คอลัมน์ที่คุณไม่ต้องการ\n",
        "columns_to_remove = [\n",
        "    'Era_Silent Era',\n",
        "    'Era_Early Sound Era',\n",
        "    'Era_Golden Age of Hollywood',\n",
        "    'Era_New Hollywood',\n",
        "    'Era_Blockbuster Era',\n",
        "    # 'Era_Internet Age',\n",
        "    'Era_Streaming Era',\n",
        "    'Rating_Quantiles_Poor',\n",
        "    'Rating_Quantiles_Below Average',\n",
        "    # 'Rating_Quantiles_Average',\n",
        "    # 'Rating_Quantiles_Good',\n",
        "    # 'Rating_Quantiles_Excellent',\n",
        "    'Votes_Range_0-9999',\n",
        "    'Votes_Range_10000-19999',\n",
        "    'Votes_Range_20000-29999',\n",
        "    'Votes_Range_30000-39999',\n",
        "    'Votes_Range_40000-49999',\n",
        "    'Votes_Range_50000-59999',\n",
        "    'Votes_Range_60000-69999',\n",
        "    'Votes_Range_70000-79999',\n",
        "    'Votes_Range_80000-89999',\n",
        "    'Votes_Range_90000-99999',\n",
        "    'Votes_Range_100000-109999',\n",
        "    'Votes_Range_110000-119999',\n",
        "    'Votes_Range_120000-129999',\n",
        "    'Votes_Range_130000-139999',\n",
        "    'Votes_Range_140000-149999',\n",
        "    'Votes_Range_150000-159999',\n",
        "    'Votes_Range_160000-169999',\n",
        "    'Votes_Range_170000-179999',\n",
        "    'Votes_Range_180000-189999',\n",
        "    'Votes_Range_190000-199999',\n",
        "    'Votes_Range_200000-209999',\n",
        "    'Votes_Range_210000-219999',\n",
        "    'Votes_Range_220000-229999',\n",
        "    'Votes_Range_230000-239999',\n",
        "    'Votes_Range_240000-249999',\n",
        "    'Votes_Range_250000-259999',\n",
        "    'Votes_Range_260000-269999',\n",
        "    'Votes_Range_270000-279999',\n",
        "    'Votes_Range_280000-289999',\n",
        "    'Votes_Range_290000-299999',\n",
        "    'Votes_Range_300000-309999',\n",
        "    'Votes_Range_310000-319999',\n",
        "    'Votes_Range_320000-329999',\n",
        "    'Votes_Range_330000-339999',\n",
        "    'Votes_Range_340000-349999',\n",
        "    'Votes_Range_350000-359999',\n",
        "    'Votes_Range_360000-369999',\n",
        "    'Votes_Range_370000-379999',\n",
        "    'Votes_Range_380000-389999',\n",
        "    'Votes_Range_390000-399999',\n",
        "    'Votes_Range_400000-409999',\n",
        "    'Votes_Range_410000-419999',\n",
        "    'Votes_Range_420000-429999',\n",
        "    'Votes_Range_430000-439999',\n",
        "    'Votes_Range_440000-449999',\n",
        "    'Votes_Range_450000-459999',\n",
        "    'Votes_Range_460000-469999',\n",
        "    'Votes_Range_470000-479999',\n",
        "    'Votes_Range_480000-489999',\n",
        "    'Votes_Range_490000-499999',\n",
        "    'Votes_Range_500000-509999',\n",
        "    'Votes_Range_510000-519999',\n",
        "    'Votes_Range_520000-529999',\n",
        "    'Votes_Range_530000-539999',\n",
        "    'Votes_Range_540000-549999',\n",
        "    'Votes_Range_550000-559999',\n",
        "    'Votes_Range_560000-569999',\n",
        "    'Votes_Range_570000-579999',\n",
        "    'Votes_Range_580000-589999',\n",
        "    'Votes_Range_590000-599999',\n",
        "    'Duration_Category_Short',\n",
        "    'Duration_Category_Medium',\n",
        "    'Duration_Category_Long',\n",
        "    'Duration_Category_Epic'\n",
        "    ]\n",
        "\n",
        "# ลบคอลัมน์ที่ไม่ต้องการออกจาก DataFrame\n",
        "data_apri_Era_Internet = data_apri.drop(columns=columns_to_remove)\n",
        "data_apri_Era_Internet.head(5)"
      ]
    },
    {
      "cell_type": "code",
      "execution_count": null,
      "metadata": {
        "id": "oNyNPbxQkUxs"
      },
      "outputs": [],
      "source": [
        "data_apri_Era_Internet.shape"
      ]
    },
    {
      "cell_type": "code",
      "execution_count": null,
      "metadata": {
        "id": "Xu9EJlmYkUxt"
      },
      "outputs": [],
      "source": [
        "apriori(data_apri_Era_Internet, min_support=0.03, use_colnames=True)"
      ]
    },
    {
      "cell_type": "code",
      "execution_count": null,
      "metadata": {
        "id": "_scjO1KHkUxt"
      },
      "outputs": [],
      "source": [
        "frequentItemsets_Internet =  apriori(data_apri_Era_Internet, min_support=0.03, use_colnames=True)\n",
        "frequentItemsets_Internet"
      ]
    },
    {
      "cell_type": "code",
      "execution_count": null,
      "metadata": {
        "id": "rgT9E7wgkUxu"
      },
      "outputs": [],
      "source": [
        "from mlxtend.frequent_patterns import apriori, association_rules\n",
        "\n",
        "# ค่าที่ตั้งต้น\n",
        "min_sup = 0.03\n",
        "\n",
        "# คำนวณ frequent itemsets\n",
        "frequentItemsets_Internet = apriori(data_apri_Era_Internet, min_support=min_sup, use_colnames=True)\n",
        "\n",
        "# สร้างกฎเชื่อมโยง (association rules) จาก frequent itemsets\n",
        "rules = association_rules(frequentItemsets_Internet, metric=\"lift\", min_threshold=1)\n",
        "\n",
        "# แสดงกฎเชื่อมโยง\n",
        "for index, rule in rules.iterrows():\n",
        "    print(f\"RelationRecord(items={rule['antecedents']} + {rule['consequents']}, \"\n",
        "          f\"support={rule['support']}, \"\n",
        "          f\"confidence={rule['confidence']}, \"\n",
        "          f\"lift={rule['lift']})\")"
      ]
    },
    {
      "cell_type": "code",
      "execution_count": null,
      "metadata": {
        "id": "qHWD7xbzkUxu"
      },
      "outputs": [],
      "source": [
        "\n",
        "# filter rules to show only consequents with \"stroke_1\"\n",
        "rules_Genre = rules[rules[\"consequents\"].astype(str).str.contains(\"Genre\")]\n",
        "\n",
        "# print the resulting rules\n",
        "rules_Genre"
      ]
    },
    {
      "cell_type": "code",
      "execution_count": null,
      "metadata": {
        "id": "5OPKf7WvkUxu"
      },
      "outputs": [],
      "source": [
        "# filter rules to show only consequents with \"stroke_1\"\n",
        "rules_Genre = rules[rules[\"antecedents\"].astype(str).str.contains(\"Genre\")]\n",
        "\n",
        "# print the resulting rules\n",
        "rules_Genre"
      ]
    },
    {
      "cell_type": "code",
      "execution_count": null,
      "metadata": {
        "id": "C1stRSybkUxv"
      },
      "outputs": [],
      "source": [
        "rules"
      ]
    },
    {
      "cell_type": "code",
      "execution_count": null,
      "metadata": {
        "id": "ZUsL2Wr9kUxv"
      },
      "outputs": [],
      "source": [
        "# # กรองกฎเชื่อมโยงที่ antecedents มีคำว่า \"Genre\"\n",
        "# rules_Genre = rules[\n",
        "#     (rules[\"antecedents\"].astype(str).str.contains(\"Genre\")) &\n",
        "#     (rules[\"consequents\"].astype(str).str.contains(\"Rating\"))\n",
        "# ]\n",
        "\n",
        "# # แสดงผลลัพธ์ที่กรองแล้ว\n",
        "# rules_Genre\n"
      ]
    },
    {
      "cell_type": "code",
      "execution_count": null,
      "metadata": {
        "id": "N2tf1HMrkUxv"
      },
      "outputs": [],
      "source": [
        "# # กรองกฎเชื่อมโยงที่ antecedents มีคำว่า \"Genre\"\n",
        "# rules_Genre = rules[\n",
        "#     (rules[\"consequents\"].astype(str).str.contains(\"Genre\")) &\n",
        "#     (rules[\"antecedents\"].astype(str).str.contains(\"Rating\"))\n",
        "# ]\n",
        "\n",
        "# # แสดงผลลัพธ์ที่กรองแล้ว\n",
        "# rules_Genre"
      ]
    },
    {
      "cell_type": "markdown",
      "metadata": {
        "id": "TWMjltf_k45c"
      },
      "source": [
        "##### Era_Streaming"
      ]
    },
    {
      "cell_type": "code",
      "execution_count": null,
      "metadata": {
        "id": "l7_V5RbHk45x"
      },
      "outputs": [],
      "source": [
        "# คอลัมน์ที่คุณไม่ต้องการ\n",
        "columns_to_remove = [\n",
        "    'Era_Silent Era',\n",
        "    'Era_Early Sound Era',\n",
        "    'Era_Golden Age of Hollywood',\n",
        "    'Era_New Hollywood',\n",
        "    'Era_Blockbuster Era',\n",
        "    'Era_Internet Age',\n",
        "    # 'Era_Streaming Era',\n",
        "    'Rating_Quantiles_Poor',\n",
        "    'Rating_Quantiles_Below Average',\n",
        "    # 'Rating_Quantiles_Average',\n",
        "    # 'Rating_Quantiles_Good',\n",
        "    # 'Rating_Quantiles_Excellent',\n",
        "    'Votes_Range_0-9999',\n",
        "    'Votes_Range_10000-19999',\n",
        "    'Votes_Range_20000-29999',\n",
        "    'Votes_Range_30000-39999',\n",
        "    'Votes_Range_40000-49999',\n",
        "    'Votes_Range_50000-59999',\n",
        "    'Votes_Range_60000-69999',\n",
        "    'Votes_Range_70000-79999',\n",
        "    'Votes_Range_80000-89999',\n",
        "    'Votes_Range_90000-99999',\n",
        "    'Votes_Range_100000-109999',\n",
        "    'Votes_Range_110000-119999',\n",
        "    'Votes_Range_120000-129999',\n",
        "    'Votes_Range_130000-139999',\n",
        "    'Votes_Range_140000-149999',\n",
        "    'Votes_Range_150000-159999',\n",
        "    'Votes_Range_160000-169999',\n",
        "    'Votes_Range_170000-179999',\n",
        "    'Votes_Range_180000-189999',\n",
        "    'Votes_Range_190000-199999',\n",
        "    'Votes_Range_200000-209999',\n",
        "    'Votes_Range_210000-219999',\n",
        "    'Votes_Range_220000-229999',\n",
        "    'Votes_Range_230000-239999',\n",
        "    'Votes_Range_240000-249999',\n",
        "    'Votes_Range_250000-259999',\n",
        "    'Votes_Range_260000-269999',\n",
        "    'Votes_Range_270000-279999',\n",
        "    'Votes_Range_280000-289999',\n",
        "    'Votes_Range_290000-299999',\n",
        "    'Votes_Range_300000-309999',\n",
        "    'Votes_Range_310000-319999',\n",
        "    'Votes_Range_320000-329999',\n",
        "    'Votes_Range_330000-339999',\n",
        "    'Votes_Range_340000-349999',\n",
        "    'Votes_Range_350000-359999',\n",
        "    'Votes_Range_360000-369999',\n",
        "    'Votes_Range_370000-379999',\n",
        "    'Votes_Range_380000-389999',\n",
        "    'Votes_Range_390000-399999',\n",
        "    'Votes_Range_400000-409999',\n",
        "    'Votes_Range_410000-419999',\n",
        "    'Votes_Range_420000-429999',\n",
        "    'Votes_Range_430000-439999',\n",
        "    'Votes_Range_440000-449999',\n",
        "    'Votes_Range_450000-459999',\n",
        "    'Votes_Range_460000-469999',\n",
        "    'Votes_Range_470000-479999',\n",
        "    'Votes_Range_480000-489999',\n",
        "    'Votes_Range_490000-499999',\n",
        "    'Votes_Range_500000-509999',\n",
        "    'Votes_Range_510000-519999',\n",
        "    'Votes_Range_520000-529999',\n",
        "    'Votes_Range_530000-539999',\n",
        "    'Votes_Range_540000-549999',\n",
        "    'Votes_Range_550000-559999',\n",
        "    'Votes_Range_560000-569999',\n",
        "    'Votes_Range_570000-579999',\n",
        "    'Votes_Range_580000-589999',\n",
        "    'Votes_Range_590000-599999',\n",
        "    'Duration_Category_Short',\n",
        "    'Duration_Category_Medium',\n",
        "    'Duration_Category_Long',\n",
        "    'Duration_Category_Epic'\n",
        "    ]\n",
        "\n",
        "# ลบคอลัมน์ที่ไม่ต้องการออกจาก DataFrame\n",
        "data_apri_Era_Streaming = data_apri.drop(columns=columns_to_remove)\n",
        "data_apri_Era_Streaming.head(5)"
      ]
    },
    {
      "cell_type": "code",
      "execution_count": null,
      "metadata": {
        "id": "tnts5PlVk45y"
      },
      "outputs": [],
      "source": [
        "data_apri_Era_Streaming.shape"
      ]
    },
    {
      "cell_type": "code",
      "execution_count": null,
      "metadata": {
        "id": "Fv9AXedZk45z"
      },
      "outputs": [],
      "source": [
        "apriori(data_apri_Era_Streaming, min_support=0.03, use_colnames=True)"
      ]
    },
    {
      "cell_type": "code",
      "execution_count": null,
      "metadata": {
        "id": "A7yiYdJ6k450"
      },
      "outputs": [],
      "source": [
        "frequentItemsets_Streaming =  apriori(data_apri_Era_Streaming, min_support=0.03, use_colnames=True)\n",
        "frequentItemsets_Streaming"
      ]
    },
    {
      "cell_type": "code",
      "execution_count": null,
      "metadata": {
        "id": "FM-QgPKTk450"
      },
      "outputs": [],
      "source": [
        "from mlxtend.frequent_patterns import apriori, association_rules\n",
        "\n",
        "# ค่าที่ตั้งต้น\n",
        "min_sup = 0.03\n",
        "\n",
        "# คำนวณ frequent itemsets\n",
        "frequentItemsets_Streaming = apriori(data_apri_Era_Streaming, min_support=min_sup, use_colnames=True)\n",
        "\n",
        "# สร้างกฎเชื่อมโยง (association rules) จาก frequent itemsets\n",
        "rules = association_rules(frequentItemsets_Streaming, metric=\"lift\", min_threshold=1)\n",
        "\n",
        "# แสดงกฎเชื่อมโยง\n",
        "for index, rule in rules.iterrows():\n",
        "    print(f\"RelationRecord(items={rule['antecedents']} + {rule['consequents']}, \"\n",
        "          f\"support={rule['support']}, \"\n",
        "          f\"confidence={rule['confidence']}, \"\n",
        "          f\"lift={rule['lift']})\")"
      ]
    },
    {
      "cell_type": "code",
      "execution_count": null,
      "metadata": {
        "id": "cwVbrLYck450"
      },
      "outputs": [],
      "source": [
        "\n",
        "# filter rules to show only consequents with \"stroke_1\"\n",
        "rules_Genre = rules[rules[\"consequents\"].astype(str).str.contains(\"Genre\")]\n",
        "\n",
        "# print the resulting rules\n",
        "rules_Genre"
      ]
    },
    {
      "cell_type": "code",
      "execution_count": null,
      "metadata": {
        "id": "ADouauNDk451"
      },
      "outputs": [],
      "source": [
        "# filter rules to show only consequents with \"stroke_1\"\n",
        "rules_Genre = rules[rules[\"antecedents\"].astype(str).str.contains(\"Genre\")]\n",
        "\n",
        "# print the resulting rules\n",
        "rules_Genre"
      ]
    },
    {
      "cell_type": "code",
      "execution_count": null,
      "metadata": {
        "id": "ikMjYb_9k451"
      },
      "outputs": [],
      "source": [
        "rules"
      ]
    },
    {
      "cell_type": "code",
      "execution_count": null,
      "metadata": {
        "id": "SjyaeQKik452"
      },
      "outputs": [],
      "source": [
        "# # กรองกฎเชื่อมโยงที่ antecedents มีคำว่า \"Genre\"\n",
        "# rules_Genre = rules[\n",
        "#     (rules[\"antecedents\"].astype(str).str.contains(\"Genre\")) &\n",
        "#     (rules[\"consequents\"].astype(str).str.contains(\"Rating\"))\n",
        "# ]\n",
        "\n",
        "# # แสดงผลลัพธ์ที่กรองแล้ว\n",
        "# rules_Genre\n"
      ]
    },
    {
      "cell_type": "code",
      "execution_count": null,
      "metadata": {
        "id": "I3FWBBTPk452"
      },
      "outputs": [],
      "source": [
        "# # กรองกฎเชื่อมโยงที่ antecedents มีคำว่า \"Genre\"\n",
        "# rules_Genre = rules[\n",
        "#     (rules[\"consequents\"].astype(str).str.contains(\"Genre\")) &\n",
        "#     (rules[\"antecedents\"].astype(str).str.contains(\"Rating\"))\n",
        "# ]\n",
        "\n",
        "# # แสดงผลลัพธ์ที่กรองแล้ว\n",
        "# rules_Genre"
      ]
    },
    {
      "cell_type": "markdown",
      "metadata": {
        "id": "SPkZ9G6clcTk"
      },
      "source": [
        "### Director actor"
      ]
    },
    {
      "cell_type": "markdown",
      "source": [
        "# ส่วนใหม่"
      ],
      "metadata": {
        "id": "EZQbQIQv_qfx"
      }
    },
    {
      "cell_type": "markdown",
      "source": [
        "# ส่วนใหม่"
      ],
      "metadata": {
        "id": "otOqPI19_sNM"
      }
    },
    {
      "cell_type": "code",
      "execution_count": null,
      "metadata": {
        "id": "5xxdxjrywcOi"
      },
      "outputs": [],
      "source": [
        "# convert categorical variables to numerical using one-hot encoding\n",
        "da = ['Director', 'Actor 1', 'Actor 2', 'Actor 3']  #'Director', 'Actor 1', 'Actor 2', 'Actor 3', 'Era', 'Duration_Category','Rating_Quantiles', 'Votes_Range'\n",
        "data_da = pd.get_dummies(India_data_cleaned, columns=da)"
      ]
    },
    {
      "cell_type": "code",
      "execution_count": null,
      "metadata": {
        "id": "tI8BnV1ewyAT"
      },
      "outputs": [],
      "source": [
        "data_da"
      ]
    },
    {
      "cell_type": "code",
      "execution_count": null,
      "metadata": {
        "id": "DpgKQd1Gw3CO"
      },
      "outputs": [],
      "source": [
        "data_da_apri = data_da.iloc[:,10:]\n",
        "data_da_apri"
      ]
    },
    {
      "cell_type": "code",
      "execution_count": null,
      "metadata": {
        "id": "1R3gerKKlcTr"
      },
      "outputs": [],
      "source": [
        "apriori(data_da_apri, min_support=0.005, use_colnames=True)"
      ]
    },
    {
      "cell_type": "code",
      "execution_count": null,
      "metadata": {
        "id": "9KVWgJOIlcTr"
      },
      "outputs": [],
      "source": [
        "frequentItemsets_da =  apriori(data_da_apri, min_support=0.001, use_colnames=True)\n",
        "frequentItemsets_da"
      ]
    },
    {
      "cell_type": "code",
      "execution_count": null,
      "metadata": {
        "id": "KoWmTURdlcTr"
      },
      "outputs": [],
      "source": [
        "from mlxtend.frequent_patterns import apriori, association_rules\n",
        "\n",
        "# ค่าที่ตั้งต้น\n",
        "min_sup = 0.001\n",
        "\n",
        "# คำนวณ frequent itemsets\n",
        "frequentItemsets_da = apriori(data_da_apri, min_support=min_sup, use_colnames=True)\n",
        "\n",
        "# สร้างกฎเชื่อมโยง (association rules) จาก frequent itemsets\n",
        "rules = association_rules(frequentItemsets_da, metric=\"lift\", min_threshold=1)\n",
        "\n",
        "# แสดงกฎเชื่อมโยง\n",
        "for index, rule in rules.iterrows():\n",
        "    print(f\"RelationRecord(items={rule['antecedents']} + {rule['consequents']}, \"\n",
        "          f\"support={rule['support']}, \"\n",
        "          f\"confidence={rule['confidence']}, \"\n",
        "          f\"lift={rule['lift']})\")"
      ]
    },
    {
      "cell_type": "code",
      "execution_count": null,
      "metadata": {
        "id": "bwjjb0_klcTs"
      },
      "outputs": [],
      "source": [
        "# filter rules to show only consequents with \"stroke_1\"\n",
        "rules_Genre = rules[rules[\"antecedents\"].astype(str).str.contains(\"Directo\")]\n",
        "\n",
        "# print the resulting rules\n",
        "rules_Genre"
      ]
    },
    {
      "cell_type": "code",
      "execution_count": null,
      "metadata": {
        "id": "u77bVkBtlcTs"
      },
      "outputs": [],
      "source": [
        "\n",
        "# filter rules to show only consequents with \"stroke_1\"\n",
        "rules_Genre = rules[rules[\"consequents\"].astype(str).str.contains(\"Directo\")]\n",
        "\n",
        "# print the resulting rules\n",
        "rules_Genre"
      ]
    },
    {
      "cell_type": "code",
      "execution_count": null,
      "metadata": {
        "id": "yUp89FVYlcTs"
      },
      "outputs": [],
      "source": [
        "rules"
      ]
    },
    {
      "cell_type": "code",
      "execution_count": null,
      "metadata": {
        "id": "JXDH7BMylcTs"
      },
      "outputs": [],
      "source": [
        "# # กรองกฎเชื่อมโยงที่ antecedents มีคำว่า \"Genre\"\n",
        "# rules_Genre = rules[\n",
        "#     (rules[\"antecedents\"].astype(str).str.contains(\"Genre\")) &\n",
        "#     (rules[\"consequents\"].astype(str).str.contains(\"Rating\"))\n",
        "# ]\n",
        "\n",
        "# # แสดงผลลัพธ์ที่กรองแล้ว\n",
        "# rules_Genre\n"
      ]
    },
    {
      "cell_type": "code",
      "execution_count": null,
      "metadata": {
        "id": "slr_HTldlcTs"
      },
      "outputs": [],
      "source": [
        "# # กรองกฎเชื่อมโยงที่ antecedents มีคำว่า \"Genre\"\n",
        "# rules_Genre = rules[\n",
        "#     (rules[\"consequents\"].astype(str).str.contains(\"Genre\")) &\n",
        "#     (rules[\"antecedents\"].astype(str).str.contains(\"Rating\"))\n",
        "# ]\n",
        "\n",
        "# # แสดงผลลัพธ์ที่กรองแล้ว\n",
        "# rules_Genre"
      ]
    },
    {
      "cell_type": "markdown",
      "source": [
        "#ASsosiation rule"
      ],
      "metadata": {
        "id": "1wDPj4xG_t1X"
      }
    },
    {
      "cell_type": "code",
      "source": [
        "import pandas as pd\n",
        "import os\n",
        "path = '/content/'\n",
        "data = pd.read_csv(os.path.join(path,'2025-01-nottinghamshire-stop-and-search.csv'),encoding='latin-1') #encoding= 'latin-1' bc. มีภาษาที่เป็นจุด ๆ บนหัวทำให้ข้อมมูลเละ"
      ],
      "metadata": {
        "id": "JDWyf0lZAMBd"
      },
      "execution_count": null,
      "outputs": []
    },
    {
      "cell_type": "code",
      "source": [
        "data"
      ],
      "metadata": {
        "id": "dQN0yu-BAep1"
      },
      "execution_count": null,
      "outputs": []
    },
    {
      "cell_type": "code",
      "source": [
        "transactions_nth = data[['Gender', 'Age range', 'Self-defined ethnicity', 'Officer-defined ethnicity', 'Object of search']].apply(lambda x: x.tolist(), axis=1).tolist()"
      ],
      "metadata": {
        "id": "Ca90cJo3BFre"
      },
      "execution_count": null,
      "outputs": []
    },
    {
      "cell_type": "code",
      "source": [
        "data['LOI']= transactions_nth"
      ],
      "metadata": {
        "id": "V_wZ3g7LB4h0"
      },
      "execution_count": null,
      "outputs": []
    },
    {
      "cell_type": "code",
      "source": [
        "data"
      ],
      "metadata": {
        "colab": {
          "base_uri": "https://localhost:8080/",
          "height": 1000
        },
        "id": "LcGT_fpWCHsy",
        "outputId": "3bfc6f3e-b424-476f-dce0-6cfe2dd850e9"
      },
      "execution_count": 72,
      "outputs": [
        {
          "output_type": "execute_result",
          "data": {
            "text/plain": [
              "                          Type                       Date  \\\n",
              "0                Person search  2025-01-01T00:39:00+00:00   \n",
              "1                Person search  2025-01-01T02:00:00+00:00   \n",
              "2                Person search  2025-01-01T02:08:00+00:00   \n",
              "3                Person search  2025-01-01T02:13:00+00:00   \n",
              "4                Person search  2025-01-01T02:25:00+00:00   \n",
              "..                         ...                        ...   \n",
              "323              Person search  2025-01-31T16:35:00+00:00   \n",
              "324              Person search  2025-01-31T16:48:00+00:00   \n",
              "325  Person and Vehicle search  2025-01-31T20:43:00+00:00   \n",
              "326  Person and Vehicle search  2025-01-31T22:31:00+00:00   \n",
              "327  Person and Vehicle search  2025-01-31T22:55:00+00:00   \n",
              "\n",
              "     Part of a policing operation  Policing operation   Latitude  Longitude  \\\n",
              "0                           False                 NaN  54.007280  -2.896877   \n",
              "1                           False                 NaN  53.969736  -2.865897   \n",
              "2                           False                 NaN  53.969736  -2.865897   \n",
              "3                           False                 NaN  53.969736  -2.865897   \n",
              "4                           False                 NaN  54.007280  -2.896877   \n",
              "..                            ...                 ...        ...        ...   \n",
              "323                         False                 NaN  53.978977  -2.605049   \n",
              "324                         False                 NaN  54.004503  -2.306429   \n",
              "325                         False                 NaN  54.007280  -2.896877   \n",
              "326                         False                 NaN  54.009872  -2.857060   \n",
              "327                         False                 NaN  53.969003  -2.761127   \n",
              "\n",
              "     Gender Age range                             Self-defined ethnicity  \\\n",
              "0      Male     10-17                    Other ethnic group - Not stated   \n",
              "1      Male     10-17                    Other ethnic group - Not stated   \n",
              "2      Male     10-17                    Other ethnic group - Not stated   \n",
              "3      Male     10-17   Asian/Asian British - Any other Asian background   \n",
              "4      Male   over 34                    Other ethnic group - Not stated   \n",
              "..      ...       ...                                                ...   \n",
              "323    Male     18-24  White - English/Welsh/Scottish/Northern Irish/...   \n",
              "324  Female     25-34                    Other ethnic group - Not stated   \n",
              "325    Male     18-24  Black/African/Caribbean/Black British - Any ot...   \n",
              "326    Male     18-24                    Other ethnic group - Not stated   \n",
              "327    Male     25-34                    Other ethnic group - Not stated   \n",
              "\n",
              "    Officer-defined ethnicity  \\\n",
              "0                       Black   \n",
              "1                       White   \n",
              "2                       White   \n",
              "3                       Other   \n",
              "4                       Asian   \n",
              "..                        ...   \n",
              "323                     White   \n",
              "324                     White   \n",
              "325                     Black   \n",
              "326                     Black   \n",
              "327                     Asian   \n",
              "\n",
              "                                           Legislation   Object of search  \\\n",
              "0    Police and Criminal Evidence Act 1984 (section 1)  Offensive weapons   \n",
              "1                Misuse of Drugs Act 1971 (section 23)   Controlled drugs   \n",
              "2                Misuse of Drugs Act 1971 (section 23)   Controlled drugs   \n",
              "3                Misuse of Drugs Act 1971 (section 23)   Controlled drugs   \n",
              "4                Misuse of Drugs Act 1971 (section 23)   Controlled drugs   \n",
              "..                                                 ...                ...   \n",
              "323  Police and Criminal Evidence Act 1984 (section 1)       Stolen goods   \n",
              "324  Police and Criminal Evidence Act 1984 (section 1)  Offensive weapons   \n",
              "325              Misuse of Drugs Act 1971 (section 23)   Controlled drugs   \n",
              "326              Misuse of Drugs Act 1971 (section 23)   Controlled drugs   \n",
              "327              Misuse of Drugs Act 1971 (section 23)   Controlled drugs   \n",
              "\n",
              "                          Outcome  Outcome linked to object of search  \\\n",
              "0    A no further action disposal                               False   \n",
              "1                          Arrest                                True   \n",
              "2    A no further action disposal                               False   \n",
              "3    A no further action disposal                               False   \n",
              "4    A no further action disposal                               False   \n",
              "..                            ...                                 ...   \n",
              "323          Community resolution                                True   \n",
              "324  A no further action disposal                               False   \n",
              "325          Community resolution                                True   \n",
              "326  A no further action disposal                               False   \n",
              "327                        Arrest                                True   \n",
              "\n",
              "     Removal of more than just outer clothing  \\\n",
              "0                                       False   \n",
              "1                                       False   \n",
              "2                                       False   \n",
              "3                                       False   \n",
              "4                                       False   \n",
              "..                                        ...   \n",
              "323                                     False   \n",
              "324                                     False   \n",
              "325                                     False   \n",
              "326                                     False   \n",
              "327                                     False   \n",
              "\n",
              "                                                   LOI  \n",
              "0    [Male, 10-17, Other ethnic group - Not stated,...  \n",
              "1    [Male, 10-17, Other ethnic group - Not stated,...  \n",
              "2    [Male, 10-17, Other ethnic group - Not stated,...  \n",
              "3    [Male, 10-17, Asian/Asian British - Any other ...  \n",
              "4    [Male, over 34, Other ethnic group - Not state...  \n",
              "..                                                 ...  \n",
              "323  [Male, 18-24, White - English/Welsh/Scottish/N...  \n",
              "324  [Female, 25-34, Other ethnic group - Not state...  \n",
              "325  [Male, 18-24, Black/African/Caribbean/Black Br...  \n",
              "326  [Male, 18-24, Other ethnic group - Not stated,...  \n",
              "327  [Male, 25-34, Other ethnic group - Not stated,...  \n",
              "\n",
              "[328 rows x 16 columns]"
            ],
            "text/html": [
              "\n",
              "  <div id=\"df-02f7038e-4e3e-4fa0-a7b3-de1e59b04593\" class=\"colab-df-container\">\n",
              "    <div>\n",
              "<style scoped>\n",
              "    .dataframe tbody tr th:only-of-type {\n",
              "        vertical-align: middle;\n",
              "    }\n",
              "\n",
              "    .dataframe tbody tr th {\n",
              "        vertical-align: top;\n",
              "    }\n",
              "\n",
              "    .dataframe thead th {\n",
              "        text-align: right;\n",
              "    }\n",
              "</style>\n",
              "<table border=\"1\" class=\"dataframe\">\n",
              "  <thead>\n",
              "    <tr style=\"text-align: right;\">\n",
              "      <th></th>\n",
              "      <th>Type</th>\n",
              "      <th>Date</th>\n",
              "      <th>Part of a policing operation</th>\n",
              "      <th>Policing operation</th>\n",
              "      <th>Latitude</th>\n",
              "      <th>Longitude</th>\n",
              "      <th>Gender</th>\n",
              "      <th>Age range</th>\n",
              "      <th>Self-defined ethnicity</th>\n",
              "      <th>Officer-defined ethnicity</th>\n",
              "      <th>Legislation</th>\n",
              "      <th>Object of search</th>\n",
              "      <th>Outcome</th>\n",
              "      <th>Outcome linked to object of search</th>\n",
              "      <th>Removal of more than just outer clothing</th>\n",
              "      <th>LOI</th>\n",
              "    </tr>\n",
              "  </thead>\n",
              "  <tbody>\n",
              "    <tr>\n",
              "      <th>0</th>\n",
              "      <td>Person search</td>\n",
              "      <td>2025-01-01T00:39:00+00:00</td>\n",
              "      <td>False</td>\n",
              "      <td>NaN</td>\n",
              "      <td>54.007280</td>\n",
              "      <td>-2.896877</td>\n",
              "      <td>Male</td>\n",
              "      <td>10-17</td>\n",
              "      <td>Other ethnic group - Not stated</td>\n",
              "      <td>Black</td>\n",
              "      <td>Police and Criminal Evidence Act 1984 (section 1)</td>\n",
              "      <td>Offensive weapons</td>\n",
              "      <td>A no further action disposal</td>\n",
              "      <td>False</td>\n",
              "      <td>False</td>\n",
              "      <td>[Male, 10-17, Other ethnic group - Not stated,...</td>\n",
              "    </tr>\n",
              "    <tr>\n",
              "      <th>1</th>\n",
              "      <td>Person search</td>\n",
              "      <td>2025-01-01T02:00:00+00:00</td>\n",
              "      <td>False</td>\n",
              "      <td>NaN</td>\n",
              "      <td>53.969736</td>\n",
              "      <td>-2.865897</td>\n",
              "      <td>Male</td>\n",
              "      <td>10-17</td>\n",
              "      <td>Other ethnic group - Not stated</td>\n",
              "      <td>White</td>\n",
              "      <td>Misuse of Drugs Act 1971 (section 23)</td>\n",
              "      <td>Controlled drugs</td>\n",
              "      <td>Arrest</td>\n",
              "      <td>True</td>\n",
              "      <td>False</td>\n",
              "      <td>[Male, 10-17, Other ethnic group - Not stated,...</td>\n",
              "    </tr>\n",
              "    <tr>\n",
              "      <th>2</th>\n",
              "      <td>Person search</td>\n",
              "      <td>2025-01-01T02:08:00+00:00</td>\n",
              "      <td>False</td>\n",
              "      <td>NaN</td>\n",
              "      <td>53.969736</td>\n",
              "      <td>-2.865897</td>\n",
              "      <td>Male</td>\n",
              "      <td>10-17</td>\n",
              "      <td>Other ethnic group - Not stated</td>\n",
              "      <td>White</td>\n",
              "      <td>Misuse of Drugs Act 1971 (section 23)</td>\n",
              "      <td>Controlled drugs</td>\n",
              "      <td>A no further action disposal</td>\n",
              "      <td>False</td>\n",
              "      <td>False</td>\n",
              "      <td>[Male, 10-17, Other ethnic group - Not stated,...</td>\n",
              "    </tr>\n",
              "    <tr>\n",
              "      <th>3</th>\n",
              "      <td>Person search</td>\n",
              "      <td>2025-01-01T02:13:00+00:00</td>\n",
              "      <td>False</td>\n",
              "      <td>NaN</td>\n",
              "      <td>53.969736</td>\n",
              "      <td>-2.865897</td>\n",
              "      <td>Male</td>\n",
              "      <td>10-17</td>\n",
              "      <td>Asian/Asian British - Any other Asian background</td>\n",
              "      <td>Other</td>\n",
              "      <td>Misuse of Drugs Act 1971 (section 23)</td>\n",
              "      <td>Controlled drugs</td>\n",
              "      <td>A no further action disposal</td>\n",
              "      <td>False</td>\n",
              "      <td>False</td>\n",
              "      <td>[Male, 10-17, Asian/Asian British - Any other ...</td>\n",
              "    </tr>\n",
              "    <tr>\n",
              "      <th>4</th>\n",
              "      <td>Person search</td>\n",
              "      <td>2025-01-01T02:25:00+00:00</td>\n",
              "      <td>False</td>\n",
              "      <td>NaN</td>\n",
              "      <td>54.007280</td>\n",
              "      <td>-2.896877</td>\n",
              "      <td>Male</td>\n",
              "      <td>over 34</td>\n",
              "      <td>Other ethnic group - Not stated</td>\n",
              "      <td>Asian</td>\n",
              "      <td>Misuse of Drugs Act 1971 (section 23)</td>\n",
              "      <td>Controlled drugs</td>\n",
              "      <td>A no further action disposal</td>\n",
              "      <td>False</td>\n",
              "      <td>False</td>\n",
              "      <td>[Male, over 34, Other ethnic group - Not state...</td>\n",
              "    </tr>\n",
              "    <tr>\n",
              "      <th>...</th>\n",
              "      <td>...</td>\n",
              "      <td>...</td>\n",
              "      <td>...</td>\n",
              "      <td>...</td>\n",
              "      <td>...</td>\n",
              "      <td>...</td>\n",
              "      <td>...</td>\n",
              "      <td>...</td>\n",
              "      <td>...</td>\n",
              "      <td>...</td>\n",
              "      <td>...</td>\n",
              "      <td>...</td>\n",
              "      <td>...</td>\n",
              "      <td>...</td>\n",
              "      <td>...</td>\n",
              "      <td>...</td>\n",
              "    </tr>\n",
              "    <tr>\n",
              "      <th>323</th>\n",
              "      <td>Person search</td>\n",
              "      <td>2025-01-31T16:35:00+00:00</td>\n",
              "      <td>False</td>\n",
              "      <td>NaN</td>\n",
              "      <td>53.978977</td>\n",
              "      <td>-2.605049</td>\n",
              "      <td>Male</td>\n",
              "      <td>18-24</td>\n",
              "      <td>White - English/Welsh/Scottish/Northern Irish/...</td>\n",
              "      <td>White</td>\n",
              "      <td>Police and Criminal Evidence Act 1984 (section 1)</td>\n",
              "      <td>Stolen goods</td>\n",
              "      <td>Community resolution</td>\n",
              "      <td>True</td>\n",
              "      <td>False</td>\n",
              "      <td>[Male, 18-24, White - English/Welsh/Scottish/N...</td>\n",
              "    </tr>\n",
              "    <tr>\n",
              "      <th>324</th>\n",
              "      <td>Person search</td>\n",
              "      <td>2025-01-31T16:48:00+00:00</td>\n",
              "      <td>False</td>\n",
              "      <td>NaN</td>\n",
              "      <td>54.004503</td>\n",
              "      <td>-2.306429</td>\n",
              "      <td>Female</td>\n",
              "      <td>25-34</td>\n",
              "      <td>Other ethnic group - Not stated</td>\n",
              "      <td>White</td>\n",
              "      <td>Police and Criminal Evidence Act 1984 (section 1)</td>\n",
              "      <td>Offensive weapons</td>\n",
              "      <td>A no further action disposal</td>\n",
              "      <td>False</td>\n",
              "      <td>False</td>\n",
              "      <td>[Female, 25-34, Other ethnic group - Not state...</td>\n",
              "    </tr>\n",
              "    <tr>\n",
              "      <th>325</th>\n",
              "      <td>Person and Vehicle search</td>\n",
              "      <td>2025-01-31T20:43:00+00:00</td>\n",
              "      <td>False</td>\n",
              "      <td>NaN</td>\n",
              "      <td>54.007280</td>\n",
              "      <td>-2.896877</td>\n",
              "      <td>Male</td>\n",
              "      <td>18-24</td>\n",
              "      <td>Black/African/Caribbean/Black British - Any ot...</td>\n",
              "      <td>Black</td>\n",
              "      <td>Misuse of Drugs Act 1971 (section 23)</td>\n",
              "      <td>Controlled drugs</td>\n",
              "      <td>Community resolution</td>\n",
              "      <td>True</td>\n",
              "      <td>False</td>\n",
              "      <td>[Male, 18-24, Black/African/Caribbean/Black Br...</td>\n",
              "    </tr>\n",
              "    <tr>\n",
              "      <th>326</th>\n",
              "      <td>Person and Vehicle search</td>\n",
              "      <td>2025-01-31T22:31:00+00:00</td>\n",
              "      <td>False</td>\n",
              "      <td>NaN</td>\n",
              "      <td>54.009872</td>\n",
              "      <td>-2.857060</td>\n",
              "      <td>Male</td>\n",
              "      <td>18-24</td>\n",
              "      <td>Other ethnic group - Not stated</td>\n",
              "      <td>Black</td>\n",
              "      <td>Misuse of Drugs Act 1971 (section 23)</td>\n",
              "      <td>Controlled drugs</td>\n",
              "      <td>A no further action disposal</td>\n",
              "      <td>False</td>\n",
              "      <td>False</td>\n",
              "      <td>[Male, 18-24, Other ethnic group - Not stated,...</td>\n",
              "    </tr>\n",
              "    <tr>\n",
              "      <th>327</th>\n",
              "      <td>Person and Vehicle search</td>\n",
              "      <td>2025-01-31T22:55:00+00:00</td>\n",
              "      <td>False</td>\n",
              "      <td>NaN</td>\n",
              "      <td>53.969003</td>\n",
              "      <td>-2.761127</td>\n",
              "      <td>Male</td>\n",
              "      <td>25-34</td>\n",
              "      <td>Other ethnic group - Not stated</td>\n",
              "      <td>Asian</td>\n",
              "      <td>Misuse of Drugs Act 1971 (section 23)</td>\n",
              "      <td>Controlled drugs</td>\n",
              "      <td>Arrest</td>\n",
              "      <td>True</td>\n",
              "      <td>False</td>\n",
              "      <td>[Male, 25-34, Other ethnic group - Not stated,...</td>\n",
              "    </tr>\n",
              "  </tbody>\n",
              "</table>\n",
              "<p>328 rows × 16 columns</p>\n",
              "</div>\n",
              "    <div class=\"colab-df-buttons\">\n",
              "\n",
              "  <div class=\"colab-df-container\">\n",
              "    <button class=\"colab-df-convert\" onclick=\"convertToInteractive('df-02f7038e-4e3e-4fa0-a7b3-de1e59b04593')\"\n",
              "            title=\"Convert this dataframe to an interactive table.\"\n",
              "            style=\"display:none;\">\n",
              "\n",
              "  <svg xmlns=\"http://www.w3.org/2000/svg\" height=\"24px\" viewBox=\"0 -960 960 960\">\n",
              "    <path d=\"M120-120v-720h720v720H120Zm60-500h600v-160H180v160Zm220 220h160v-160H400v160Zm0 220h160v-160H400v160ZM180-400h160v-160H180v160Zm440 0h160v-160H620v160ZM180-180h160v-160H180v160Zm440 0h160v-160H620v160Z\"/>\n",
              "  </svg>\n",
              "    </button>\n",
              "\n",
              "  <style>\n",
              "    .colab-df-container {\n",
              "      display:flex;\n",
              "      gap: 12px;\n",
              "    }\n",
              "\n",
              "    .colab-df-convert {\n",
              "      background-color: #E8F0FE;\n",
              "      border: none;\n",
              "      border-radius: 50%;\n",
              "      cursor: pointer;\n",
              "      display: none;\n",
              "      fill: #1967D2;\n",
              "      height: 32px;\n",
              "      padding: 0 0 0 0;\n",
              "      width: 32px;\n",
              "    }\n",
              "\n",
              "    .colab-df-convert:hover {\n",
              "      background-color: #E2EBFA;\n",
              "      box-shadow: 0px 1px 2px rgba(60, 64, 67, 0.3), 0px 1px 3px 1px rgba(60, 64, 67, 0.15);\n",
              "      fill: #174EA6;\n",
              "    }\n",
              "\n",
              "    .colab-df-buttons div {\n",
              "      margin-bottom: 4px;\n",
              "    }\n",
              "\n",
              "    [theme=dark] .colab-df-convert {\n",
              "      background-color: #3B4455;\n",
              "      fill: #D2E3FC;\n",
              "    }\n",
              "\n",
              "    [theme=dark] .colab-df-convert:hover {\n",
              "      background-color: #434B5C;\n",
              "      box-shadow: 0px 1px 3px 1px rgba(0, 0, 0, 0.15);\n",
              "      filter: drop-shadow(0px 1px 2px rgba(0, 0, 0, 0.3));\n",
              "      fill: #FFFFFF;\n",
              "    }\n",
              "  </style>\n",
              "\n",
              "    <script>\n",
              "      const buttonEl =\n",
              "        document.querySelector('#df-02f7038e-4e3e-4fa0-a7b3-de1e59b04593 button.colab-df-convert');\n",
              "      buttonEl.style.display =\n",
              "        google.colab.kernel.accessAllowed ? 'block' : 'none';\n",
              "\n",
              "      async function convertToInteractive(key) {\n",
              "        const element = document.querySelector('#df-02f7038e-4e3e-4fa0-a7b3-de1e59b04593');\n",
              "        const dataTable =\n",
              "          await google.colab.kernel.invokeFunction('convertToInteractive',\n",
              "                                                    [key], {});\n",
              "        if (!dataTable) return;\n",
              "\n",
              "        const docLinkHtml = 'Like what you see? Visit the ' +\n",
              "          '<a target=\"_blank\" href=https://colab.research.google.com/notebooks/data_table.ipynb>data table notebook</a>'\n",
              "          + ' to learn more about interactive tables.';\n",
              "        element.innerHTML = '';\n",
              "        dataTable['output_type'] = 'display_data';\n",
              "        await google.colab.output.renderOutput(dataTable, element);\n",
              "        const docLink = document.createElement('div');\n",
              "        docLink.innerHTML = docLinkHtml;\n",
              "        element.appendChild(docLink);\n",
              "      }\n",
              "    </script>\n",
              "  </div>\n",
              "\n",
              "\n",
              "    <div id=\"df-8246c94c-3c10-4699-acd5-5e7d5923e975\">\n",
              "      <button class=\"colab-df-quickchart\" onclick=\"quickchart('df-8246c94c-3c10-4699-acd5-5e7d5923e975')\"\n",
              "                title=\"Suggest charts\"\n",
              "                style=\"display:none;\">\n",
              "\n",
              "<svg xmlns=\"http://www.w3.org/2000/svg\" height=\"24px\"viewBox=\"0 0 24 24\"\n",
              "     width=\"24px\">\n",
              "    <g>\n",
              "        <path d=\"M19 3H5c-1.1 0-2 .9-2 2v14c0 1.1.9 2 2 2h14c1.1 0 2-.9 2-2V5c0-1.1-.9-2-2-2zM9 17H7v-7h2v7zm4 0h-2V7h2v10zm4 0h-2v-4h2v4z\"/>\n",
              "    </g>\n",
              "</svg>\n",
              "      </button>\n",
              "\n",
              "<style>\n",
              "  .colab-df-quickchart {\n",
              "      --bg-color: #E8F0FE;\n",
              "      --fill-color: #1967D2;\n",
              "      --hover-bg-color: #E2EBFA;\n",
              "      --hover-fill-color: #174EA6;\n",
              "      --disabled-fill-color: #AAA;\n",
              "      --disabled-bg-color: #DDD;\n",
              "  }\n",
              "\n",
              "  [theme=dark] .colab-df-quickchart {\n",
              "      --bg-color: #3B4455;\n",
              "      --fill-color: #D2E3FC;\n",
              "      --hover-bg-color: #434B5C;\n",
              "      --hover-fill-color: #FFFFFF;\n",
              "      --disabled-bg-color: #3B4455;\n",
              "      --disabled-fill-color: #666;\n",
              "  }\n",
              "\n",
              "  .colab-df-quickchart {\n",
              "    background-color: var(--bg-color);\n",
              "    border: none;\n",
              "    border-radius: 50%;\n",
              "    cursor: pointer;\n",
              "    display: none;\n",
              "    fill: var(--fill-color);\n",
              "    height: 32px;\n",
              "    padding: 0;\n",
              "    width: 32px;\n",
              "  }\n",
              "\n",
              "  .colab-df-quickchart:hover {\n",
              "    background-color: var(--hover-bg-color);\n",
              "    box-shadow: 0 1px 2px rgba(60, 64, 67, 0.3), 0 1px 3px 1px rgba(60, 64, 67, 0.15);\n",
              "    fill: var(--button-hover-fill-color);\n",
              "  }\n",
              "\n",
              "  .colab-df-quickchart-complete:disabled,\n",
              "  .colab-df-quickchart-complete:disabled:hover {\n",
              "    background-color: var(--disabled-bg-color);\n",
              "    fill: var(--disabled-fill-color);\n",
              "    box-shadow: none;\n",
              "  }\n",
              "\n",
              "  .colab-df-spinner {\n",
              "    border: 2px solid var(--fill-color);\n",
              "    border-color: transparent;\n",
              "    border-bottom-color: var(--fill-color);\n",
              "    animation:\n",
              "      spin 1s steps(1) infinite;\n",
              "  }\n",
              "\n",
              "  @keyframes spin {\n",
              "    0% {\n",
              "      border-color: transparent;\n",
              "      border-bottom-color: var(--fill-color);\n",
              "      border-left-color: var(--fill-color);\n",
              "    }\n",
              "    20% {\n",
              "      border-color: transparent;\n",
              "      border-left-color: var(--fill-color);\n",
              "      border-top-color: var(--fill-color);\n",
              "    }\n",
              "    30% {\n",
              "      border-color: transparent;\n",
              "      border-left-color: var(--fill-color);\n",
              "      border-top-color: var(--fill-color);\n",
              "      border-right-color: var(--fill-color);\n",
              "    }\n",
              "    40% {\n",
              "      border-color: transparent;\n",
              "      border-right-color: var(--fill-color);\n",
              "      border-top-color: var(--fill-color);\n",
              "    }\n",
              "    60% {\n",
              "      border-color: transparent;\n",
              "      border-right-color: var(--fill-color);\n",
              "    }\n",
              "    80% {\n",
              "      border-color: transparent;\n",
              "      border-right-color: var(--fill-color);\n",
              "      border-bottom-color: var(--fill-color);\n",
              "    }\n",
              "    90% {\n",
              "      border-color: transparent;\n",
              "      border-bottom-color: var(--fill-color);\n",
              "    }\n",
              "  }\n",
              "</style>\n",
              "\n",
              "      <script>\n",
              "        async function quickchart(key) {\n",
              "          const quickchartButtonEl =\n",
              "            document.querySelector('#' + key + ' button');\n",
              "          quickchartButtonEl.disabled = true;  // To prevent multiple clicks.\n",
              "          quickchartButtonEl.classList.add('colab-df-spinner');\n",
              "          try {\n",
              "            const charts = await google.colab.kernel.invokeFunction(\n",
              "                'suggestCharts', [key], {});\n",
              "          } catch (error) {\n",
              "            console.error('Error during call to suggestCharts:', error);\n",
              "          }\n",
              "          quickchartButtonEl.classList.remove('colab-df-spinner');\n",
              "          quickchartButtonEl.classList.add('colab-df-quickchart-complete');\n",
              "        }\n",
              "        (() => {\n",
              "          let quickchartButtonEl =\n",
              "            document.querySelector('#df-8246c94c-3c10-4699-acd5-5e7d5923e975 button');\n",
              "          quickchartButtonEl.style.display =\n",
              "            google.colab.kernel.accessAllowed ? 'block' : 'none';\n",
              "        })();\n",
              "      </script>\n",
              "    </div>\n",
              "\n",
              "  <div id=\"id_2f2807f7-72d6-4cb3-86a4-6c8851cc538f\">\n",
              "    <style>\n",
              "      .colab-df-generate {\n",
              "        background-color: #E8F0FE;\n",
              "        border: none;\n",
              "        border-radius: 50%;\n",
              "        cursor: pointer;\n",
              "        display: none;\n",
              "        fill: #1967D2;\n",
              "        height: 32px;\n",
              "        padding: 0 0 0 0;\n",
              "        width: 32px;\n",
              "      }\n",
              "\n",
              "      .colab-df-generate:hover {\n",
              "        background-color: #E2EBFA;\n",
              "        box-shadow: 0px 1px 2px rgba(60, 64, 67, 0.3), 0px 1px 3px 1px rgba(60, 64, 67, 0.15);\n",
              "        fill: #174EA6;\n",
              "      }\n",
              "\n",
              "      [theme=dark] .colab-df-generate {\n",
              "        background-color: #3B4455;\n",
              "        fill: #D2E3FC;\n",
              "      }\n",
              "\n",
              "      [theme=dark] .colab-df-generate:hover {\n",
              "        background-color: #434B5C;\n",
              "        box-shadow: 0px 1px 3px 1px rgba(0, 0, 0, 0.15);\n",
              "        filter: drop-shadow(0px 1px 2px rgba(0, 0, 0, 0.3));\n",
              "        fill: #FFFFFF;\n",
              "      }\n",
              "    </style>\n",
              "    <button class=\"colab-df-generate\" onclick=\"generateWithVariable('data')\"\n",
              "            title=\"Generate code using this dataframe.\"\n",
              "            style=\"display:none;\">\n",
              "\n",
              "  <svg xmlns=\"http://www.w3.org/2000/svg\" height=\"24px\"viewBox=\"0 0 24 24\"\n",
              "       width=\"24px\">\n",
              "    <path d=\"M7,19H8.4L18.45,9,17,7.55,7,17.6ZM5,21V16.75L18.45,3.32a2,2,0,0,1,2.83,0l1.4,1.43a1.91,1.91,0,0,1,.58,1.4,1.91,1.91,0,0,1-.58,1.4L9.25,21ZM18.45,9,17,7.55Zm-12,3A5.31,5.31,0,0,0,4.9,8.1,5.31,5.31,0,0,0,1,6.5,5.31,5.31,0,0,0,4.9,4.9,5.31,5.31,0,0,0,6.5,1,5.31,5.31,0,0,0,8.1,4.9,5.31,5.31,0,0,0,12,6.5,5.46,5.46,0,0,0,6.5,12Z\"/>\n",
              "  </svg>\n",
              "    </button>\n",
              "    <script>\n",
              "      (() => {\n",
              "      const buttonEl =\n",
              "        document.querySelector('#id_2f2807f7-72d6-4cb3-86a4-6c8851cc538f button.colab-df-generate');\n",
              "      buttonEl.style.display =\n",
              "        google.colab.kernel.accessAllowed ? 'block' : 'none';\n",
              "\n",
              "      buttonEl.onclick = () => {\n",
              "        google.colab.notebook.generateWithVariable('data');\n",
              "      }\n",
              "      })();\n",
              "    </script>\n",
              "  </div>\n",
              "\n",
              "    </div>\n",
              "  </div>\n"
            ],
            "application/vnd.google.colaboratory.intrinsic+json": {
              "type": "dataframe",
              "variable_name": "data",
              "summary": "{\n  \"name\": \"data\",\n  \"rows\": 328,\n  \"fields\": [\n    {\n      \"column\": \"Type\",\n      \"properties\": {\n        \"dtype\": \"category\",\n        \"num_unique_values\": 3,\n        \"samples\": [\n          \"Person search\",\n          \"Person and Vehicle search\",\n          \"Vehicle search\"\n        ],\n        \"semantic_type\": \"\",\n        \"description\": \"\"\n      }\n    },\n    {\n      \"column\": \"Date\",\n      \"properties\": {\n        \"dtype\": \"object\",\n        \"num_unique_values\": 271,\n        \"samples\": [\n          \"2025-01-03T17:00:00+00:00\",\n          \"2025-01-14T13:35:00+00:00\",\n          \"2025-01-09T13:30:00+00:00\"\n        ],\n        \"semantic_type\": \"\",\n        \"description\": \"\"\n      }\n    },\n    {\n      \"column\": \"Part of a policing operation\",\n      \"properties\": {\n        \"dtype\": \"boolean\",\n        \"num_unique_values\": 2,\n        \"samples\": [\n          true,\n          false\n        ],\n        \"semantic_type\": \"\",\n        \"description\": \"\"\n      }\n    },\n    {\n      \"column\": \"Policing operation\",\n      \"properties\": {\n        \"dtype\": \"number\",\n        \"std\": null,\n        \"min\": null,\n        \"max\": null,\n        \"num_unique_values\": 0,\n        \"samples\": [],\n        \"semantic_type\": \"\",\n        \"description\": \"\"\n      }\n    },\n    {\n      \"column\": \"Latitude\",\n      \"properties\": {\n        \"dtype\": \"number\",\n        \"std\": 0.061260401646864214,\n        \"min\": 53.902016,\n        \"max\": 54.24274,\n        \"num_unique_values\": 75,\n        \"samples\": [],\n        \"semantic_type\": \"\",\n        \"description\": \"\"\n      }\n    },\n    {\n      \"column\": \"Longitude\",\n      \"properties\": {\n        \"dtype\": \"number\",\n        \"std\": 0.13976378322845115,\n        \"min\": -3.17239,\n        \"max\": -2.141625,\n        \"num_unique_values\": 75,\n        \"samples\": [],\n        \"semantic_type\": \"\",\n        \"description\": \"\"\n      }\n    },\n    {\n      \"column\": \"Gender\",\n      \"properties\": {\n        \"dtype\": \"category\",\n        \"num_unique_values\": 3,\n        \"samples\": [],\n        \"semantic_type\": \"\",\n        \"description\": \"\"\n      }\n    },\n    {\n      \"column\": \"Age range\",\n      \"properties\": {\n        \"dtype\": \"category\",\n        \"num_unique_values\": 4,\n        \"samples\": [],\n        \"semantic_type\": \"\",\n        \"description\": \"\"\n      }\n    },\n    {\n      \"column\": \"Self-defined ethnicity\",\n      \"properties\": {\n        \"dtype\": \"category\",\n        \"num_unique_values\": 14,\n        \"samples\": [],\n        \"semantic_type\": \"\",\n        \"description\": \"\"\n      }\n    },\n    {\n      \"column\": \"Officer-defined ethnicity\",\n      \"properties\": {\n        \"dtype\": \"category\",\n        \"num_unique_values\": 4,\n        \"samples\": [],\n        \"semantic_type\": \"\",\n        \"description\": \"\"\n      }\n    },\n    {\n      \"column\": \"Legislation\",\n      \"properties\": {\n        \"dtype\": \"category\",\n        \"num_unique_values\": 3,\n        \"samples\": [],\n        \"semantic_type\": \"\",\n        \"description\": \"\"\n      }\n    },\n    {\n      \"column\": \"Object of search\",\n      \"properties\": {\n        \"dtype\": \"category\",\n        \"num_unique_values\": 6,\n        \"samples\": [],\n        \"semantic_type\": \"\",\n        \"description\": \"\"\n      }\n    },\n    {\n      \"column\": \"Outcome\",\n      \"properties\": {\n        \"dtype\": \"category\",\n        \"num_unique_values\": 6,\n        \"samples\": [],\n        \"semantic_type\": \"\",\n        \"description\": \"\"\n      }\n    },\n    {\n      \"column\": \"Outcome linked to object of search\",\n      \"properties\": {\n        \"dtype\": \"boolean\",\n        \"num_unique_values\": 2,\n        \"samples\": [],\n        \"semantic_type\": \"\",\n        \"description\": \"\"\n      }\n    },\n    {\n      \"column\": \"Removal of more than just outer clothing\",\n      \"properties\": {\n        \"dtype\": \"boolean\",\n        \"num_unique_values\": 2,\n        \"samples\": [],\n        \"semantic_type\": \"\",\n        \"description\": \"\"\n      }\n    },\n    {\n      \"column\": \"LOI\",\n      \"properties\": {\n        \"dtype\": \"object\",\n        \"semantic_type\": \"\",\n        \"description\": \"\"\n      }\n    }\n  ]\n}"
            }
          },
          "metadata": {},
          "execution_count": 72
        }
      ]
    },
    {
      "cell_type": "code",
      "source": [
        "data_transaction= data[['Date', 'LOI']]\n",
        "data_transaction"
      ],
      "metadata": {
        "colab": {
          "base_uri": "https://localhost:8080/"
        },
        "id": "k_t5WFeXCLch",
        "outputId": "c41e4abc-06c5-45a5-b91c-8721c2db27ff"
      },
      "execution_count": 70,
      "outputs": [
        {
          "output_type": "execute_result",
          "data": {
            "text/plain": [
              "                          Date  \\\n",
              "0    2025-01-01T00:39:00+00:00   \n",
              "1    2025-01-01T02:00:00+00:00   \n",
              "2    2025-01-01T02:08:00+00:00   \n",
              "3    2025-01-01T02:13:00+00:00   \n",
              "4    2025-01-01T02:25:00+00:00   \n",
              "..                         ...   \n",
              "323  2025-01-31T16:35:00+00:00   \n",
              "324  2025-01-31T16:48:00+00:00   \n",
              "325  2025-01-31T20:43:00+00:00   \n",
              "326  2025-01-31T22:31:00+00:00   \n",
              "327  2025-01-31T22:55:00+00:00   \n",
              "\n",
              "                                                   LOI  \n",
              "0    [Male, 10-17, Other ethnic group - Not stated,...  \n",
              "1    [Male, 10-17, Other ethnic group - Not stated,...  \n",
              "2    [Male, 10-17, Other ethnic group - Not stated,...  \n",
              "3    [Male, 10-17, Asian/Asian British - Any other ...  \n",
              "4    [Male, over 34, Other ethnic group - Not state...  \n",
              "..                                                 ...  \n",
              "323  [Male, 18-24, White - English/Welsh/Scottish/N...  \n",
              "324  [Female, 25-34, Other ethnic group - Not state...  \n",
              "325  [Male, 18-24, Black/African/Caribbean/Black Br...  \n",
              "326  [Male, 18-24, Other ethnic group - Not stated,...  \n",
              "327  [Male, 25-34, Other ethnic group - Not stated,...  \n",
              "\n",
              "[328 rows x 2 columns]"
            ],
            "text/html": [
              "\n",
              "  <div id=\"df-f60e16b6-7a0c-4ca5-8ed6-13087a8a48b5\" class=\"colab-df-container\">\n",
              "    <div>\n",
              "<style scoped>\n",
              "    .dataframe tbody tr th:only-of-type {\n",
              "        vertical-align: middle;\n",
              "    }\n",
              "\n",
              "    .dataframe tbody tr th {\n",
              "        vertical-align: top;\n",
              "    }\n",
              "\n",
              "    .dataframe thead th {\n",
              "        text-align: right;\n",
              "    }\n",
              "</style>\n",
              "<table border=\"1\" class=\"dataframe\">\n",
              "  <thead>\n",
              "    <tr style=\"text-align: right;\">\n",
              "      <th></th>\n",
              "      <th>Date</th>\n",
              "      <th>LOI</th>\n",
              "    </tr>\n",
              "  </thead>\n",
              "  <tbody>\n",
              "    <tr>\n",
              "      <th>0</th>\n",
              "      <td>2025-01-01T00:39:00+00:00</td>\n",
              "      <td>[Male, 10-17, Other ethnic group - Not stated,...</td>\n",
              "    </tr>\n",
              "    <tr>\n",
              "      <th>1</th>\n",
              "      <td>2025-01-01T02:00:00+00:00</td>\n",
              "      <td>[Male, 10-17, Other ethnic group - Not stated,...</td>\n",
              "    </tr>\n",
              "    <tr>\n",
              "      <th>2</th>\n",
              "      <td>2025-01-01T02:08:00+00:00</td>\n",
              "      <td>[Male, 10-17, Other ethnic group - Not stated,...</td>\n",
              "    </tr>\n",
              "    <tr>\n",
              "      <th>3</th>\n",
              "      <td>2025-01-01T02:13:00+00:00</td>\n",
              "      <td>[Male, 10-17, Asian/Asian British - Any other ...</td>\n",
              "    </tr>\n",
              "    <tr>\n",
              "      <th>4</th>\n",
              "      <td>2025-01-01T02:25:00+00:00</td>\n",
              "      <td>[Male, over 34, Other ethnic group - Not state...</td>\n",
              "    </tr>\n",
              "    <tr>\n",
              "      <th>...</th>\n",
              "      <td>...</td>\n",
              "      <td>...</td>\n",
              "    </tr>\n",
              "    <tr>\n",
              "      <th>323</th>\n",
              "      <td>2025-01-31T16:35:00+00:00</td>\n",
              "      <td>[Male, 18-24, White - English/Welsh/Scottish/N...</td>\n",
              "    </tr>\n",
              "    <tr>\n",
              "      <th>324</th>\n",
              "      <td>2025-01-31T16:48:00+00:00</td>\n",
              "      <td>[Female, 25-34, Other ethnic group - Not state...</td>\n",
              "    </tr>\n",
              "    <tr>\n",
              "      <th>325</th>\n",
              "      <td>2025-01-31T20:43:00+00:00</td>\n",
              "      <td>[Male, 18-24, Black/African/Caribbean/Black Br...</td>\n",
              "    </tr>\n",
              "    <tr>\n",
              "      <th>326</th>\n",
              "      <td>2025-01-31T22:31:00+00:00</td>\n",
              "      <td>[Male, 18-24, Other ethnic group - Not stated,...</td>\n",
              "    </tr>\n",
              "    <tr>\n",
              "      <th>327</th>\n",
              "      <td>2025-01-31T22:55:00+00:00</td>\n",
              "      <td>[Male, 25-34, Other ethnic group - Not stated,...</td>\n",
              "    </tr>\n",
              "  </tbody>\n",
              "</table>\n",
              "<p>328 rows × 2 columns</p>\n",
              "</div>\n",
              "    <div class=\"colab-df-buttons\">\n",
              "\n",
              "  <div class=\"colab-df-container\">\n",
              "    <button class=\"colab-df-convert\" onclick=\"convertToInteractive('df-f60e16b6-7a0c-4ca5-8ed6-13087a8a48b5')\"\n",
              "            title=\"Convert this dataframe to an interactive table.\"\n",
              "            style=\"display:none;\">\n",
              "\n",
              "  <svg xmlns=\"http://www.w3.org/2000/svg\" height=\"24px\" viewBox=\"0 -960 960 960\">\n",
              "    <path d=\"M120-120v-720h720v720H120Zm60-500h600v-160H180v160Zm220 220h160v-160H400v160Zm0 220h160v-160H400v160ZM180-400h160v-160H180v160Zm440 0h160v-160H620v160ZM180-180h160v-160H180v160Zm440 0h160v-160H620v160Z\"/>\n",
              "  </svg>\n",
              "    </button>\n",
              "\n",
              "  <style>\n",
              "    .colab-df-container {\n",
              "      display:flex;\n",
              "      gap: 12px;\n",
              "    }\n",
              "\n",
              "    .colab-df-convert {\n",
              "      background-color: #E8F0FE;\n",
              "      border: none;\n",
              "      border-radius: 50%;\n",
              "      cursor: pointer;\n",
              "      display: none;\n",
              "      fill: #1967D2;\n",
              "      height: 32px;\n",
              "      padding: 0 0 0 0;\n",
              "      width: 32px;\n",
              "    }\n",
              "\n",
              "    .colab-df-convert:hover {\n",
              "      background-color: #E2EBFA;\n",
              "      box-shadow: 0px 1px 2px rgba(60, 64, 67, 0.3), 0px 1px 3px 1px rgba(60, 64, 67, 0.15);\n",
              "      fill: #174EA6;\n",
              "    }\n",
              "\n",
              "    .colab-df-buttons div {\n",
              "      margin-bottom: 4px;\n",
              "    }\n",
              "\n",
              "    [theme=dark] .colab-df-convert {\n",
              "      background-color: #3B4455;\n",
              "      fill: #D2E3FC;\n",
              "    }\n",
              "\n",
              "    [theme=dark] .colab-df-convert:hover {\n",
              "      background-color: #434B5C;\n",
              "      box-shadow: 0px 1px 3px 1px rgba(0, 0, 0, 0.15);\n",
              "      filter: drop-shadow(0px 1px 2px rgba(0, 0, 0, 0.3));\n",
              "      fill: #FFFFFF;\n",
              "    }\n",
              "  </style>\n",
              "\n",
              "    <script>\n",
              "      const buttonEl =\n",
              "        document.querySelector('#df-f60e16b6-7a0c-4ca5-8ed6-13087a8a48b5 button.colab-df-convert');\n",
              "      buttonEl.style.display =\n",
              "        google.colab.kernel.accessAllowed ? 'block' : 'none';\n",
              "\n",
              "      async function convertToInteractive(key) {\n",
              "        const element = document.querySelector('#df-f60e16b6-7a0c-4ca5-8ed6-13087a8a48b5');\n",
              "        const dataTable =\n",
              "          await google.colab.kernel.invokeFunction('convertToInteractive',\n",
              "                                                    [key], {});\n",
              "        if (!dataTable) return;\n",
              "\n",
              "        const docLinkHtml = 'Like what you see? Visit the ' +\n",
              "          '<a target=\"_blank\" href=https://colab.research.google.com/notebooks/data_table.ipynb>data table notebook</a>'\n",
              "          + ' to learn more about interactive tables.';\n",
              "        element.innerHTML = '';\n",
              "        dataTable['output_type'] = 'display_data';\n",
              "        await google.colab.output.renderOutput(dataTable, element);\n",
              "        const docLink = document.createElement('div');\n",
              "        docLink.innerHTML = docLinkHtml;\n",
              "        element.appendChild(docLink);\n",
              "      }\n",
              "    </script>\n",
              "  </div>\n",
              "\n",
              "\n",
              "    <div id=\"df-95a5416d-3290-4c19-99d9-d400ed03172e\">\n",
              "      <button class=\"colab-df-quickchart\" onclick=\"quickchart('df-95a5416d-3290-4c19-99d9-d400ed03172e')\"\n",
              "                title=\"Suggest charts\"\n",
              "                style=\"display:none;\">\n",
              "\n",
              "<svg xmlns=\"http://www.w3.org/2000/svg\" height=\"24px\"viewBox=\"0 0 24 24\"\n",
              "     width=\"24px\">\n",
              "    <g>\n",
              "        <path d=\"M19 3H5c-1.1 0-2 .9-2 2v14c0 1.1.9 2 2 2h14c1.1 0 2-.9 2-2V5c0-1.1-.9-2-2-2zM9 17H7v-7h2v7zm4 0h-2V7h2v10zm4 0h-2v-4h2v4z\"/>\n",
              "    </g>\n",
              "</svg>\n",
              "      </button>\n",
              "\n",
              "<style>\n",
              "  .colab-df-quickchart {\n",
              "      --bg-color: #E8F0FE;\n",
              "      --fill-color: #1967D2;\n",
              "      --hover-bg-color: #E2EBFA;\n",
              "      --hover-fill-color: #174EA6;\n",
              "      --disabled-fill-color: #AAA;\n",
              "      --disabled-bg-color: #DDD;\n",
              "  }\n",
              "\n",
              "  [theme=dark] .colab-df-quickchart {\n",
              "      --bg-color: #3B4455;\n",
              "      --fill-color: #D2E3FC;\n",
              "      --hover-bg-color: #434B5C;\n",
              "      --hover-fill-color: #FFFFFF;\n",
              "      --disabled-bg-color: #3B4455;\n",
              "      --disabled-fill-color: #666;\n",
              "  }\n",
              "\n",
              "  .colab-df-quickchart {\n",
              "    background-color: var(--bg-color);\n",
              "    border: none;\n",
              "    border-radius: 50%;\n",
              "    cursor: pointer;\n",
              "    display: none;\n",
              "    fill: var(--fill-color);\n",
              "    height: 32px;\n",
              "    padding: 0;\n",
              "    width: 32px;\n",
              "  }\n",
              "\n",
              "  .colab-df-quickchart:hover {\n",
              "    background-color: var(--hover-bg-color);\n",
              "    box-shadow: 0 1px 2px rgba(60, 64, 67, 0.3), 0 1px 3px 1px rgba(60, 64, 67, 0.15);\n",
              "    fill: var(--button-hover-fill-color);\n",
              "  }\n",
              "\n",
              "  .colab-df-quickchart-complete:disabled,\n",
              "  .colab-df-quickchart-complete:disabled:hover {\n",
              "    background-color: var(--disabled-bg-color);\n",
              "    fill: var(--disabled-fill-color);\n",
              "    box-shadow: none;\n",
              "  }\n",
              "\n",
              "  .colab-df-spinner {\n",
              "    border: 2px solid var(--fill-color);\n",
              "    border-color: transparent;\n",
              "    border-bottom-color: var(--fill-color);\n",
              "    animation:\n",
              "      spin 1s steps(1) infinite;\n",
              "  }\n",
              "\n",
              "  @keyframes spin {\n",
              "    0% {\n",
              "      border-color: transparent;\n",
              "      border-bottom-color: var(--fill-color);\n",
              "      border-left-color: var(--fill-color);\n",
              "    }\n",
              "    20% {\n",
              "      border-color: transparent;\n",
              "      border-left-color: var(--fill-color);\n",
              "      border-top-color: var(--fill-color);\n",
              "    }\n",
              "    30% {\n",
              "      border-color: transparent;\n",
              "      border-left-color: var(--fill-color);\n",
              "      border-top-color: var(--fill-color);\n",
              "      border-right-color: var(--fill-color);\n",
              "    }\n",
              "    40% {\n",
              "      border-color: transparent;\n",
              "      border-right-color: var(--fill-color);\n",
              "      border-top-color: var(--fill-color);\n",
              "    }\n",
              "    60% {\n",
              "      border-color: transparent;\n",
              "      border-right-color: var(--fill-color);\n",
              "    }\n",
              "    80% {\n",
              "      border-color: transparent;\n",
              "      border-right-color: var(--fill-color);\n",
              "      border-bottom-color: var(--fill-color);\n",
              "    }\n",
              "    90% {\n",
              "      border-color: transparent;\n",
              "      border-bottom-color: var(--fill-color);\n",
              "    }\n",
              "  }\n",
              "</style>\n",
              "\n",
              "      <script>\n",
              "        async function quickchart(key) {\n",
              "          const quickchartButtonEl =\n",
              "            document.querySelector('#' + key + ' button');\n",
              "          quickchartButtonEl.disabled = true;  // To prevent multiple clicks.\n",
              "          quickchartButtonEl.classList.add('colab-df-spinner');\n",
              "          try {\n",
              "            const charts = await google.colab.kernel.invokeFunction(\n",
              "                'suggestCharts', [key], {});\n",
              "          } catch (error) {\n",
              "            console.error('Error during call to suggestCharts:', error);\n",
              "          }\n",
              "          quickchartButtonEl.classList.remove('colab-df-spinner');\n",
              "          quickchartButtonEl.classList.add('colab-df-quickchart-complete');\n",
              "        }\n",
              "        (() => {\n",
              "          let quickchartButtonEl =\n",
              "            document.querySelector('#df-95a5416d-3290-4c19-99d9-d400ed03172e button');\n",
              "          quickchartButtonEl.style.display =\n",
              "            google.colab.kernel.accessAllowed ? 'block' : 'none';\n",
              "        })();\n",
              "      </script>\n",
              "    </div>\n",
              "\n",
              "  <div id=\"id_ae44f70d-d955-4504-8c03-2d18258938e8\">\n",
              "    <style>\n",
              "      .colab-df-generate {\n",
              "        background-color: #E8F0FE;\n",
              "        border: none;\n",
              "        border-radius: 50%;\n",
              "        cursor: pointer;\n",
              "        display: none;\n",
              "        fill: #1967D2;\n",
              "        height: 32px;\n",
              "        padding: 0 0 0 0;\n",
              "        width: 32px;\n",
              "      }\n",
              "\n",
              "      .colab-df-generate:hover {\n",
              "        background-color: #E2EBFA;\n",
              "        box-shadow: 0px 1px 2px rgba(60, 64, 67, 0.3), 0px 1px 3px 1px rgba(60, 64, 67, 0.15);\n",
              "        fill: #174EA6;\n",
              "      }\n",
              "\n",
              "      [theme=dark] .colab-df-generate {\n",
              "        background-color: #3B4455;\n",
              "        fill: #D2E3FC;\n",
              "      }\n",
              "\n",
              "      [theme=dark] .colab-df-generate:hover {\n",
              "        background-color: #434B5C;\n",
              "        box-shadow: 0px 1px 3px 1px rgba(0, 0, 0, 0.15);\n",
              "        filter: drop-shadow(0px 1px 2px rgba(0, 0, 0, 0.3));\n",
              "        fill: #FFFFFF;\n",
              "      }\n",
              "    </style>\n",
              "    <button class=\"colab-df-generate\" onclick=\"generateWithVariable('data_transaction')\"\n",
              "            title=\"Generate code using this dataframe.\"\n",
              "            style=\"display:none;\">\n",
              "\n",
              "  <svg xmlns=\"http://www.w3.org/2000/svg\" height=\"24px\"viewBox=\"0 0 24 24\"\n",
              "       width=\"24px\">\n",
              "    <path d=\"M7,19H8.4L18.45,9,17,7.55,7,17.6ZM5,21V16.75L18.45,3.32a2,2,0,0,1,2.83,0l1.4,1.43a1.91,1.91,0,0,1,.58,1.4,1.91,1.91,0,0,1-.58,1.4L9.25,21ZM18.45,9,17,7.55Zm-12,3A5.31,5.31,0,0,0,4.9,8.1,5.31,5.31,0,0,0,1,6.5,5.31,5.31,0,0,0,4.9,4.9,5.31,5.31,0,0,0,6.5,1,5.31,5.31,0,0,0,8.1,4.9,5.31,5.31,0,0,0,12,6.5,5.46,5.46,0,0,0,6.5,12Z\"/>\n",
              "  </svg>\n",
              "    </button>\n",
              "    <script>\n",
              "      (() => {\n",
              "      const buttonEl =\n",
              "        document.querySelector('#id_ae44f70d-d955-4504-8c03-2d18258938e8 button.colab-df-generate');\n",
              "      buttonEl.style.display =\n",
              "        google.colab.kernel.accessAllowed ? 'block' : 'none';\n",
              "\n",
              "      buttonEl.onclick = () => {\n",
              "        google.colab.notebook.generateWithVariable('data_transaction');\n",
              "      }\n",
              "      })();\n",
              "    </script>\n",
              "  </div>\n",
              "\n",
              "    </div>\n",
              "  </div>\n"
            ],
            "application/vnd.google.colaboratory.intrinsic+json": {
              "type": "dataframe",
              "variable_name": "data_transaction",
              "summary": "{\n  \"name\": \"data_transaction\",\n  \"rows\": 328,\n  \"fields\": [\n    {\n      \"column\": \"Date\",\n      \"properties\": {\n        \"dtype\": \"object\",\n        \"num_unique_values\": 271,\n        \"samples\": [\n          \"2025-01-03T17:00:00+00:00\",\n          \"2025-01-14T13:35:00+00:00\",\n          \"2025-01-09T13:30:00+00:00\"\n        ],\n        \"semantic_type\": \"\",\n        \"description\": \"\"\n      }\n    },\n    {\n      \"column\": \"LOI\",\n      \"properties\": {\n        \"dtype\": \"object\",\n        \"semantic_type\": \"\",\n        \"description\": \"\"\n      }\n    }\n  ]\n}"
            }
          },
          "metadata": {},
          "execution_count": 70
        }
      ]
    },
    {
      "cell_type": "code",
      "metadata": {
        "id": "cc58171b"
      },
      "source": [
        "!pip install apyori"
      ],
      "execution_count": null,
      "outputs": []
    },
    {
      "cell_type": "code",
      "source": [
        "from apyori import apriori\n",
        "\n",
        "list(apriori(data_transaction['LOI'], min_support=0.05))"
      ],
      "metadata": {
        "colab": {
          "base_uri": "https://localhost:8080/"
        },
        "id": "eyQKlJguEQi0",
        "outputId": "d987e18b-0e4f-44a7-bc82-c8e67145bcb1"
      },
      "execution_count": 100,
      "outputs": [
        {
          "output_type": "execute_result",
          "data": {
            "text/plain": [
              "[RelationRecord(items=frozenset({'10-17'}), support=0.20121951219512196, ordered_statistics=[OrderedStatistic(items_base=frozenset(), items_add=frozenset({'10-17'}), confidence=0.20121951219512196, lift=1.0)]),\n",
              " RelationRecord(items=frozenset({'18-24'}), support=0.20121951219512196, ordered_statistics=[OrderedStatistic(items_base=frozenset(), items_add=frozenset({'18-24'}), confidence=0.20121951219512196, lift=1.0)]),\n",
              " RelationRecord(items=frozenset({'25-34'}), support=0.18597560975609756, ordered_statistics=[OrderedStatistic(items_base=frozenset(), items_add=frozenset({'25-34'}), confidence=0.18597560975609756, lift=1.0)]),\n",
              " RelationRecord(items=frozenset({'Article for use in theft'}), support=0.8567073170731707, ordered_statistics=[OrderedStatistic(items_base=frozenset(), items_add=frozenset({'Article for use in theft'}), confidence=0.8567073170731707, lift=1.0)]),\n",
              " RelationRecord(items=frozenset({'Asian'}), support=0.08231707317073171, ordered_statistics=[OrderedStatistic(items_base=frozenset(), items_add=frozenset({'Asian'}), confidence=0.08231707317073171, lift=1.0)]),\n",
              " RelationRecord(items=frozenset({'Black'}), support=0.17682926829268292, ordered_statistics=[OrderedStatistic(items_base=frozenset(), items_add=frozenset({'Black'}), confidence=0.17682926829268292, lift=1.0)]),\n",
              " RelationRecord(items=frozenset({'Controlled drugs'}), support=0.08536585365853659, ordered_statistics=[OrderedStatistic(items_base=frozenset(), items_add=frozenset({'Controlled drugs'}), confidence=0.08536585365853659, lift=1.0)]),\n",
              " RelationRecord(items=frozenset({'Female'}), support=0.13414634146341464, ordered_statistics=[OrderedStatistic(items_base=frozenset(), items_add=frozenset({'Female'}), confidence=0.13414634146341464, lift=1.0)]),\n",
              " RelationRecord(items=frozenset({'Male'}), support=0.8628048780487805, ordered_statistics=[OrderedStatistic(items_base=frozenset(), items_add=frozenset({'Male'}), confidence=0.8628048780487805, lift=1.0)]),\n",
              " RelationRecord(items=frozenset({'Other'}), support=0.057926829268292686, ordered_statistics=[OrderedStatistic(items_base=frozenset(), items_add=frozenset({'Other'}), confidence=0.057926829268292686, lift=1.0)]),\n",
              " RelationRecord(items=frozenset({'Other ethnic group - Not stated'}), support=0.39634146341463417, ordered_statistics=[OrderedStatistic(items_base=frozenset(), items_add=frozenset({'Other ethnic group - Not stated'}), confidence=0.39634146341463417, lift=1.0)]),\n",
              " RelationRecord(items=frozenset({'White'}), support=0.6829268292682927, ordered_statistics=[OrderedStatistic(items_base=frozenset(), items_add=frozenset({'White'}), confidence=0.6829268292682927, lift=1.0)]),\n",
              " RelationRecord(items=frozenset({'White - English/Welsh/Scottish/Northern Irish/British'}), support=0.3932926829268293, ordered_statistics=[OrderedStatistic(items_base=frozenset(), items_add=frozenset({'White - English/Welsh/Scottish/Northern Irish/British'}), confidence=0.3932926829268293, lift=1.0)]),\n",
              " RelationRecord(items=frozenset({'over 34'}), support=0.4115853658536585, ordered_statistics=[OrderedStatistic(items_base=frozenset(), items_add=frozenset({'over 34'}), confidence=0.4115853658536585, lift=1.0)]),\n",
              " RelationRecord(items=frozenset({'Article for use in theft', '10-17'}), support=0.16158536585365854, ordered_statistics=[OrderedStatistic(items_base=frozenset(), items_add=frozenset({'Article for use in theft', '10-17'}), confidence=0.16158536585365854, lift=1.0), OrderedStatistic(items_base=frozenset({'10-17'}), items_add=frozenset({'Article for use in theft'}), confidence=0.803030303030303, lift=0.9373449800496063), OrderedStatistic(items_base=frozenset({'Article for use in theft'}), items_add=frozenset({'10-17'}), confidence=0.18861209964412812, lift=0.9373449800496063)]),\n",
              " RelationRecord(items=frozenset({'Black', '10-17'}), support=0.051829268292682924, ordered_statistics=[OrderedStatistic(items_base=frozenset(), items_add=frozenset({'10-17', 'Black'}), confidence=0.051829268292682924, lift=1.0), OrderedStatistic(items_base=frozenset({'10-17'}), items_add=frozenset({'Black'}), confidence=0.25757575757575757, lift=1.4566353187042842), OrderedStatistic(items_base=frozenset({'Black'}), items_add=frozenset({'10-17'}), confidence=0.29310344827586204, lift=1.456635318704284)]),\n",
              " RelationRecord(items=frozenset({'Male', '10-17'}), support=0.19817073170731708, ordered_statistics=[OrderedStatistic(items_base=frozenset(), items_add=frozenset({'Male', '10-17'}), confidence=0.19817073170731708, lift=1.0), OrderedStatistic(items_base=frozenset({'10-17'}), items_add=frozenset({'Male'}), confidence=0.9848484848484849, lift=1.1414498340293393), OrderedStatistic(items_base=frozenset({'Male'}), items_add=frozenset({'10-17'}), confidence=0.2296819787985866, lift=1.1414498340293393)]),\n",
              " RelationRecord(items=frozenset({'Other ethnic group - Not stated', '10-17'}), support=0.0975609756097561, ordered_statistics=[OrderedStatistic(items_base=frozenset(), items_add=frozenset({'Other ethnic group - Not stated', '10-17'}), confidence=0.0975609756097561, lift=1.0), OrderedStatistic(items_base=frozenset({'10-17'}), items_add=frozenset({'Other ethnic group - Not stated'}), confidence=0.48484848484848486, lift=1.2233100233100234), OrderedStatistic(items_base=frozenset({'Other ethnic group - Not stated'}), items_add=frozenset({'10-17'}), confidence=0.24615384615384614, lift=1.2233100233100231)]),\n",
              " RelationRecord(items=frozenset({'White', '10-17'}), support=0.11585365853658537, ordered_statistics=[OrderedStatistic(items_base=frozenset(), items_add=frozenset({'White', '10-17'}), confidence=0.11585365853658537, lift=1.0), OrderedStatistic(items_base=frozenset({'10-17'}), items_add=frozenset({'White'}), confidence=0.5757575757575758, lift=0.8430735930735931), OrderedStatistic(items_base=frozenset({'White'}), items_add=frozenset({'10-17'}), confidence=0.16964285714285715, lift=0.8430735930735931)]),\n",
              " RelationRecord(items=frozenset({'10-17', 'White - English/Welsh/Scottish/Northern Irish/British'}), support=0.06707317073170732, ordered_statistics=[OrderedStatistic(items_base=frozenset(), items_add=frozenset({'10-17', 'White - English/Welsh/Scottish/Northern Irish/British'}), confidence=0.06707317073170732, lift=1.0), OrderedStatistic(items_base=frozenset({'10-17'}), items_add=frozenset({'White - English/Welsh/Scottish/Northern Irish/British'}), confidence=0.3333333333333333, lift=0.8475452196382428), OrderedStatistic(items_base=frozenset({'White - English/Welsh/Scottish/Northern Irish/British'}), items_add=frozenset({'10-17'}), confidence=0.17054263565891473, lift=0.8475452196382428)]),\n",
              " RelationRecord(items=frozenset({'Article for use in theft', '18-24'}), support=0.1676829268292683, ordered_statistics=[OrderedStatistic(items_base=frozenset(), items_add=frozenset({'Article for use in theft', '18-24'}), confidence=0.1676829268292683, lift=1.0), OrderedStatistic(items_base=frozenset({'18-24'}), items_add=frozenset({'Article for use in theft'}), confidence=0.8333333333333334, lift=0.9727164887307237), OrderedStatistic(items_base=frozenset({'Article for use in theft'}), items_add=frozenset({'18-24'}), confidence=0.19572953736654805, lift=0.9727164887307236)]),\n",
              " RelationRecord(items=frozenset({'Black', '18-24'}), support=0.057926829268292686, ordered_statistics=[OrderedStatistic(items_base=frozenset(), items_add=frozenset({'Black', '18-24'}), confidence=0.057926829268292686, lift=1.0), OrderedStatistic(items_base=frozenset({'18-24'}), items_add=frozenset({'Black'}), confidence=0.2878787878787879, lift=1.6280041797283178), OrderedStatistic(items_base=frozenset({'Black'}), items_add=frozenset({'18-24'}), confidence=0.32758620689655177, lift=1.6280041797283178)]),\n",
              " RelationRecord(items=frozenset({'Male', '18-24'}), support=0.18292682926829268, ordered_statistics=[OrderedStatistic(items_base=frozenset(), items_add=frozenset({'Male', '18-24'}), confidence=0.18292682926829268, lift=1.0), OrderedStatistic(items_base=frozenset({'18-24'}), items_add=frozenset({'Male'}), confidence=0.9090909090909091, lift=1.053646000642467), OrderedStatistic(items_base=frozenset({'Male'}), items_add=frozenset({'18-24'}), confidence=0.21201413427561838, lift=1.053646000642467)]),\n",
              " RelationRecord(items=frozenset({'Other ethnic group - Not stated', '18-24'}), support=0.07317073170731707, ordered_statistics=[OrderedStatistic(items_base=frozenset(), items_add=frozenset({'Other ethnic group - Not stated', '18-24'}), confidence=0.07317073170731707, lift=1.0), OrderedStatistic(items_base=frozenset({'18-24'}), items_add=frozenset({'Other ethnic group - Not stated'}), confidence=0.3636363636363636, lift=0.9174825174825173), OrderedStatistic(items_base=frozenset({'Other ethnic group - Not stated'}), items_add=frozenset({'18-24'}), confidence=0.1846153846153846, lift=0.9174825174825173)]),\n",
              " RelationRecord(items=frozenset({'White', '18-24'}), support=0.10975609756097561, ordered_statistics=[OrderedStatistic(items_base=frozenset(), items_add=frozenset({'White', '18-24'}), confidence=0.10975609756097561, lift=1.0), OrderedStatistic(items_base=frozenset({'18-24'}), items_add=frozenset({'White'}), confidence=0.5454545454545454, lift=0.7987012987012986), OrderedStatistic(items_base=frozenset({'White'}), items_add=frozenset({'18-24'}), confidence=0.1607142857142857, lift=0.7987012987012986)]),\n",
              " RelationRecord(items=frozenset({'White - English/Welsh/Scottish/Northern Irish/British', '18-24'}), support=0.06707317073170732, ordered_statistics=[OrderedStatistic(items_base=frozenset(), items_add=frozenset({'18-24', 'White - English/Welsh/Scottish/Northern Irish/British'}), confidence=0.06707317073170732, lift=1.0), OrderedStatistic(items_base=frozenset({'18-24'}), items_add=frozenset({'White - English/Welsh/Scottish/Northern Irish/British'}), confidence=0.3333333333333333, lift=0.8475452196382428), OrderedStatistic(items_base=frozenset({'White - English/Welsh/Scottish/Northern Irish/British'}), items_add=frozenset({'18-24'}), confidence=0.17054263565891473, lift=0.8475452196382428)]),\n",
              " RelationRecord(items=frozenset({'Article for use in theft', '25-34'}), support=0.1676829268292683, ordered_statistics=[OrderedStatistic(items_base=frozenset(), items_add=frozenset({'Article for use in theft', '25-34'}), confidence=0.1676829268292683, lift=1.0), OrderedStatistic(items_base=frozenset({'25-34'}), items_add=frozenset({'Article for use in theft'}), confidence=0.9016393442622952, lift=1.0524473484627503), OrderedStatistic(items_base=frozenset({'Article for use in theft'}), items_add=frozenset({'25-34'}), confidence=0.19572953736654805, lift=1.0524473484627501)]),\n",
              " RelationRecord(items=frozenset({'Male', '25-34'}), support=0.15548780487804878, ordered_statistics=[OrderedStatistic(items_base=frozenset(), items_add=frozenset({'Male', '25-34'}), confidence=0.15548780487804878, lift=1.0), OrderedStatistic(items_base=frozenset({'25-34'}), items_add=frozenset({'Male'}), confidence=0.8360655737704918, lift=0.9690088628859411), OrderedStatistic(items_base=frozenset({'Male'}), items_add=frozenset({'25-34'}), confidence=0.18021201413427562, lift=0.969008862885941)]),\n",
              " RelationRecord(items=frozenset({'Other ethnic group - Not stated', '25-34'}), support=0.0701219512195122, ordered_statistics=[OrderedStatistic(items_base=frozenset(), items_add=frozenset({'Other ethnic group - Not stated', '25-34'}), confidence=0.0701219512195122, lift=1.0), OrderedStatistic(items_base=frozenset({'25-34'}), items_add=frozenset({'Other ethnic group - Not stated'}), confidence=0.3770491803278689, lift=0.9513240857503152), OrderedStatistic(items_base=frozenset({'Other ethnic group - Not stated'}), items_add=frozenset({'25-34'}), confidence=0.17692307692307693, lift=0.9513240857503154)]),\n",
              " RelationRecord(items=frozenset({'White', '25-34'}), support=0.11585365853658537, ordered_statistics=[OrderedStatistic(items_base=frozenset(), items_add=frozenset({'White', '25-34'}), confidence=0.11585365853658537, lift=1.0), OrderedStatistic(items_base=frozenset({'25-34'}), items_add=frozenset({'White'}), confidence=0.6229508196721312, lift=0.9121779859484778), OrderedStatistic(items_base=frozenset({'White'}), items_add=frozenset({'25-34'}), confidence=0.16964285714285715, lift=0.9121779859484778)]),\n",
              " RelationRecord(items=frozenset({'25-34', 'White - English/Welsh/Scottish/Northern Irish/British'}), support=0.06402439024390244, ordered_statistics=[OrderedStatistic(items_base=frozenset(), items_add=frozenset({'25-34', 'White - English/Welsh/Scottish/Northern Irish/British'}), confidence=0.06402439024390244, lift=1.0), OrderedStatistic(items_base=frozenset({'25-34'}), items_add=frozenset({'White - English/Welsh/Scottish/Northern Irish/British'}), confidence=0.3442622950819672, lift=0.8753335874952344), OrderedStatistic(items_base=frozenset({'White - English/Welsh/Scottish/Northern Irish/British'}), items_add=frozenset({'25-34'}), confidence=0.1627906976744186, lift=0.8753335874952344)]),\n",
              " RelationRecord(items=frozenset({'Asian', 'Article for use in theft'}), support=0.0701219512195122, ordered_statistics=[OrderedStatistic(items_base=frozenset(), items_add=frozenset({'Asian', 'Article for use in theft'}), confidence=0.0701219512195122, lift=1.0), OrderedStatistic(items_base=frozenset({'Article for use in theft'}), items_add=frozenset({'Asian'}), confidence=0.0818505338078292, lift=0.9943324107025175), OrderedStatistic(items_base=frozenset({'Asian'}), items_add=frozenset({'Article for use in theft'}), confidence=0.8518518518518519, lift=0.9943324107025175)]),\n",
              " RelationRecord(items=frozenset({'Article for use in theft', 'Black'}), support=0.14939024390243902, ordered_statistics=[OrderedStatistic(items_base=frozenset(), items_add=frozenset({'Article for use in theft', 'Black'}), confidence=0.14939024390243902, lift=1.0), OrderedStatistic(items_base=frozenset({'Article for use in theft'}), items_add=frozenset({'Black'}), confidence=0.17437722419928825, lift=0.9861332678856302), OrderedStatistic(items_base=frozenset({'Black'}), items_add=frozenset({'Article for use in theft'}), confidence=0.8448275862068966, lift=0.9861332678856302)]),\n",
              " RelationRecord(items=frozenset({'Article for use in theft', 'Female'}), support=0.10670731707317073, ordered_statistics=[OrderedStatistic(items_base=frozenset(), items_add=frozenset({'Article for use in theft', 'Female'}), confidence=0.10670731707317073, lift=1.0), OrderedStatistic(items_base=frozenset({'Article for use in theft'}), items_add=frozenset({'Female'}), confidence=0.12455516014234876, lift=0.928502102879327), OrderedStatistic(items_base=frozenset({'Female'}), items_add=frozenset({'Article for use in theft'}), confidence=0.7954545454545454, lift=0.928502102879327)]),\n",
              " RelationRecord(items=frozenset({'Male', 'Article for use in theft'}), support=0.7469512195121951, ordered_statistics=[OrderedStatistic(items_base=frozenset(), items_add=frozenset({'Male', 'Article for use in theft'}), confidence=0.7469512195121951, lift=1.0), OrderedStatistic(items_base=frozenset({'Article for use in theft'}), items_add=frozenset({'Male'}), confidence=0.8718861209964412, lift=1.010525256843932), OrderedStatistic(items_base=frozenset({'Male'}), items_add=frozenset({'Article for use in theft'}), confidence=0.8657243816254417, lift=1.010525256843932)]),\n",
              " RelationRecord(items=frozenset({'Other', 'Article for use in theft'}), support=0.051829268292682924, ordered_statistics=[OrderedStatistic(items_base=frozenset(), items_add=frozenset({'Other', 'Article for use in theft'}), confidence=0.051829268292682924, lift=1.0), OrderedStatistic(items_base=frozenset({'Article for use in theft'}), items_add=frozenset({'Other'}), confidence=0.060498220640569395, lift=1.044390335268777), OrderedStatistic(items_base=frozenset({'Other'}), items_add=frozenset({'Article for use in theft'}), confidence=0.894736842105263, lift=1.044390335268777)]),\n",
              " RelationRecord(items=frozenset({'Other ethnic group - Not stated', 'Article for use in theft'}), support=0.3384146341463415, ordered_statistics=[OrderedStatistic(items_base=frozenset(), items_add=frozenset({'Other ethnic group - Not stated', 'Article for use in theft'}), confidence=0.3384146341463415, lift=1.0), OrderedStatistic(items_base=frozenset({'Article for use in theft'}), items_add=frozenset({'Other ethnic group - Not stated'}), confidence=0.3950177935943061, lift=0.996660279222557), OrderedStatistic(items_base=frozenset({'Other ethnic group - Not stated'}), items_add=frozenset({'Article for use in theft'}), confidence=0.8538461538461538, lift=0.9966602792225567)]),\n",
              " RelationRecord(items=frozenset({'White', 'Article for use in theft'}), support=0.5853658536585366, ordered_statistics=[OrderedStatistic(items_base=frozenset(), items_add=frozenset({'White', 'Article for use in theft'}), confidence=0.5853658536585366, lift=1.0), OrderedStatistic(items_base=frozenset({'Article for use in theft'}), items_add=frozenset({'White'}), confidence=0.6832740213523132, lift=1.0005083884087442), OrderedStatistic(items_base=frozenset({'White'}), items_add=frozenset({'Article for use in theft'}), confidence=0.857142857142857, lift=1.000508388408744)]),\n",
              " RelationRecord(items=frozenset({'Article for use in theft', 'White - English/Welsh/Scottish/Northern Irish/British'}), support=0.3445121951219512, ordered_statistics=[OrderedStatistic(items_base=frozenset(), items_add=frozenset({'Article for use in theft', 'White - English/Welsh/Scottish/Northern Irish/British'}), confidence=0.3445121951219512, lift=1.0), OrderedStatistic(items_base=frozenset({'Article for use in theft'}), items_add=frozenset({'White - English/Welsh/Scottish/Northern Irish/British'}), confidence=0.40213523131672596, lift=1.0224833788518304), OrderedStatistic(items_base=frozenset({'White - English/Welsh/Scottish/Northern Irish/British'}), items_add=frozenset({'Article for use in theft'}), confidence=0.8759689922480619, lift=1.0224833788518304)]),\n",
              " RelationRecord(items=frozenset({'Article for use in theft', 'over 34'}), support=0.3597560975609756, ordered_statistics=[OrderedStatistic(items_base=frozenset(), items_add=frozenset({'Article for use in theft', 'over 34'}), confidence=0.3597560975609756, lift=1.0), OrderedStatistic(items_base=frozenset({'Article for use in theft'}), items_add=frozenset({'over 34'}), confidence=0.4199288256227758, lift=1.02027151706867), OrderedStatistic(items_base=frozenset({'over 34'}), items_add=frozenset({'Article for use in theft'}), confidence=0.8740740740740741, lift=1.0202715170686703)]),\n",
              " RelationRecord(items=frozenset({'Male', 'Asian'}), support=0.07926829268292683, ordered_statistics=[OrderedStatistic(items_base=frozenset(), items_add=frozenset({'Male', 'Asian'}), confidence=0.07926829268292683, lift=1.0), OrderedStatistic(items_base=frozenset({'Asian'}), items_add=frozenset({'Male'}), confidence=0.9629629629629629, lift=1.1160842821620207), OrderedStatistic(items_base=frozenset({'Male'}), items_add=frozenset({'Asian'}), confidence=0.09187279151943463, lift=1.1160842821620207)]),\n",
              " RelationRecord(items=frozenset({'Male', 'Black'}), support=0.17073170731707318, ordered_statistics=[OrderedStatistic(items_base=frozenset(), items_add=frozenset({'Male', 'Black'}), confidence=0.17073170731707318, lift=1.0), OrderedStatistic(items_base=frozenset({'Black'}), items_add=frozenset({'Male'}), confidence=0.9655172413793105, lift=1.119044717923724), OrderedStatistic(items_base=frozenset({'Male'}), items_add=frozenset({'Black'}), confidence=0.19787985865724383, lift=1.1190447179237237)]),\n",
              " RelationRecord(items=frozenset({'Other ethnic group - Not stated', 'Black'}), support=0.07317073170731707, ordered_statistics=[OrderedStatistic(items_base=frozenset(), items_add=frozenset({'Other ethnic group - Not stated', 'Black'}), confidence=0.07317073170731707, lift=1.0), OrderedStatistic(items_base=frozenset({'Black'}), items_add=frozenset({'Other ethnic group - Not stated'}), confidence=0.41379310344827586, lift=1.0440318302387268), OrderedStatistic(items_base=frozenset({'Other ethnic group - Not stated'}), items_add=frozenset({'Black'}), confidence=0.1846153846153846, lift=1.0440318302387268)]),\n",
              " RelationRecord(items=frozenset({'Male', 'Controlled drugs'}), support=0.06707317073170732, ordered_statistics=[OrderedStatistic(items_base=frozenset(), items_add=frozenset({'Male', 'Controlled drugs'}), confidence=0.06707317073170732, lift=1.0), OrderedStatistic(items_base=frozenset({'Controlled drugs'}), items_add=frozenset({'Male'}), confidence=0.7857142857142857, lift=0.9106511862695609), OrderedStatistic(items_base=frozenset({'Male'}), items_add=frozenset({'Controlled drugs'}), confidence=0.07773851590106008, lift=0.9106511862695609)]),\n",
              " RelationRecord(items=frozenset({'White', 'Controlled drugs'}), support=0.054878048780487805, ordered_statistics=[OrderedStatistic(items_base=frozenset(), items_add=frozenset({'White', 'Controlled drugs'}), confidence=0.054878048780487805, lift=1.0), OrderedStatistic(items_base=frozenset({'Controlled drugs'}), items_add=frozenset({'White'}), confidence=0.6428571428571428, lift=0.9413265306122447), OrderedStatistic(items_base=frozenset({'White'}), items_add=frozenset({'Controlled drugs'}), confidence=0.08035714285714285, lift=0.9413265306122447)]),\n",
              " RelationRecord(items=frozenset({'White', 'Female'}), support=0.125, ordered_statistics=[OrderedStatistic(items_base=frozenset(), items_add=frozenset({'White', 'Female'}), confidence=0.125, lift=1.0), OrderedStatistic(items_base=frozenset({'Female'}), items_add=frozenset({'White'}), confidence=0.9318181818181818, lift=1.3644480519480517), OrderedStatistic(items_base=frozenset({'White'}), items_add=frozenset({'Female'}), confidence=0.18303571428571427, lift=1.3644480519480517)]),\n",
              " RelationRecord(items=frozenset({'White - English/Welsh/Scottish/Northern Irish/British', 'Female'}), support=0.08231707317073171, ordered_statistics=[OrderedStatistic(items_base=frozenset(), items_add=frozenset({'Female', 'White - English/Welsh/Scottish/Northern Irish/British'}), confidence=0.08231707317073171, lift=1.0), OrderedStatistic(items_base=frozenset({'Female'}), items_add=frozenset({'White - English/Welsh/Scottish/Northern Irish/British'}), confidence=0.6136363636363636, lift=1.5602536997885834), OrderedStatistic(items_base=frozenset({'White - English/Welsh/Scottish/Northern Irish/British'}), items_add=frozenset({'Female'}), confidence=0.20930232558139536, lift=1.5602536997885834)]),\n",
              " RelationRecord(items=frozenset({'over 34', 'Female'}), support=0.08231707317073171, ordered_statistics=[OrderedStatistic(items_base=frozenset(), items_add=frozenset({'over 34', 'Female'}), confidence=0.08231707317073171, lift=1.0), OrderedStatistic(items_base=frozenset({'Female'}), items_add=frozenset({'over 34'}), confidence=0.6136363636363636, lift=1.490909090909091), OrderedStatistic(items_base=frozenset({'over 34'}), items_add=frozenset({'Female'}), confidence=0.2, lift=1.490909090909091)]),\n",
              " RelationRecord(items=frozenset({'Male', 'Other'}), support=0.054878048780487805, ordered_statistics=[OrderedStatistic(items_base=frozenset(), items_add=frozenset({'Male', 'Other'}), confidence=0.054878048780487805, lift=1.0), OrderedStatistic(items_base=frozenset({'Male'}), items_add=frozenset({'Other'}), confidence=0.06360424028268552, lift=1.0980100427747816), OrderedStatistic(items_base=frozenset({'Other'}), items_add=frozenset({'Male'}), confidence=0.9473684210526315, lift=1.0980100427747814)]),\n",
              " RelationRecord(items=frozenset({'Male', 'Other ethnic group - Not stated'}), support=0.3567073170731707, ordered_statistics=[OrderedStatistic(items_base=frozenset(), items_add=frozenset({'Male', 'Other ethnic group - Not stated'}), confidence=0.3567073170731707, lift=1.0), OrderedStatistic(items_base=frozenset({'Male'}), items_add=frozenset({'Other ethnic group - Not stated'}), confidence=0.4134275618374558, lift=1.0431095406360424), OrderedStatistic(items_base=frozenset({'Other ethnic group - Not stated'}), items_add=frozenset({'Male'}), confidence=0.8999999999999999, lift=1.0431095406360422)]),\n",
              " RelationRecord(items=frozenset({'Male', 'White'}), support=0.5579268292682927, ordered_statistics=[OrderedStatistic(items_base=frozenset(), items_add=frozenset({'Male', 'White'}), confidence=0.5579268292682927, lift=1.0), OrderedStatistic(items_base=frozenset({'Male'}), items_add=frozenset({'White'}), confidence=0.6466431095406361, lift=0.9468702675416456), OrderedStatistic(items_base=frozenset({'White'}), items_add=frozenset({'Male'}), confidence=0.8169642857142857, lift=0.9468702675416456)]),\n",
              " RelationRecord(items=frozenset({'Male', 'White - English/Welsh/Scottish/Northern Irish/British'}), support=0.31097560975609756, ordered_statistics=[OrderedStatistic(items_base=frozenset(), items_add=frozenset({'Male', 'White - English/Welsh/Scottish/Northern Irish/British'}), confidence=0.31097560975609756, lift=1.0), OrderedStatistic(items_base=frozenset({'Male'}), items_add=frozenset({'White - English/Welsh/Scottish/Northern Irish/British'}), confidence=0.36042402826855124, lift=0.9164269866053085), OrderedStatistic(items_base=frozenset({'White - English/Welsh/Scottish/Northern Irish/British'}), items_add=frozenset({'Male'}), confidence=0.7906976744186046, lift=0.9164269866053085)]),\n",
              " RelationRecord(items=frozenset({'Male', 'over 34'}), support=0.32621951219512196, ordered_statistics=[OrderedStatistic(items_base=frozenset(), items_add=frozenset({'Male', 'over 34'}), confidence=0.32621951219512196, lift=1.0), OrderedStatistic(items_base=frozenset({'Male'}), items_add=frozenset({'over 34'}), confidence=0.37809187279151946, lift=0.9186232168564326), OrderedStatistic(items_base=frozenset({'over 34'}), items_add=frozenset({'Male'}), confidence=0.7925925925925926, lift=0.9186232168564324)]),\n",
              " RelationRecord(items=frozenset({'Other ethnic group - Not stated', 'White'}), support=0.23780487804878048, ordered_statistics=[OrderedStatistic(items_base=frozenset(), items_add=frozenset({'Other ethnic group - Not stated', 'White'}), confidence=0.23780487804878048, lift=1.0), OrderedStatistic(items_base=frozenset({'Other ethnic group - Not stated'}), items_add=frozenset({'White'}), confidence=0.6, lift=0.8785714285714284), OrderedStatistic(items_base=frozenset({'White'}), items_add=frozenset({'Other ethnic group - Not stated'}), confidence=0.3482142857142857, lift=0.8785714285714284)]),\n",
              " RelationRecord(items=frozenset({'Other ethnic group - Not stated', 'over 34'}), support=0.15548780487804878, ordered_statistics=[OrderedStatistic(items_base=frozenset(), items_add=frozenset({'Other ethnic group - Not stated', 'over 34'}), confidence=0.15548780487804878, lift=1.0), OrderedStatistic(items_base=frozenset({'Other ethnic group - Not stated'}), items_add=frozenset({'over 34'}), confidence=0.3923076923076923, lift=0.9531623931623932), OrderedStatistic(items_base=frozenset({'over 34'}), items_add=frozenset({'Other ethnic group - Not stated'}), confidence=0.3777777777777778, lift=0.9531623931623933)]),\n",
              " RelationRecord(items=frozenset({'White', 'White - English/Welsh/Scottish/Northern Irish/British'}), support=0.3902439024390244, ordered_statistics=[OrderedStatistic(items_base=frozenset(), items_add=frozenset({'White', 'White - English/Welsh/Scottish/Northern Irish/British'}), confidence=0.3902439024390244, lift=1.0), OrderedStatistic(items_base=frozenset({'White'}), items_add=frozenset({'White - English/Welsh/Scottish/Northern Irish/British'}), confidence=0.5714285714285714, lift=1.4529346622369876), OrderedStatistic(items_base=frozenset({'White - English/Welsh/Scottish/Northern Irish/British'}), items_add=frozenset({'White'}), confidence=0.9922480620155039, lift=1.4529346622369876)]),\n",
              " RelationRecord(items=frozenset({'White', 'over 34'}), support=0.34146341463414637, ordered_statistics=[OrderedStatistic(items_base=frozenset(), items_add=frozenset({'White', 'over 34'}), confidence=0.34146341463414637, lift=1.0), OrderedStatistic(items_base=frozenset({'White'}), items_add=frozenset({'over 34'}), confidence=0.5, lift=1.2148148148148148), OrderedStatistic(items_base=frozenset({'over 34'}), items_add=frozenset({'White'}), confidence=0.8296296296296297, lift=1.2148148148148148)]),\n",
              " RelationRecord(items=frozenset({'over 34', 'White - English/Welsh/Scottish/Northern Irish/British'}), support=0.1951219512195122, ordered_statistics=[OrderedStatistic(items_base=frozenset(), items_add=frozenset({'over 34', 'White - English/Welsh/Scottish/Northern Irish/British'}), confidence=0.1951219512195122, lift=1.0), OrderedStatistic(items_base=frozenset({'White - English/Welsh/Scottish/Northern Irish/British'}), items_add=frozenset({'over 34'}), confidence=0.49612403100775193, lift=1.2053976457077233), OrderedStatistic(items_base=frozenset({'over 34'}), items_add=frozenset({'White - English/Welsh/Scottish/Northern Irish/British'}), confidence=0.4740740740740741, lift=1.2053976457077231)]),\n",
              " RelationRecord(items=frozenset({'Male', 'Article for use in theft', '10-17'}), support=0.15853658536585366, ordered_statistics=[OrderedStatistic(items_base=frozenset(), items_add=frozenset({'Male', 'Article for use in theft', '10-17'}), confidence=0.15853658536585366, lift=1.0), OrderedStatistic(items_base=frozenset({'10-17'}), items_add=frozenset({'Male', 'Article for use in theft'}), confidence=0.7878787878787878, lift=1.0547928262213977), OrderedStatistic(items_base=frozenset({'Article for use in theft'}), items_add=frozenset({'Male', '10-17'}), confidence=0.18505338078291816, lift=0.9338078291814947), OrderedStatistic(items_base=frozenset({'Male'}), items_add=frozenset({'Article for use in theft', '10-17'}), confidence=0.18374558303886926, lift=1.1371424761650777), OrderedStatistic(items_base=frozenset({'Article for use in theft', '10-17'}), items_add=frozenset({'Male'}), confidence=0.9811320754716981, lift=1.1371424761650777), OrderedStatistic(items_base=frozenset({'Male', '10-17'}), items_add=frozenset({'Article for use in theft'}), confidence=0.7999999999999999, lift=0.9338078291814946), OrderedStatistic(items_base=frozenset({'Male', 'Article for use in theft'}), items_add=frozenset({'10-17'}), confidence=0.21224489795918366, lift=1.0547928262213975)]),\n",
              " RelationRecord(items=frozenset({'Other ethnic group - Not stated', 'Article for use in theft', '10-17'}), support=0.07926829268292683, ordered_statistics=[OrderedStatistic(items_base=frozenset(), items_add=frozenset({'Other ethnic group - Not stated', 'Article for use in theft', '10-17'}), confidence=0.07926829268292683, lift=1.0), OrderedStatistic(items_base=frozenset({'10-17'}), items_add=frozenset({'Other ethnic group - Not stated', 'Article for use in theft'}), confidence=0.3939393939393939, lift=1.1640731640731639), OrderedStatistic(items_base=frozenset({'Article for use in theft'}), items_add=frozenset({'Other ethnic group - Not stated', '10-17'}), confidence=0.09252669039145908, lift=0.9483985765124555), OrderedStatistic(items_base=frozenset({'Other ethnic group - Not stated'}), items_add=frozenset({'Article for use in theft', '10-17'}), confidence=0.19999999999999998, lift=1.2377358490566037), OrderedStatistic(items_base=frozenset({'Article for use in theft', '10-17'}), items_add=frozenset({'Other ethnic group - Not stated'}), confidence=0.49056603773584906, lift=1.2377358490566037), OrderedStatistic(items_base=frozenset({'Other ethnic group - Not stated', '10-17'}), items_add=frozenset({'Article for use in theft'}), confidence=0.8125, lift=0.9483985765124555), OrderedStatistic(items_base=frozenset({'Other ethnic group - Not stated', 'Article for use in theft'}), items_add=frozenset({'10-17'}), confidence=0.23423423423423423, lift=1.164073164073164)]),\n",
              " RelationRecord(items=frozenset({'White', 'Article for use in theft', '10-17'}), support=0.09451219512195122, ordered_statistics=[OrderedStatistic(items_base=frozenset(), items_add=frozenset({'White', 'Article for use in theft', '10-17'}), confidence=0.09451219512195122, lift=1.0), OrderedStatistic(items_base=frozenset({'10-17'}), items_add=frozenset({'White', 'Article for use in theft'}), confidence=0.46969696969696967, lift=0.80239898989899), OrderedStatistic(items_base=frozenset({'Article for use in theft'}), items_add=frozenset({'White', '10-17'}), confidence=0.1103202846975089, lift=0.9522382468627084), OrderedStatistic(items_base=frozenset({'White'}), items_add=frozenset({'Article for use in theft', '10-17'}), confidence=0.13839285714285712, lift=0.8564690026954176), OrderedStatistic(items_base=frozenset({'Article for use in theft', '10-17'}), items_add=frozenset({'White'}), confidence=0.5849056603773585, lift=0.8564690026954177), OrderedStatistic(items_base=frozenset({'White', '10-17'}), items_add=frozenset({'Article for use in theft'}), confidence=0.8157894736842105, lift=0.9522382468627084), OrderedStatistic(items_base=frozenset({'White', 'Article for use in theft'}), items_add=frozenset({'10-17'}), confidence=0.16145833333333334, lift=0.80239898989899)]),\n",
              " RelationRecord(items=frozenset({'Article for use in theft', '10-17', 'White - English/Welsh/Scottish/Northern Irish/British'}), support=0.057926829268292686, ordered_statistics=[OrderedStatistic(items_base=frozenset(), items_add=frozenset({'Article for use in theft', '10-17', 'White - English/Welsh/Scottish/Northern Irish/British'}), confidence=0.057926829268292686, lift=1.0), OrderedStatistic(items_base=frozenset({'10-17'}), items_add=frozenset({'Article for use in theft', 'White - English/Welsh/Scottish/Northern Irish/British'}), confidence=0.2878787878787879, lift=0.8356127648163048), OrderedStatistic(items_base=frozenset({'Article for use in theft'}), items_add=frozenset({'10-17', 'White - English/Welsh/Scottish/Northern Irish/British'}), confidence=0.06761565836298933, lift=1.0080879974118409), OrderedStatistic(items_base=frozenset({'White - English/Welsh/Scottish/Northern Irish/British'}), items_add=frozenset({'Article for use in theft', '10-17'}), confidence=0.14728682170542637, lift=0.9115108965920726), OrderedStatistic(items_base=frozenset({'Article for use in theft', '10-17'}), items_add=frozenset({'White - English/Welsh/Scottish/Northern Irish/British'}), confidence=0.3584905660377359, lift=0.9115108965920726), OrderedStatistic(items_base=frozenset({'10-17', 'White - English/Welsh/Scottish/Northern Irish/British'}), items_add=frozenset({'Article for use in theft'}), confidence=0.8636363636363636, lift=1.0080879974118409), OrderedStatistic(items_base=frozenset({'Article for use in theft', 'White - English/Welsh/Scottish/Northern Irish/British'}), items_add=frozenset({'10-17'}), confidence=0.168141592920354, lift=0.8356127648163046)]),\n",
              " RelationRecord(items=frozenset({'Male', 'Black', '10-17'}), support=0.051829268292682924, ordered_statistics=[OrderedStatistic(items_base=frozenset(), items_add=frozenset({'Male', '10-17', 'Black'}), confidence=0.051829268292682924, lift=1.0), OrderedStatistic(items_base=frozenset({'10-17'}), items_add=frozenset({'Male', 'Black'}), confidence=0.25757575757575757, lift=1.5086580086580086), OrderedStatistic(items_base=frozenset({'Black'}), items_add=frozenset({'Male', '10-17'}), confidence=0.29310344827586204, lift=1.4790450928381962), OrderedStatistic(items_base=frozenset({'Male'}), items_add=frozenset({'10-17', 'Black'}), confidence=0.06007067137809187, lift=1.1590106007067138), OrderedStatistic(items_base=frozenset({'Black', '10-17'}), items_add=frozenset({'Male'}), confidence=1.0, lift=1.1590106007067138), OrderedStatistic(items_base=frozenset({'Male', '10-17'}), items_add=frozenset({'Black'}), confidence=0.2615384615384615, lift=1.4790450928381962), OrderedStatistic(items_base=frozenset({'Male', 'Black'}), items_add=frozenset({'10-17'}), confidence=0.30357142857142855, lift=1.5086580086580084)]),\n",
              " RelationRecord(items=frozenset({'Male', '10-17', 'Other ethnic group - Not stated'}), support=0.0975609756097561, ordered_statistics=[OrderedStatistic(items_base=frozenset(), items_add=frozenset({'Male', '10-17', 'Other ethnic group - Not stated'}), confidence=0.0975609756097561, lift=1.0), OrderedStatistic(items_base=frozenset({'10-17'}), items_add=frozenset({'Male', 'Other ethnic group - Not stated'}), confidence=0.48484848484848486, lift=1.3592333592333594), OrderedStatistic(items_base=frozenset({'Male'}), items_add=frozenset({'Other ethnic group - Not stated', '10-17'}), confidence=0.11307420494699646, lift=1.1590106007067138), OrderedStatistic(items_base=frozenset({'Other ethnic group - Not stated'}), items_add=frozenset({'Male', '10-17'}), confidence=0.24615384615384614, lift=1.2421301775147928), OrderedStatistic(items_base=frozenset({'Male', '10-17'}), items_add=frozenset({'Other ethnic group - Not stated'}), confidence=0.4923076923076923, lift=1.2421301775147928), OrderedStatistic(items_base=frozenset({'Other ethnic group - Not stated', '10-17'}), items_add=frozenset({'Male'}), confidence=1.0, lift=1.1590106007067138), OrderedStatistic(items_base=frozenset({'Male', 'Other ethnic group - Not stated'}), items_add=frozenset({'10-17'}), confidence=0.27350427350427353, lift=1.3592333592333592)]),\n",
              " RelationRecord(items=frozenset({'Male', 'White', '10-17'}), support=0.11280487804878049, ordered_statistics=[OrderedStatistic(items_base=frozenset(), items_add=frozenset({'Male', 'White', '10-17'}), confidence=0.11280487804878049, lift=1.0), OrderedStatistic(items_base=frozenset({'10-17'}), items_add=frozenset({'Male', 'White'}), confidence=0.5606060606060606, lift=1.0048021195562178), OrderedStatistic(items_base=frozenset({'Male'}), items_add=frozenset({'White', '10-17'}), confidence=0.13074204946996468, lift=1.1285103217407477), OrderedStatistic(items_base=frozenset({'White'}), items_add=frozenset({'Male', '10-17'}), confidence=0.16517857142857142, lift=0.8335164835164834), OrderedStatistic(items_base=frozenset({'Male', '10-17'}), items_add=frozenset({'White'}), confidence=0.5692307692307692, lift=0.8335164835164834), OrderedStatistic(items_base=frozenset({'White', '10-17'}), items_add=frozenset({'Male'}), confidence=0.9736842105263158, lift=1.1285103217407477), OrderedStatistic(items_base=frozenset({'Male', 'White'}), items_add=frozenset({'10-17'}), confidence=0.20218579234972675, lift=1.0048021195562178)]),\n",
              " RelationRecord(items=frozenset({'Male', '10-17', 'White - English/Welsh/Scottish/Northern Irish/British'}), support=0.06402439024390244, ordered_statistics=[OrderedStatistic(items_base=frozenset(), items_add=frozenset({'Male', '10-17', 'White - English/Welsh/Scottish/Northern Irish/British'}), confidence=0.06402439024390244, lift=1.0), OrderedStatistic(items_base=frozenset({'10-17'}), items_add=frozenset({'Male', 'White - English/Welsh/Scottish/Northern Irish/British'}), confidence=0.3181818181818182, lift=1.0231729055258467), OrderedStatistic(items_base=frozenset({'Male'}), items_add=frozenset({'10-17', 'White - English/Welsh/Scottish/Northern Irish/British'}), confidence=0.07420494699646643, lift=1.1063283006745903), OrderedStatistic(items_base=frozenset({'White - English/Welsh/Scottish/Northern Irish/British'}), items_add=frozenset({'Male', '10-17'}), confidence=0.1627906976744186, lift=0.8214669051878353), OrderedStatistic(items_base=frozenset({'Male', '10-17'}), items_add=frozenset({'White - English/Welsh/Scottish/Northern Irish/British'}), confidence=0.3230769230769231, lift=0.8214669051878354), OrderedStatistic(items_base=frozenset({'10-17', 'White - English/Welsh/Scottish/Northern Irish/British'}), items_add=frozenset({'Male'}), confidence=0.9545454545454545, lift=1.1063283006745903), OrderedStatistic(items_base=frozenset({'Male', 'White - English/Welsh/Scottish/Northern Irish/British'}), items_add=frozenset({'10-17'}), confidence=0.2058823529411765, lift=1.0231729055258467)]),\n",
              " RelationRecord(items=frozenset({'White', '10-17', 'White - English/Welsh/Scottish/Northern Irish/British'}), support=0.06707317073170732, ordered_statistics=[OrderedStatistic(items_base=frozenset(), items_add=frozenset({'White', '10-17', 'White - English/Welsh/Scottish/Northern Irish/British'}), confidence=0.06707317073170732, lift=1.0), OrderedStatistic(items_base=frozenset({'10-17'}), items_add=frozenset({'White', 'White - English/Welsh/Scottish/Northern Irish/British'}), confidence=0.3333333333333333, lift=0.8541666666666666), OrderedStatistic(items_base=frozenset({'White'}), items_add=frozenset({'10-17', 'White - English/Welsh/Scottish/Northern Irish/British'}), confidence=0.09821428571428571, lift=1.4642857142857142), OrderedStatistic(items_base=frozenset({'White - English/Welsh/Scottish/Northern Irish/British'}), items_add=frozenset({'White', '10-17'}), confidence=0.17054263565891473, lift=1.4720522235822113), OrderedStatistic(items_base=frozenset({'White', '10-17'}), items_add=frozenset({'White - English/Welsh/Scottish/Northern Irish/British'}), confidence=0.5789473684210527, lift=1.4720522235822113), OrderedStatistic(items_base=frozenset({'10-17', 'White - English/Welsh/Scottish/Northern Irish/British'}), items_add=frozenset({'White'}), confidence=1.0, lift=1.4642857142857142), OrderedStatistic(items_base=frozenset({'White', 'White - English/Welsh/Scottish/Northern Irish/British'}), items_add=frozenset({'10-17'}), confidence=0.171875, lift=0.8541666666666666)]),\n",
              " RelationRecord(items=frozenset({'Male', 'Article for use in theft', '18-24'}), support=0.1524390243902439, ordered_statistics=[OrderedStatistic(items_base=frozenset(), items_add=frozenset({'Male', 'Article for use in theft', '18-24'}), confidence=0.1524390243902439, lift=1.0), OrderedStatistic(items_base=frozenset({'18-24'}), items_add=frozenset({'Male', 'Article for use in theft'}), confidence=0.7575757575757575, lift=1.0142238713667284), OrderedStatistic(items_base=frozenset({'Article for use in theft'}), items_add=frozenset({'Male', '18-24'}), confidence=0.17793594306049823, lift=0.9727164887307237), OrderedStatistic(items_base=frozenset({'Male'}), items_add=frozenset({'Article for use in theft', '18-24'}), confidence=0.17667844522968199, lift=1.053646000642467), OrderedStatistic(items_base=frozenset({'Article for use in theft', '18-24'}), items_add=frozenset({'Male'}), confidence=0.9090909090909091, lift=1.053646000642467), OrderedStatistic(items_base=frozenset({'Male', '18-24'}), items_add=frozenset({'Article for use in theft'}), confidence=0.8333333333333334, lift=0.9727164887307237), OrderedStatistic(items_base=frozenset({'Male', 'Article for use in theft'}), items_add=frozenset({'18-24'}), confidence=0.20408163265306123, lift=1.0142238713667284)]),\n",
              " RelationRecord(items=frozenset({'Other ethnic group - Not stated', 'Article for use in theft', '18-24'}), support=0.06402439024390244, ordered_statistics=[OrderedStatistic(items_base=frozenset(), items_add=frozenset({'Other ethnic group - Not stated', 'Article for use in theft', '18-24'}), confidence=0.06402439024390244, lift=1.0), OrderedStatistic(items_base=frozenset({'18-24'}), items_add=frozenset({'Other ethnic group - Not stated', 'Article for use in theft'}), confidence=0.3181818181818182, lift=0.9402129402129401), OrderedStatistic(items_base=frozenset({'Article for use in theft'}), items_add=frozenset({'Other ethnic group - Not stated', '18-24'}), confidence=0.07473309608540926, lift=1.02135231316726), OrderedStatistic(items_base=frozenset({'Other ethnic group - Not stated'}), items_add=frozenset({'Article for use in theft', '18-24'}), confidence=0.16153846153846155, lift=0.9633566433566434), OrderedStatistic(items_base=frozenset({'Article for use in theft', '18-24'}), items_add=frozenset({'Other ethnic group - Not stated'}), confidence=0.3818181818181818, lift=0.9633566433566432), OrderedStatistic(items_base=frozenset({'Other ethnic group - Not stated', '18-24'}), items_add=frozenset({'Article for use in theft'}), confidence=0.8750000000000001, lift=1.02135231316726), OrderedStatistic(items_base=frozenset({'Other ethnic group - Not stated', 'Article for use in theft'}), items_add=frozenset({'18-24'}), confidence=0.18918918918918917, lift=0.9402129402129401)]),\n",
              " RelationRecord(items=frozenset({'White', 'Article for use in theft', '18-24'}), support=0.09146341463414634, ordered_statistics=[OrderedStatistic(items_base=frozenset(), items_add=frozenset({'White', 'Article for use in theft', '18-24'}), confidence=0.09146341463414634, lift=1.0), OrderedStatistic(items_base=frozenset({'18-24'}), items_add=frozenset({'White', 'Article for use in theft'}), confidence=0.45454545454545453, lift=0.7765151515151515), OrderedStatistic(items_base=frozenset({'Article for use in theft'}), items_add=frozenset({'White', '18-24'}), confidence=0.10676156583629894, lift=0.9727164887307236), OrderedStatistic(items_base=frozenset({'White'}), items_add=frozenset({'Article for use in theft', '18-24'}), confidence=0.13392857142857142, lift=0.7987012987012986), OrderedStatistic(items_base=frozenset({'Article for use in theft', '18-24'}), items_add=frozenset({'White'}), confidence=0.5454545454545454, lift=0.7987012987012986), OrderedStatistic(items_base=frozenset({'White', '18-24'}), items_add=frozenset({'Article for use in theft'}), confidence=0.8333333333333333, lift=0.9727164887307236), OrderedStatistic(items_base=frozenset({'White', 'Article for use in theft'}), items_add=frozenset({'18-24'}), confidence=0.15625, lift=0.7765151515151515)]),\n",
              " RelationRecord(items=frozenset({'White - English/Welsh/Scottish/Northern Irish/British', 'Article for use in theft', '18-24'}), support=0.051829268292682924, ordered_statistics=[OrderedStatistic(items_base=frozenset(), items_add=frozenset({'Article for use in theft', '18-24', 'White - English/Welsh/Scottish/Northern Irish/British'}), confidence=0.051829268292682924, lift=1.0), OrderedStatistic(items_base=frozenset({'18-24'}), items_add=frozenset({'Article for use in theft', 'White - English/Welsh/Scottish/Northern Irish/British'}), confidence=0.25757575757575757, lift=0.7476535264145884), OrderedStatistic(items_base=frozenset({'Article for use in theft'}), items_add=frozenset({'18-24', 'White - English/Welsh/Scottish/Northern Irish/British'}), confidence=0.060498220640569395, lift=0.9019734713684892), OrderedStatistic(items_base=frozenset({'White - English/Welsh/Scottish/Northern Irish/British'}), items_add=frozenset({'Article for use in theft', '18-24'}), confidence=0.1317829457364341, lift=0.785905567300916), OrderedStatistic(items_base=frozenset({'Article for use in theft', '18-24'}), items_add=frozenset({'White - English/Welsh/Scottish/Northern Irish/British'}), confidence=0.3090909090909091, lift=0.7859055673009161), OrderedStatistic(items_base=frozenset({'White - English/Welsh/Scottish/Northern Irish/British', '18-24'}), items_add=frozenset({'Article for use in theft'}), confidence=0.7727272727272726, lift=0.901973471368489), OrderedStatistic(items_base=frozenset({'Article for use in theft', 'White - English/Welsh/Scottish/Northern Irish/British'}), items_add=frozenset({'18-24'}), confidence=0.1504424778761062, lift=0.7476535264145884)]),\n",
              " RelationRecord(items=frozenset({'Male', 'Black', '18-24'}), support=0.054878048780487805, ordered_statistics=[OrderedStatistic(items_base=frozenset(), items_add=frozenset({'Male', 'Black', '18-24'}), confidence=0.054878048780487805, lift=1.0), OrderedStatistic(items_base=frozenset({'18-24'}), items_add=frozenset({'Male', 'Black'}), confidence=0.2727272727272727, lift=1.5974025974025972), OrderedStatistic(items_base=frozenset({'Black'}), items_add=frozenset({'Male', '18-24'}), confidence=0.3103448275862069, lift=1.696551724137931), OrderedStatistic(items_base=frozenset({'Male'}), items_add=frozenset({'Black', '18-24'}), confidence=0.06360424028268552, lift=1.0980100427747816), OrderedStatistic(items_base=frozenset({'Black', '18-24'}), items_add=frozenset({'Male'}), confidence=0.9473684210526315, lift=1.0980100427747814), OrderedStatistic(items_base=frozenset({'Male', '18-24'}), items_add=frozenset({'Black'}), confidence=0.3, lift=1.696551724137931), OrderedStatistic(items_base=frozenset({'Male', 'Black'}), items_add=frozenset({'18-24'}), confidence=0.3214285714285714, lift=1.5974025974025972)]),\n",
              " RelationRecord(items=frozenset({'Male', 'Other ethnic group - Not stated', '18-24'}), support=0.06402439024390244, ordered_statistics=[OrderedStatistic(items_base=frozenset(), items_add=frozenset({'Male', '18-24', 'Other ethnic group - Not stated'}), confidence=0.06402439024390244, lift=1.0), OrderedStatistic(items_base=frozenset({'18-24'}), items_add=frozenset({'Male', 'Other ethnic group - Not stated'}), confidence=0.3181818181818182, lift=0.891996891996892), OrderedStatistic(items_base=frozenset({'Male'}), items_add=frozenset({'Other ethnic group - Not stated', '18-24'}), confidence=0.07420494699646643, lift=1.0141342756183747), OrderedStatistic(items_base=frozenset({'Other ethnic group - Not stated'}), items_add=frozenset({'Male', '18-24'}), confidence=0.16153846153846155, lift=0.8830769230769231), OrderedStatistic(items_base=frozenset({'Male', '18-24'}), items_add=frozenset({'Other ethnic group - Not stated'}), confidence=0.35000000000000003, lift=0.8830769230769231), OrderedStatistic(items_base=frozenset({'Other ethnic group - Not stated', '18-24'}), items_add=frozenset({'Male'}), confidence=0.8750000000000001, lift=1.0141342756183747), OrderedStatistic(items_base=frozenset({'Male', 'Other ethnic group - Not stated'}), items_add=frozenset({'18-24'}), confidence=0.1794871794871795, lift=0.8919968919968919)]),\n",
              " RelationRecord(items=frozenset({'Male', 'White', '18-24'}), support=0.0975609756097561, ordered_statistics=[OrderedStatistic(items_base=frozenset(), items_add=frozenset({'Male', 'White', '18-24'}), confidence=0.0975609756097561, lift=1.0), OrderedStatistic(items_base=frozenset({'18-24'}), items_add=frozenset({'Male', 'White'}), confidence=0.48484848484848486, lift=0.8690180493459182), OrderedStatistic(items_base=frozenset({'Male'}), items_add=frozenset({'White', '18-24'}), confidence=0.11307420494699646, lift=1.0302316450726345), OrderedStatistic(items_base=frozenset({'White'}), items_add=frozenset({'Male', '18-24'}), confidence=0.14285714285714285, lift=0.780952380952381), OrderedStatistic(items_base=frozenset({'Male', '18-24'}), items_add=frozenset({'White'}), confidence=0.5333333333333333, lift=0.7809523809523808), OrderedStatistic(items_base=frozenset({'White', '18-24'}), items_add=frozenset({'Male'}), confidence=0.888888888888889, lift=1.0302316450726345), OrderedStatistic(items_base=frozenset({'Male', 'White'}), items_add=frozenset({'18-24'}), confidence=0.17486338797814208, lift=0.8690180493459182)]),\n",
              " RelationRecord(items=frozenset({'Male', 'White - English/Welsh/Scottish/Northern Irish/British', '18-24'}), support=0.06097560975609756, ordered_statistics=[OrderedStatistic(items_base=frozenset(), items_add=frozenset({'Male', '18-24', 'White - English/Welsh/Scottish/Northern Irish/British'}), confidence=0.06097560975609756, lift=1.0), OrderedStatistic(items_base=frozenset({'18-24'}), items_add=frozenset({'Male', 'White - English/Welsh/Scottish/Northern Irish/British'}), confidence=0.303030303030303, lift=0.974450386215092), OrderedStatistic(items_base=frozenset({'Male'}), items_add=frozenset({'18-24', 'White - English/Welsh/Scottish/Northern Irish/British'}), confidence=0.0706713780918728, lift=1.053646000642467), OrderedStatistic(items_base=frozenset({'White - English/Welsh/Scottish/Northern Irish/British'}), items_add=frozenset({'Male', '18-24'}), confidence=0.15503875968992248, lift=0.8475452196382429), OrderedStatistic(items_base=frozenset({'Male', '18-24'}), items_add=frozenset({'White - English/Welsh/Scottish/Northern Irish/British'}), confidence=0.3333333333333333, lift=0.8475452196382428), OrderedStatistic(items_base=frozenset({'White - English/Welsh/Scottish/Northern Irish/British', '18-24'}), items_add=frozenset({'Male'}), confidence=0.9090909090909091, lift=1.053646000642467), OrderedStatistic(items_base=frozenset({'Male', 'White - English/Welsh/Scottish/Northern Irish/British'}), items_add=frozenset({'18-24'}), confidence=0.19607843137254902, lift=0.9744503862150921)]),\n",
              " RelationRecord(items=frozenset({'White - English/Welsh/Scottish/Northern Irish/British', 'White', '18-24'}), support=0.06707317073170732, ordered_statistics=[OrderedStatistic(items_base=frozenset(), items_add=frozenset({'White', '18-24', 'White - English/Welsh/Scottish/Northern Irish/British'}), confidence=0.06707317073170732, lift=1.0), OrderedStatistic(items_base=frozenset({'18-24'}), items_add=frozenset({'White', 'White - English/Welsh/Scottish/Northern Irish/British'}), confidence=0.3333333333333333, lift=0.8541666666666666), OrderedStatistic(items_base=frozenset({'White'}), items_add=frozenset({'18-24', 'White - English/Welsh/Scottish/Northern Irish/British'}), confidence=0.09821428571428571, lift=1.4642857142857142), OrderedStatistic(items_base=frozenset({'White - English/Welsh/Scottish/Northern Irish/British'}), items_add=frozenset({'White', '18-24'}), confidence=0.17054263565891473, lift=1.5538329026701119), OrderedStatistic(items_base=frozenset({'White', '18-24'}), items_add=frozenset({'White - English/Welsh/Scottish/Northern Irish/British'}), confidence=0.6111111111111112, lift=1.553832902670112), OrderedStatistic(items_base=frozenset({'White - English/Welsh/Scottish/Northern Irish/British', '18-24'}), items_add=frozenset({'White'}), confidence=1.0, lift=1.4642857142857142), OrderedStatistic(items_base=frozenset({'White', 'White - English/Welsh/Scottish/Northern Irish/British'}), items_add=frozenset({'18-24'}), confidence=0.171875, lift=0.8541666666666666)]),\n",
              " RelationRecord(items=frozenset({'Male', 'Article for use in theft', '25-34'}), support=0.14329268292682926, ordered_statistics=[OrderedStatistic(items_base=frozenset(), items_add=frozenset({'Male', 'Article for use in theft', '25-34'}), confidence=0.14329268292682926, lift=1.0), OrderedStatistic(items_base=frozenset({'25-34'}), items_add=frozenset({'Male', 'Article for use in theft'}), confidence=0.7704918032786885, lift=1.031515557042489), OrderedStatistic(items_base=frozenset({'Article for use in theft'}), items_add=frozenset({'Male', '25-34'}), confidence=0.16725978647686832, lift=1.075709999302212), OrderedStatistic(items_base=frozenset({'Male'}), items_add=frozenset({'Article for use in theft', '25-34'}), confidence=0.16607773851590105, lift=0.990427240603919), OrderedStatistic(items_base=frozenset({'Article for use in theft', '25-34'}), items_add=frozenset({'Male'}), confidence=0.8545454545454544, lift=0.9904272406039188), OrderedStatistic(items_base=frozenset({'Male', '25-34'}), items_add=frozenset({'Article for use in theft'}), confidence=0.9215686274509803, lift=1.075709999302212), OrderedStatistic(items_base=frozenset({'Male', 'Article for use in theft'}), items_add=frozenset({'25-34'}), confidence=0.19183673469387755, lift=1.0315155570424892)]),\n",
              " RelationRecord(items=frozenset({'Other ethnic group - Not stated', 'Article for use in theft', '25-34'}), support=0.06097560975609756, ordered_statistics=[OrderedStatistic(items_base=frozenset(), items_add=frozenset({'Other ethnic group - Not stated', 'Article for use in theft', '25-34'}), confidence=0.06097560975609756, lift=1.0), OrderedStatistic(items_base=frozenset({'25-34'}), items_add=frozenset({'Other ethnic group - Not stated', 'Article for use in theft'}), confidence=0.32786885245901637, lift=0.9688376901491654), OrderedStatistic(items_base=frozenset({'Article for use in theft'}), items_add=frozenset({'Other ethnic group - Not stated', '25-34'}), confidence=0.07117437722419928, lift=1.0150085099798853), OrderedStatistic(items_base=frozenset({'Other ethnic group - Not stated'}), items_add=frozenset({'Article for use in theft', '25-34'}), confidence=0.15384615384615383, lift=0.9174825174825173), OrderedStatistic(items_base=frozenset({'Article for use in theft', '25-34'}), items_add=frozenset({'Other ethnic group - Not stated'}), confidence=0.3636363636363636, lift=0.9174825174825173), OrderedStatistic(items_base=frozenset({'Other ethnic group - Not stated', '25-34'}), items_add=frozenset({'Article for use in theft'}), confidence=0.8695652173913042, lift=1.0150085099798853), OrderedStatistic(items_base=frozenset({'Other ethnic group - Not stated', 'Article for use in theft'}), items_add=frozenset({'25-34'}), confidence=0.18018018018018017, lift=0.9688376901491655)]),\n",
              " RelationRecord(items=frozenset({'White', 'Article for use in theft', '25-34'}), support=0.10365853658536585, ordered_statistics=[OrderedStatistic(items_base=frozenset(), items_add=frozenset({'White', 'Article for use in theft', '25-34'}), confidence=0.10365853658536585, lift=1.0), OrderedStatistic(items_base=frozenset({'25-34'}), items_add=frozenset({'White', 'Article for use in theft'}), confidence=0.5573770491803278, lift=0.9521857923497268), OrderedStatistic(items_base=frozenset({'Article for use in theft'}), items_add=frozenset({'White', '25-34'}), confidence=0.12099644128113879, lift=1.044390335268777), OrderedStatistic(items_base=frozenset({'White'}), items_add=frozenset({'Article for use in theft', '25-34'}), confidence=0.15178571428571427, lift=0.9051948051948051), OrderedStatistic(items_base=frozenset({'Article for use in theft', '25-34'}), items_add=frozenset({'White'}), confidence=0.6181818181818182, lift=0.9051948051948051), OrderedStatistic(items_base=frozenset({'White', '25-34'}), items_add=frozenset({'Article for use in theft'}), confidence=0.894736842105263, lift=1.044390335268777), OrderedStatistic(items_base=frozenset({'White', 'Article for use in theft'}), items_add=frozenset({'25-34'}), confidence=0.17708333333333334, lift=0.9521857923497268)]),\n",
              " RelationRecord(items=frozenset({'Article for use in theft', '25-34', 'White - English/Welsh/Scottish/Northern Irish/British'}), support=0.06097560975609756, ordered_statistics=[OrderedStatistic(items_base=frozenset(), items_add=frozenset({'Article for use in theft', '25-34', 'White - English/Welsh/Scottish/Northern Irish/British'}), confidence=0.06097560975609756, lift=1.0), OrderedStatistic(items_base=frozenset({'25-34'}), items_add=frozenset({'Article for use in theft', 'White - English/Welsh/Scottish/Northern Irish/British'}), confidence=0.32786885245901637, lift=0.9516901204120122), OrderedStatistic(items_base=frozenset({'Article for use in theft'}), items_add=frozenset({'25-34', 'White - English/Welsh/Scottish/Northern Irish/British'}), confidence=0.07117437722419928, lift=1.1116759871208268), OrderedStatistic(items_base=frozenset({'White - English/Welsh/Scottish/Northern Irish/British'}), items_add=frozenset({'Article for use in theft', '25-34'}), confidence=0.15503875968992248, lift=0.9245947850599012), OrderedStatistic(items_base=frozenset({'Article for use in theft', '25-34'}), items_add=frozenset({'White - English/Welsh/Scottish/Northern Irish/British'}), confidence=0.3636363636363636, lift=0.9245947850599012), OrderedStatistic(items_base=frozenset({'25-34', 'White - English/Welsh/Scottish/Northern Irish/British'}), items_add=frozenset({'Article for use in theft'}), confidence=0.9523809523809523, lift=1.111675987120827), OrderedStatistic(items_base=frozenset({'Article for use in theft', 'White - English/Welsh/Scottish/Northern Irish/British'}), items_add=frozenset({'25-34'}), confidence=0.17699115044247787, lift=0.9516901204120122)]),\n",
              " RelationRecord(items=frozenset({'Male', '25-34', 'Other ethnic group - Not stated'}), support=0.06402439024390244, ordered_statistics=[OrderedStatistic(items_base=frozenset(), items_add=frozenset({'Male', '25-34', 'Other ethnic group - Not stated'}), confidence=0.06402439024390244, lift=1.0), OrderedStatistic(items_base=frozenset({'25-34'}), items_add=frozenset({'Male', 'Other ethnic group - Not stated'}), confidence=0.3442622950819672, lift=0.9651113913408995), OrderedStatistic(items_base=frozenset({'Male'}), items_add=frozenset({'Other ethnic group - Not stated', '25-34'}), confidence=0.07420494699646643, lift=1.0582270702104777), OrderedStatistic(items_base=frozenset({'Other ethnic group - Not stated'}), items_add=frozenset({'Male', '25-34'}), confidence=0.16153846153846155, lift=1.0389140271493214), OrderedStatistic(items_base=frozenset({'Male', '25-34'}), items_add=frozenset({'Other ethnic group - Not stated'}), confidence=0.411764705882353, lift=1.0389140271493214), OrderedStatistic(items_base=frozenset({'Other ethnic group - Not stated', '25-34'}), items_add=frozenset({'Male'}), confidence=0.9130434782608695, lift=1.0582270702104777), OrderedStatistic(items_base=frozenset({'Male', 'Other ethnic group - Not stated'}), items_add=frozenset({'25-34'}), confidence=0.1794871794871795, lift=0.9651113913408995)]),\n",
              " RelationRecord(items=frozenset({'Male', 'White', '25-34'}), support=0.08536585365853659, ordered_statistics=[OrderedStatistic(items_base=frozenset(), items_add=frozenset({'Male', 'White', '25-34'}), confidence=0.08536585365853659, lift=1.0), OrderedStatistic(items_base=frozenset({'25-34'}), items_add=frozenset({'Male', 'White'}), confidence=0.459016393442623, lift=0.8227179073725701), OrderedStatistic(items_base=frozenset({'Male'}), items_add=frozenset({'White', '25-34'}), confidence=0.09893992932862192, lift=0.8540078110470523), OrderedStatistic(items_base=frozenset({'White'}), items_add=frozenset({'Male', '25-34'}), confidence=0.125, lift=0.803921568627451), OrderedStatistic(items_base=frozenset({'Male', '25-34'}), items_add=frozenset({'White'}), confidence=0.5490196078431373, lift=0.803921568627451), OrderedStatistic(items_base=frozenset({'White', '25-34'}), items_add=frozenset({'Male'}), confidence=0.736842105263158, lift=0.8540078110470524), OrderedStatistic(items_base=frozenset({'Male', 'White'}), items_add=frozenset({'25-34'}), confidence=0.15300546448087432, lift=0.8227179073725701)]),\n",
              " RelationRecord(items=frozenset({'White', '25-34', 'White - English/Welsh/Scottish/Northern Irish/British'}), support=0.06402439024390244, ordered_statistics=[OrderedStatistic(items_base=frozenset(), items_add=frozenset({'White', '25-34', 'White - English/Welsh/Scottish/Northern Irish/British'}), confidence=0.06402439024390244, lift=1.0), OrderedStatistic(items_base=frozenset({'25-34'}), items_add=frozenset({'White', 'White - English/Welsh/Scottish/Northern Irish/British'}), confidence=0.3442622950819672, lift=0.8821721311475409), OrderedStatistic(items_base=frozenset({'White'}), items_add=frozenset({'25-34', 'White - English/Welsh/Scottish/Northern Irish/British'}), confidence=0.09375, lift=1.4642857142857142), OrderedStatistic(items_base=frozenset({'White - English/Welsh/Scottish/Northern Irish/British'}), items_add=frozenset({'White', '25-34'}), confidence=0.1627906976744186, lift=1.4051407588739289), OrderedStatistic(items_base=frozenset({'White', '25-34'}), items_add=frozenset({'White - English/Welsh/Scottish/Northern Irish/British'}), confidence=0.5526315789473684, lift=1.4051407588739289), OrderedStatistic(items_base=frozenset({'25-34', 'White - English/Welsh/Scottish/Northern Irish/British'}), items_add=frozenset({'White'}), confidence=1.0, lift=1.4642857142857142), OrderedStatistic(items_base=frozenset({'White', 'White - English/Welsh/Scottish/Northern Irish/British'}), items_add=frozenset({'25-34'}), confidence=0.1640625, lift=0.882172131147541)]),\n",
              " RelationRecord(items=frozenset({'Male', 'Asian', 'Article for use in theft'}), support=0.06707317073170732, ordered_statistics=[OrderedStatistic(items_base=frozenset(), items_add=frozenset({'Male', 'Asian', 'Article for use in theft'}), confidence=0.06707317073170732, lift=1.0), OrderedStatistic(items_base=frozenset({'Article for use in theft'}), items_add=frozenset({'Male', 'Asian'}), confidence=0.07829181494661923, lift=0.9876813577881195), OrderedStatistic(items_base=frozenset({'Asian'}), items_add=frozenset({'Male', 'Article for use in theft'}), confidence=0.8148148148148149, lift=1.090854119425548), OrderedStatistic(items_base=frozenset({'Male'}), items_add=frozenset({'Asian', 'Article for use in theft'}), confidence=0.07773851590106008, lift=1.1086188354585957), OrderedStatistic(items_base=frozenset({'Asian', 'Article for use in theft'}), items_add=frozenset({'Male'}), confidence=0.9565217391304347, lift=1.1086188354585957), OrderedStatistic(items_base=frozenset({'Male', 'Article for use in theft'}), items_add=frozenset({'Asian'}), confidence=0.08979591836734695, lift=1.090854119425548), OrderedStatistic(items_base=frozenset({'Male', 'Asian'}), items_add=frozenset({'Article for use in theft'}), confidence=0.8461538461538461, lift=0.9876813577881194)]),\n",
              " RelationRecord(items=frozenset({'Male', 'Article for use in theft', 'Black'}), support=0.14329268292682926, ordered_statistics=[OrderedStatistic(items_base=frozenset(), items_add=frozenset({'Male', 'Article for use in theft', 'Black'}), confidence=0.14329268292682926, lift=1.0), OrderedStatistic(items_base=frozenset({'Article for use in theft'}), items_add=frozenset({'Male', 'Black'}), confidence=0.16725978647686832, lift=0.9796644636502286), OrderedStatistic(items_base=frozenset({'Black'}), items_add=frozenset({'Male', 'Article for use in theft'}), confidence=0.8103448275862069, lift=1.0848698099929626), OrderedStatistic(items_base=frozenset({'Male'}), items_add=frozenset({'Article for use in theft', 'Black'}), confidence=0.16607773851590105, lift=1.1117040455758274), OrderedStatistic(items_base=frozenset({'Article for use in theft', 'Black'}), items_add=frozenset({'Male'}), confidence=0.9591836734693877, lift=1.1117040455758274), OrderedStatistic(items_base=frozenset({'Male', 'Article for use in theft'}), items_add=frozenset({'Black'}), confidence=0.19183673469387755, lift=1.0848698099929628), OrderedStatistic(items_base=frozenset({'Male', 'Black'}), items_add=frozenset({'Article for use in theft'}), confidence=0.8392857142857142, lift=0.9796644636502286)]),\n",
              " RelationRecord(items=frozenset({'Other ethnic group - Not stated', 'Article for use in theft', 'Black'}), support=0.06402439024390244, ordered_statistics=[OrderedStatistic(items_base=frozenset(), items_add=frozenset({'Other ethnic group - Not stated', 'Article for use in theft', 'Black'}), confidence=0.06402439024390244, lift=1.0), OrderedStatistic(items_base=frozenset({'Article for use in theft'}), items_add=frozenset({'Other ethnic group - Not stated', 'Black'}), confidence=0.07473309608540926, lift=1.02135231316726), OrderedStatistic(items_base=frozenset({'Black'}), items_add=frozenset({'Other ethnic group - Not stated', 'Article for use in theft'}), confidence=0.3620689655172414, lift=1.069897483690587), OrderedStatistic(items_base=frozenset({'Other ethnic group - Not stated'}), items_add=frozenset({'Article for use in theft', 'Black'}), confidence=0.16153846153846155, lift=1.0813186813186815), OrderedStatistic(items_base=frozenset({'Article for use in theft', 'Black'}), items_add=frozenset({'Other ethnic group - Not stated'}), confidence=0.4285714285714286, lift=1.0813186813186813), OrderedStatistic(items_base=frozenset({'Other ethnic group - Not stated', 'Article for use in theft'}), items_add=frozenset({'Black'}), confidence=0.18918918918918917, lift=1.069897483690587), OrderedStatistic(items_base=frozenset({'Other ethnic group - Not stated', 'Black'}), items_add=frozenset({'Article for use in theft'}), confidence=0.8750000000000001, lift=1.02135231316726)]),\n",
              " RelationRecord(items=frozenset({'White', 'Article for use in theft', 'Female'}), support=0.0975609756097561, ordered_statistics=[OrderedStatistic(items_base=frozenset(), items_add=frozenset({'White', 'Article for use in theft', 'Female'}), confidence=0.0975609756097561, lift=1.0), OrderedStatistic(items_base=frozenset({'Article for use in theft'}), items_add=frozenset({'White', 'Female'}), confidence=0.11387900355871887, lift=0.911032028469751), OrderedStatistic(items_base=frozenset({'Female'}), items_add=frozenset({'White', 'Article for use in theft'}), confidence=0.7272727272727273, lift=1.2424242424242424), OrderedStatistic(items_base=frozenset({'White'}), items_add=frozenset({'Article for use in theft', 'Female'}), confidence=0.14285714285714285, lift=1.3387755102040817), OrderedStatistic(items_base=frozenset({'Article for use in theft', 'Female'}), items_add=frozenset({'White'}), confidence=0.9142857142857144, lift=1.3387755102040817), OrderedStatistic(items_base=frozenset({'White', 'Article for use in theft'}), items_add=frozenset({'Female'}), confidence=0.16666666666666669, lift=1.2424242424242424), OrderedStatistic(items_base=frozenset({'White', 'Female'}), items_add=frozenset({'Article for use in theft'}), confidence=0.7804878048780488, lift=0.911032028469751)]),\n",
              " RelationRecord(items=frozenset({'White - English/Welsh/Scottish/Northern Irish/British', 'Article for use in theft', 'Female'}), support=0.0701219512195122, ordered_statistics=[OrderedStatistic(items_base=frozenset(), items_add=frozenset({'Female', 'Article for use in theft', 'White - English/Welsh/Scottish/Northern Irish/British'}), confidence=0.0701219512195122, lift=1.0), OrderedStatistic(items_base=frozenset({'Article for use in theft'}), items_add=frozenset({'Female', 'White - English/Welsh/Scottish/Northern Irish/British'}), confidence=0.0818505338078292, lift=0.9943324107025175), OrderedStatistic(items_base=frozenset({'Female'}), items_add=frozenset({'Article for use in theft', 'White - English/Welsh/Scottish/Northern Irish/British'}), confidence=0.5227272727272727, lift=1.517296862429606), OrderedStatistic(items_base=frozenset({'White - English/Welsh/Scottish/Northern Irish/British'}), items_add=frozenset({'Article for use in theft', 'Female'}), confidence=0.17829457364341086, lift=1.6708748615725362), OrderedStatistic(items_base=frozenset({'Article for use in theft', 'Female'}), items_add=frozenset({'White - English/Welsh/Scottish/Northern Irish/British'}), confidence=0.6571428571428573, lift=1.6708748615725362), OrderedStatistic(items_base=frozenset({'Article for use in theft', 'White - English/Welsh/Scottish/Northern Irish/British'}), items_add=frozenset({'Female'}), confidence=0.2035398230088496, lift=1.517296862429606), OrderedStatistic(items_base=frozenset({'White - English/Welsh/Scottish/Northern Irish/British', 'Female'}), items_add=frozenset({'Article for use in theft'}), confidence=0.8518518518518519, lift=0.9943324107025175)]),\n",
              " RelationRecord(items=frozenset({'Article for use in theft', 'over 34', 'Female'}), support=0.06402439024390244, ordered_statistics=[OrderedStatistic(items_base=frozenset(), items_add=frozenset({'Article for use in theft', 'over 34', 'Female'}), confidence=0.06402439024390244, lift=1.0), OrderedStatistic(items_base=frozenset({'Article for use in theft'}), items_add=frozenset({'over 34', 'Female'}), confidence=0.07473309608540926, lift=0.9078687228153421), OrderedStatistic(items_base=frozenset({'Female'}), items_add=frozenset({'Article for use in theft', 'over 34'}), confidence=0.47727272727272724, lift=1.3266563944530045), OrderedStatistic(items_base=frozenset({'over 34'}), items_add=frozenset({'Article for use in theft', 'Female'}), confidence=0.15555555555555556, lift=1.4577777777777778), OrderedStatistic(items_base=frozenset({'Article for use in theft', 'Female'}), items_add=frozenset({'over 34'}), confidence=0.6, lift=1.4577777777777778), OrderedStatistic(items_base=frozenset({'Article for use in theft', 'over 34'}), items_add=frozenset({'Female'}), confidence=0.17796610169491525, lift=1.3266563944530045), OrderedStatistic(items_base=frozenset({'over 34', 'Female'}), items_add=frozenset({'Article for use in theft'}), confidence=0.7777777777777778, lift=0.907868722815342)]),\n",
              " RelationRecord(items=frozenset({'Male', 'Article for use in theft', 'Other ethnic group - Not stated'}), support=0.3079268292682927, ordered_statistics=[OrderedStatistic(items_base=frozenset(), items_add=frozenset({'Male', 'Article for use in theft', 'Other ethnic group - Not stated'}), confidence=0.3079268292682927, lift=1.0), OrderedStatistic(items_base=frozenset({'Article for use in theft'}), items_add=frozenset({'Male', 'Other ethnic group - Not stated'}), confidence=0.3594306049822064, lift=1.0076345165313139), OrderedStatistic(items_base=frozenset({'Male'}), items_add=frozenset({'Other ethnic group - Not stated', 'Article for use in theft'}), confidence=0.3568904593639576, lift=1.0545952312736764), OrderedStatistic(items_base=frozenset({'Other ethnic group - Not stated'}), items_add=frozenset({'Male', 'Article for use in theft'}), confidence=0.7769230769230768, lift=1.040125588697017), OrderedStatistic(items_base=frozenset({'Male', 'Article for use in theft'}), items_add=frozenset({'Other ethnic group - Not stated'}), confidence=0.4122448979591837, lift=1.0401255886970173), OrderedStatistic(items_base=frozenset({'Other ethnic group - Not stated', 'Article for use in theft'}), items_add=frozenset({'Male'}), confidence=0.9099099099099098, lift=1.0545952312736764), OrderedStatistic(items_base=frozenset({'Male', 'Other ethnic group - Not stated'}), items_add=frozenset({'Article for use in theft'}), confidence=0.8632478632478633, lift=1.0076345165313139)]),\n",
              " RelationRecord(items=frozenset({'Male', 'White', 'Article for use in theft'}), support=0.4878048780487805, ordered_statistics=[OrderedStatistic(items_base=frozenset(), items_add=frozenset({'Male', 'White', 'Article for use in theft'}), confidence=0.4878048780487805, lift=1.0), OrderedStatistic(items_base=frozenset({'Article for use in theft'}), items_add=frozenset({'Male', 'White'}), confidence=0.5693950177935942, lift=1.0205550045699394), OrderedStatistic(items_base=frozenset({'Male'}), items_add=frozenset({'White', 'Article for use in theft'}), confidence=0.5653710247349824, lift=0.9658421672555949), OrderedStatistic(items_base=frozenset({'White'}), items_add=frozenset({'Male', 'Article for use in theft'}), confidence=0.7142857142857142, lift=0.9562682215743439), OrderedStatistic(items_base=frozenset({'Male', 'Article for use in theft'}), items_add=frozenset({'White'}), confidence=0.6530612244897959, lift=0.9562682215743439), OrderedStatistic(items_base=frozenset({'White', 'Article for use in theft'}), items_add=frozenset({'Male'}), confidence=0.8333333333333334, lift=0.9658421672555949), OrderedStatistic(items_base=frozenset({'Male', 'White'}), items_add=frozenset({'Article for use in theft'}), confidence=0.8743169398907102, lift=1.0205550045699394)]),\n",
              " RelationRecord(items=frozenset({'Male', 'Article for use in theft', 'White - English/Welsh/Scottish/Northern Irish/British'}), support=0.27439024390243905, ordered_statistics=[OrderedStatistic(items_base=frozenset(), items_add=frozenset({'Male', 'Article for use in theft', 'White - English/Welsh/Scottish/Northern Irish/British'}), confidence=0.27439024390243905, lift=1.0), OrderedStatistic(items_base=frozenset({'Article for use in theft'}), items_add=frozenset({'Male', 'White - English/Welsh/Scottish/Northern Irish/British'}), confidence=0.3202846975088968, lift=1.029935105714884), OrderedStatistic(items_base=frozenset({'Male'}), items_add=frozenset({'Article for use in theft', 'White - English/Welsh/Scottish/Northern Irish/British'}), confidence=0.3180212014134276, lift=0.923105788173489), OrderedStatistic(items_base=frozenset({'White - English/Welsh/Scottish/Northern Irish/British'}), items_add=frozenset({'Male', 'Article for use in theft'}), confidence=0.6976744186046512, lift=0.9340294257237779), OrderedStatistic(items_base=frozenset({'Male', 'Article for use in theft'}), items_add=frozenset({'White - English/Welsh/Scottish/Northern Irish/British'}), confidence=0.3673469387755102, lift=0.9340294257237779), OrderedStatistic(items_base=frozenset({'Article for use in theft', 'White - English/Welsh/Scottish/Northern Irish/British'}), items_add=frozenset({'Male'}), confidence=0.7964601769911506, lift=0.923105788173489), OrderedStatistic(items_base=frozenset({'Male', 'White - English/Welsh/Scottish/Northern Irish/British'}), items_add=frozenset({'Article for use in theft'}), confidence=0.8823529411764707, lift=1.029935105714884)]),\n",
              " RelationRecord(items=frozenset({'Male', 'Article for use in theft', 'over 34'}), support=0.2926829268292683, ordered_statistics=[OrderedStatistic(items_base=frozenset(), items_add=frozenset({'Male', 'Article for use in theft', 'over 34'}), confidence=0.2926829268292683, lift=1.0), OrderedStatistic(items_base=frozenset({'Article for use in theft'}), items_add=frozenset({'Male', 'over 34'}), confidence=0.3416370106761566, lift=1.0472611168390595), OrderedStatistic(items_base=frozenset({'Male'}), items_add=frozenset({'Article for use in theft', 'over 34'}), confidence=0.33922261484098937, lift=0.9429238785410552), OrderedStatistic(items_base=frozenset({'over 34'}), items_add=frozenset({'Male', 'Article for use in theft'}), confidence=0.7111111111111111, lift=0.9520181405895692), OrderedStatistic(items_base=frozenset({'Male', 'Article for use in theft'}), items_add=frozenset({'over 34'}), confidence=0.39183673469387753, lift=0.9520181405895691), OrderedStatistic(items_base=frozenset({'Article for use in theft', 'over 34'}), items_add=frozenset({'Male'}), confidence=0.8135593220338982, lift=0.9429238785410552), OrderedStatistic(items_base=frozenset({'Male', 'over 34'}), items_add=frozenset({'Article for use in theft'}), confidence=0.8971962616822429, lift=1.0472611168390593)]),\n",
              " RelationRecord(items=frozenset({'Other ethnic group - Not stated', 'White', 'Article for use in theft'}), support=0.20121951219512196, ordered_statistics=[OrderedStatistic(items_base=frozenset(), items_add=frozenset({'Other ethnic group - Not stated', 'White', 'Article for use in theft'}), confidence=0.20121951219512196, lift=1.0), OrderedStatistic(items_base=frozenset({'Article for use in theft'}), items_add=frozenset({'Other ethnic group - Not stated', 'White'}), confidence=0.23487544483985767, lift=0.9876813577881195), OrderedStatistic(items_base=frozenset({'Other ethnic group - Not stated'}), items_add=frozenset({'White', 'Article for use in theft'}), confidence=0.5076923076923077, lift=0.8673076923076923), OrderedStatistic(items_base=frozenset({'White'}), items_add=frozenset({'Other ethnic group - Not stated', 'Article for use in theft'}), confidence=0.29464285714285715, lift=0.8706563706563706), OrderedStatistic(items_base=frozenset({'Other ethnic group - Not stated', 'Article for use in theft'}), items_add=frozenset({'White'}), confidence=0.5945945945945946, lift=0.8706563706563707), OrderedStatistic(items_base=frozenset({'White', 'Article for use in theft'}), items_add=frozenset({'Other ethnic group - Not stated'}), confidence=0.34375000000000006, lift=0.8673076923076924), OrderedStatistic(items_base=frozenset({'Other ethnic group - Not stated', 'White'}), items_add=frozenset({'Article for use in theft'}), confidence=0.8461538461538463, lift=0.9876813577881195)]),\n",
              " RelationRecord(items=frozenset({'Other ethnic group - Not stated', 'Article for use in theft', 'over 34'}), support=0.13414634146341464, ordered_statistics=[OrderedStatistic(items_base=frozenset(), items_add=frozenset({'Other ethnic group - Not stated', 'Article for use in theft', 'over 34'}), confidence=0.13414634146341464, lift=1.0), OrderedStatistic(items_base=frozenset({'Article for use in theft'}), items_add=frozenset({'Other ethnic group - Not stated', 'over 34'}), confidence=0.15658362989323846, lift=1.0070476589212198), OrderedStatistic(items_base=frozenset({'Other ethnic group - Not stated'}), items_add=frozenset({'Article for use in theft', 'over 34'}), confidence=0.3384615384615385, lift=0.9408083441981748), OrderedStatistic(items_base=frozenset({'over 34'}), items_add=frozenset({'Other ethnic group - Not stated', 'Article for use in theft'}), confidence=0.32592592592592595, lift=0.9630964297630964), OrderedStatistic(items_base=frozenset({'Other ethnic group - Not stated', 'Article for use in theft'}), items_add=frozenset({'over 34'}), confidence=0.3963963963963964, lift=0.9630964297630965), OrderedStatistic(items_base=frozenset({'Article for use in theft', 'over 34'}), items_add=frozenset({'Other ethnic group - Not stated'}), confidence=0.37288135593220345, lift=0.9408083441981748), OrderedStatistic(items_base=frozenset({'Other ethnic group - Not stated', 'over 34'}), items_add=frozenset({'Article for use in theft'}), confidence=0.8627450980392157, lift=1.0070476589212198)]),\n",
              " RelationRecord(items=frozenset({'White', 'Article for use in theft', 'White - English/Welsh/Scottish/Northern Irish/British'}), support=0.34146341463414637, ordered_statistics=[OrderedStatistic(items_base=frozenset(), items_add=frozenset({'White', 'Article for use in theft', 'White - English/Welsh/Scottish/Northern Irish/British'}), confidence=0.34146341463414637, lift=1.0), OrderedStatistic(items_base=frozenset({'Article for use in theft'}), items_add=frozenset({'White', 'White - English/Welsh/Scottish/Northern Irish/British'}), confidence=0.39857651245551606, lift=1.02135231316726), OrderedStatistic(items_base=frozenset({'White'}), items_add=frozenset({'Article for use in theft', 'White - English/Welsh/Scottish/Northern Irish/British'}), confidence=0.5, lift=1.4513274336283186), OrderedStatistic(items_base=frozenset({'White - English/Welsh/Scottish/Northern Irish/British'}), items_add=frozenset({'White', 'Article for use in theft'}), confidence=0.8682170542635659, lift=1.483204134366925), OrderedStatistic(items_base=frozenset({'White', 'Article for use in theft'}), items_add=frozenset({'White - English/Welsh/Scottish/Northern Irish/British'}), confidence=0.5833333333333334, lift=1.483204134366925), OrderedStatistic(items_base=frozenset({'Article for use in theft', 'White - English/Welsh/Scottish/Northern Irish/British'}), items_add=frozenset({'White'}), confidence=0.9911504424778762, lift=1.4513274336283186), OrderedStatistic(items_base=frozenset({'White', 'White - English/Welsh/Scottish/Northern Irish/British'}), items_add=frozenset({'Article for use in theft'}), confidence=0.875, lift=1.0213523131672597)]),\n",
              " RelationRecord(items=frozenset({'White', 'Article for use in theft', 'over 34'}), support=0.29573170731707316, ordered_statistics=[OrderedStatistic(items_base=frozenset(), items_add=frozenset({'White', 'Article for use in theft', 'over 34'}), confidence=0.29573170731707316, lift=1.0), OrderedStatistic(items_base=frozenset({'Article for use in theft'}), items_add=frozenset({'White', 'over 34'}), confidence=0.34519572953736655, lift=1.0109303507880019), OrderedStatistic(items_base=frozenset({'White'}), items_add=frozenset({'Article for use in theft', 'over 34'}), confidence=0.43303571428571425, lift=1.2036924939467313), OrderedStatistic(items_base=frozenset({'over 34'}), items_add=frozenset({'White', 'Article for use in theft'}), confidence=0.7185185185185186, lift=1.2274691358024692), OrderedStatistic(items_base=frozenset({'White', 'Article for use in theft'}), items_add=frozenset({'over 34'}), confidence=0.5052083333333334, lift=1.2274691358024692), OrderedStatistic(items_base=frozenset({'Article for use in theft', 'over 34'}), items_add=frozenset({'White'}), confidence=0.8220338983050848, lift=1.2036924939467313), OrderedStatistic(items_base=frozenset({'White', 'over 34'}), items_add=frozenset({'Article for use in theft'}), confidence=0.8660714285714285, lift=1.0109303507880019)]),\n",
              " RelationRecord(items=frozenset({'Article for use in theft', 'over 34', 'White - English/Welsh/Scottish/Northern Irish/British'}), support=0.17378048780487804, ordered_statistics=[OrderedStatistic(items_base=frozenset(), items_add=frozenset({'Article for use in theft', 'over 34', 'White - English/Welsh/Scottish/Northern Irish/British'}), confidence=0.17378048780487804, lift=1.0), OrderedStatistic(items_base=frozenset({'Article for use in theft'}), items_add=frozenset({'over 34', 'White - English/Welsh/Scottish/Northern Irish/British'}), confidence=0.20284697508896796, lift=1.0395907473309607), OrderedStatistic(items_base=frozenset({'White - English/Welsh/Scottish/Northern Irish/British'}), items_add=frozenset({'Article for use in theft', 'over 34'}), confidence=0.441860465116279, lift=1.2282223098147418), OrderedStatistic(items_base=frozenset({'over 34'}), items_add=frozenset({'Article for use in theft', 'White - English/Welsh/Scottish/Northern Irish/British'}), confidence=0.4222222222222222, lift=1.2255653883972468), OrderedStatistic(items_base=frozenset({'Article for use in theft', 'White - English/Welsh/Scottish/Northern Irish/British'}), items_add=frozenset({'over 34'}), confidence=0.504424778761062, lift=1.2255653883972468), OrderedStatistic(items_base=frozenset({'Article for use in theft', 'over 34'}), items_add=frozenset({'White - English/Welsh/Scottish/Northern Irish/British'}), confidence=0.4830508474576271, lift=1.2282223098147418), OrderedStatistic(items_base=frozenset({'over 34', 'White - English/Welsh/Scottish/Northern Irish/British'}), items_add=frozenset({'Article for use in theft'}), confidence=0.8906249999999999, lift=1.0395907473309607)]),\n",
              " RelationRecord(items=frozenset({'Male', 'Black', 'Other ethnic group - Not stated'}), support=0.07317073170731707, ordered_statistics=[OrderedStatistic(items_base=frozenset(), items_add=frozenset({'Male', 'Black', 'Other ethnic group - Not stated'}), confidence=0.07317073170731707, lift=1.0), OrderedStatistic(items_base=frozenset({'Black'}), items_add=frozenset({'Male', 'Other ethnic group - Not stated'}), confidence=0.41379310344827586, lift=1.1600353669319188), OrderedStatistic(items_base=frozenset({'Male'}), items_add=frozenset({'Other ethnic group - Not stated', 'Black'}), confidence=0.08480565371024734, lift=1.1590106007067138), OrderedStatistic(items_base=frozenset({'Other ethnic group - Not stated'}), items_add=frozenset({'Male', 'Black'}), confidence=0.1846153846153846, lift=1.081318681318681), OrderedStatistic(items_base=frozenset({'Male', 'Black'}), items_add=frozenset({'Other ethnic group - Not stated'}), confidence=0.4285714285714285, lift=1.081318681318681), OrderedStatistic(items_base=frozenset({'Other ethnic group - Not stated', 'Black'}), items_add=frozenset({'Male'}), confidence=1.0, lift=1.1590106007067138), OrderedStatistic(items_base=frozenset({'Male', 'Other ethnic group - Not stated'}), items_add=frozenset({'Black'}), confidence=0.20512820512820512, lift=1.1600353669319188)]),\n",
              " RelationRecord(items=frozenset({'White - English/Welsh/Scottish/Northern Irish/British', 'White', 'Female'}), support=0.08231707317073171, ordered_statistics=[OrderedStatistic(items_base=frozenset(), items_add=frozenset({'Female', 'White', 'White - English/Welsh/Scottish/Northern Irish/British'}), confidence=0.08231707317073171, lift=1.0), OrderedStatistic(items_base=frozenset({'Female'}), items_add=frozenset({'White', 'White - English/Welsh/Scottish/Northern Irish/British'}), confidence=0.6136363636363636, lift=1.5724431818181819), OrderedStatistic(items_base=frozenset({'White'}), items_add=frozenset({'Female', 'White - English/Welsh/Scottish/Northern Irish/British'}), confidence=0.12053571428571429, lift=1.4642857142857142), OrderedStatistic(items_base=frozenset({'White - English/Welsh/Scottish/Northern Irish/British'}), items_add=frozenset({'White', 'Female'}), confidence=0.20930232558139536, lift=1.6744186046511629), OrderedStatistic(items_base=frozenset({'White', 'Female'}), items_add=frozenset({'White - English/Welsh/Scottish/Northern Irish/British'}), confidence=0.6585365853658537, lift=1.6744186046511629), OrderedStatistic(items_base=frozenset({'White - English/Welsh/Scottish/Northern Irish/British', 'Female'}), items_add=frozenset({'White'}), confidence=1.0, lift=1.4642857142857142), OrderedStatistic(items_base=frozenset({'White', 'White - English/Welsh/Scottish/Northern Irish/British'}), items_add=frozenset({'Female'}), confidence=0.2109375, lift=1.5724431818181817)]),\n",
              " RelationRecord(items=frozenset({'White', 'over 34', 'Female'}), support=0.07926829268292683, ordered_statistics=[OrderedStatistic(items_base=frozenset(), items_add=frozenset({'White', 'over 34', 'Female'}), confidence=0.07926829268292683, lift=1.0), OrderedStatistic(items_base=frozenset({'Female'}), items_add=frozenset({'White', 'over 34'}), confidence=0.5909090909090908, lift=1.7305194805194801), OrderedStatistic(items_base=frozenset({'White'}), items_add=frozenset({'over 34', 'Female'}), confidence=0.11607142857142856, lift=1.4100529100529098), OrderedStatistic(items_base=frozenset({'over 34'}), items_add=frozenset({'White', 'Female'}), confidence=0.1925925925925926, lift=1.5407407407407407), OrderedStatistic(items_base=frozenset({'White', 'Female'}), items_add=frozenset({'over 34'}), confidence=0.6341463414634146, lift=1.5407407407407407), OrderedStatistic(items_base=frozenset({'over 34', 'Female'}), items_add=frozenset({'White'}), confidence=0.9629629629629629, lift=1.4100529100529098), OrderedStatistic(items_base=frozenset({'White', 'over 34'}), items_add=frozenset({'Female'}), confidence=0.23214285714285712, lift=1.7305194805194803)]),\n",
              " RelationRecord(items=frozenset({'White - English/Welsh/Scottish/Northern Irish/British', 'over 34', 'Female'}), support=0.054878048780487805, ordered_statistics=[OrderedStatistic(items_base=frozenset(), items_add=frozenset({'Female', 'over 34', 'White - English/Welsh/Scottish/Northern Irish/British'}), confidence=0.054878048780487805, lift=1.0), OrderedStatistic(items_base=frozenset({'Female'}), items_add=frozenset({'over 34', 'White - English/Welsh/Scottish/Northern Irish/British'}), confidence=0.40909090909090906, lift=2.0965909090909087), OrderedStatistic(items_base=frozenset({'White - English/Welsh/Scottish/Northern Irish/British'}), items_add=frozenset({'over 34', 'Female'}), confidence=0.13953488372093023, lift=1.6950904392764856), OrderedStatistic(items_base=frozenset({'over 34'}), items_add=frozenset({'Female', 'White - English/Welsh/Scottish/Northern Irish/British'}), confidence=0.13333333333333333, lift=1.619753086419753), OrderedStatistic(items_base=frozenset({'White - English/Welsh/Scottish/Northern Irish/British', 'Female'}), items_add=frozenset({'over 34'}), confidence=0.6666666666666666, lift=1.6197530864197531), OrderedStatistic(items_base=frozenset({'over 34', 'Female'}), items_add=frozenset({'White - English/Welsh/Scottish/Northern Irish/British'}), confidence=0.6666666666666666, lift=1.6950904392764856), OrderedStatistic(items_base=frozenset({'over 34', 'White - English/Welsh/Scottish/Northern Irish/British'}), items_add=frozenset({'Female'}), confidence=0.28125, lift=2.096590909090909)]),\n",
              " RelationRecord(items=frozenset({'Male', 'White', 'Other ethnic group - Not stated'}), support=0.20426829268292682, ordered_statistics=[OrderedStatistic(items_base=frozenset(), items_add=frozenset({'Male', 'White', 'Other ethnic group - Not stated'}), confidence=0.20426829268292682, lift=1.0), OrderedStatistic(items_base=frozenset({'Male'}), items_add=frozenset({'Other ethnic group - Not stated', 'White'}), confidence=0.23674911660777384, lift=0.9955603877865362), OrderedStatistic(items_base=frozenset({'Other ethnic group - Not stated'}), items_add=frozenset({'Male', 'White'}), confidence=0.5153846153846153, lift=0.9237494745691465), OrderedStatistic(items_base=frozenset({'White'}), items_add=frozenset({'Male', 'Other ethnic group - Not stated'}), confidence=0.2991071428571428, lift=0.8385225885225884), OrderedStatistic(items_base=frozenset({'Male', 'Other ethnic group - Not stated'}), items_add=frozenset({'White'}), confidence=0.5726495726495726, lift=0.8385225885225884), OrderedStatistic(items_base=frozenset({'Male', 'White'}), items_add=frozenset({'Other ethnic group - Not stated'}), confidence=0.36612021857923494, lift=0.9237494745691466), OrderedStatistic(items_base=frozenset({'Other ethnic group - Not stated', 'White'}), items_add=frozenset({'Male'}), confidence=0.8589743589743589, lift=0.9955603877865361)]),\n",
              " RelationRecord(items=frozenset({'Male', 'over 34', 'Other ethnic group - Not stated'}), support=0.13109756097560976, ordered_statistics=[OrderedStatistic(items_base=frozenset(), items_add=frozenset({'Male', 'over 34', 'Other ethnic group - Not stated'}), confidence=0.13109756097560976, lift=1.0), OrderedStatistic(items_base=frozenset({'Male'}), items_add=frozenset({'Other ethnic group - Not stated', 'over 34'}), confidence=0.1519434628975265, lift=0.9772050162821312), OrderedStatistic(items_base=frozenset({'Other ethnic group - Not stated'}), items_add=frozenset({'Male', 'over 34'}), confidence=0.33076923076923076, lift=1.0139468008626886), OrderedStatistic(items_base=frozenset({'over 34'}), items_add=frozenset({'Male', 'Other ethnic group - Not stated'}), confidence=0.31851851851851853, lift=0.8929408040519152), OrderedStatistic(items_base=frozenset({'Male', 'Other ethnic group - Not stated'}), items_add=frozenset({'over 34'}), confidence=0.36752136752136755, lift=0.8929408040519152), OrderedStatistic(items_base=frozenset({'Male', 'over 34'}), items_add=frozenset({'Other ethnic group - Not stated'}), confidence=0.40186915887850466, lift=1.0139468008626886), OrderedStatistic(items_base=frozenset({'Other ethnic group - Not stated', 'over 34'}), items_add=frozenset({'Male'}), confidence=0.8431372549019608, lift=0.9772050162821312)]),\n",
              " RelationRecord(items=frozenset({'Male', 'White', 'White - English/Welsh/Scottish/Northern Irish/British'}), support=0.3079268292682927, ordered_statistics=[OrderedStatistic(items_base=frozenset(), items_add=frozenset({'Male', 'White', 'White - English/Welsh/Scottish/Northern Irish/British'}), confidence=0.3079268292682927, lift=1.0), OrderedStatistic(items_base=frozenset({'Male'}), items_add=frozenset({'White', 'White - English/Welsh/Scottish/Northern Irish/British'}), confidence=0.3568904593639576, lift=0.9145318021201413), OrderedStatistic(items_base=frozenset({'White'}), items_add=frozenset({'Male', 'White - English/Welsh/Scottish/Northern Irish/British'}), confidence=0.4508928571428571, lift=1.4499299719887955), OrderedStatistic(items_base=frozenset({'White - English/Welsh/Scottish/Northern Irish/British'}), items_add=frozenset({'Male', 'White'}), confidence=0.7829457364341085, lift=1.403312576778074), OrderedStatistic(items_base=frozenset({'Male', 'White'}), items_add=frozenset({'White - English/Welsh/Scottish/Northern Irish/British'}), confidence=0.5519125683060109, lift=1.403312576778074), OrderedStatistic(items_base=frozenset({'Male', 'White - English/Welsh/Scottish/Northern Irish/British'}), items_add=frozenset({'White'}), confidence=0.9901960784313726, lift=1.4499299719887955), OrderedStatistic(items_base=frozenset({'White', 'White - English/Welsh/Scottish/Northern Irish/British'}), items_add=frozenset({'Male'}), confidence=0.7890625, lift=0.9145318021201414)]),\n",
              " RelationRecord(items=frozenset({'Male', 'White', 'over 34'}), support=0.2621951219512195, ordered_statistics=[OrderedStatistic(items_base=frozenset(), items_add=frozenset({'Male', 'White', 'over 34'}), confidence=0.2621951219512195, lift=1.0), OrderedStatistic(items_base=frozenset({'Male'}), items_add=frozenset({'White', 'over 34'}), confidence=0.303886925795053, lift=0.889954568399798), OrderedStatistic(items_base=frozenset({'White'}), items_add=frozenset({'Male', 'over 34'}), confidence=0.3839285714285714, lift=1.1769025367156207), OrderedStatistic(items_base=frozenset({'over 34'}), items_add=frozenset({'Male', 'White'}), confidence=0.6370370370370371, lift=1.141793159279498), OrderedStatistic(items_base=frozenset({'Male', 'White'}), items_add=frozenset({'over 34'}), confidence=0.4699453551912568, lift=1.141793159279498), OrderedStatistic(items_base=frozenset({'Male', 'over 34'}), items_add=frozenset({'White'}), confidence=0.8037383177570093, lift=1.1769025367156207), OrderedStatistic(items_base=frozenset({'White', 'over 34'}), items_add=frozenset({'Male'}), confidence=0.7678571428571428, lift=0.889954568399798)]),\n",
              " RelationRecord(items=frozenset({'Male', 'over 34', 'White - English/Welsh/Scottish/Northern Irish/British'}), support=0.1402439024390244, ordered_statistics=[OrderedStatistic(items_base=frozenset(), items_add=frozenset({'Male', 'over 34', 'White - English/Welsh/Scottish/Northern Irish/British'}), confidence=0.1402439024390244, lift=1.0), OrderedStatistic(items_base=frozenset({'Male'}), items_add=frozenset({'over 34', 'White - English/Welsh/Scottish/Northern Irish/British'}), confidence=0.16254416961130744, lift=0.8330388692579506), OrderedStatistic(items_base=frozenset({'White - English/Welsh/Scottish/Northern Irish/British'}), items_add=frozenset({'Male', 'over 34'}), confidence=0.35658914728682173, lift=1.0930957038325002), OrderedStatistic(items_base=frozenset({'over 34'}), items_add=frozenset({'Male', 'White - English/Welsh/Scottish/Northern Irish/British'}), confidence=0.3407407407407408, lift=1.0957153231663037), OrderedStatistic(items_base=frozenset({'Male', 'White - English/Welsh/Scottish/Northern Irish/British'}), items_add=frozenset({'over 34'}), confidence=0.4509803921568628, lift=1.0957153231663037), OrderedStatistic(items_base=frozenset({'Male', 'over 34'}), items_add=frozenset({'White - English/Welsh/Scottish/Northern Irish/British'}), confidence=0.4299065420560748, lift=1.0930957038325002), OrderedStatistic(items_base=frozenset({'over 34', 'White - English/Welsh/Scottish/Northern Irish/British'}), items_add=frozenset({'Male'}), confidence=0.71875, lift=0.8330388692579506)]),\n",
              " RelationRecord(items=frozenset({'Other ethnic group - Not stated', 'White', 'over 34'}), support=0.12195121951219512, ordered_statistics=[OrderedStatistic(items_base=frozenset(), items_add=frozenset({'Other ethnic group - Not stated', 'White', 'over 34'}), confidence=0.12195121951219512, lift=1.0), OrderedStatistic(items_base=frozenset({'Other ethnic group - Not stated'}), items_add=frozenset({'White', 'over 34'}), confidence=0.30769230769230765, lift=0.9010989010989009), OrderedStatistic(items_base=frozenset({'White'}), items_add=frozenset({'Other ethnic group - Not stated', 'over 34'}), confidence=0.17857142857142855, lift=1.1484593837535013), OrderedStatistic(items_base=frozenset({'over 34'}), items_add=frozenset({'Other ethnic group - Not stated', 'White'}), confidence=0.2962962962962963, lift=1.2459639126305793), OrderedStatistic(items_base=frozenset({'Other ethnic group - Not stated', 'White'}), items_add=frozenset({'over 34'}), confidence=0.5128205128205129, lift=1.2459639126305795), OrderedStatistic(items_base=frozenset({'Other ethnic group - Not stated', 'over 34'}), items_add=frozenset({'White'}), confidence=0.7843137254901961, lift=1.1484593837535013), OrderedStatistic(items_base=frozenset({'White', 'over 34'}), items_add=frozenset({'Other ethnic group - Not stated'}), confidence=0.3571428571428571, lift=0.9010989010989009)]),\n",
              " RelationRecord(items=frozenset({'White', 'over 34', 'White - English/Welsh/Scottish/Northern Irish/British'}), support=0.19207317073170732, ordered_statistics=[OrderedStatistic(items_base=frozenset(), items_add=frozenset({'White', 'over 34', 'White - English/Welsh/Scottish/Northern Irish/British'}), confidence=0.19207317073170732, lift=1.0), OrderedStatistic(items_base=frozenset({'White'}), items_add=frozenset({'over 34', 'White - English/Welsh/Scottish/Northern Irish/British'}), confidence=0.28125, lift=1.44140625), OrderedStatistic(items_base=frozenset({'White - English/Welsh/Scottish/Northern Irish/British'}), items_add=frozenset({'White', 'over 34'}), confidence=0.4883720930232558, lift=1.4302325581395348), OrderedStatistic(items_base=frozenset({'over 34'}), items_add=frozenset({'White', 'White - English/Welsh/Scottish/Northern Irish/British'}), confidence=0.46666666666666673, lift=1.1958333333333335), OrderedStatistic(items_base=frozenset({'White', 'White - English/Welsh/Scottish/Northern Irish/British'}), items_add=frozenset({'over 34'}), confidence=0.4921875, lift=1.1958333333333333), OrderedStatistic(items_base=frozenset({'White', 'over 34'}), items_add=frozenset({'White - English/Welsh/Scottish/Northern Irish/British'}), confidence=0.5625, lift=1.4302325581395348), OrderedStatistic(items_base=frozenset({'over 34', 'White - English/Welsh/Scottish/Northern Irish/British'}), items_add=frozenset({'White'}), confidence=0.984375, lift=1.44140625)]),\n",
              " RelationRecord(items=frozenset({'Male', 'Article for use in theft', '10-17', 'Other ethnic group - Not stated'}), support=0.07926829268292683, ordered_statistics=[OrderedStatistic(items_base=frozenset(), items_add=frozenset({'Male', 'Article for use in theft', '10-17', 'Other ethnic group - Not stated'}), confidence=0.07926829268292683, lift=1.0), OrderedStatistic(items_base=frozenset({'10-17'}), items_add=frozenset({'Male', 'Article for use in theft', 'Other ethnic group - Not stated'}), confidence=0.3939393939393939, lift=1.2793279327932794), OrderedStatistic(items_base=frozenset({'Article for use in theft'}), items_add=frozenset({'Male', '10-17', 'Other ethnic group - Not stated'}), confidence=0.09252669039145908, lift=0.9483985765124555), OrderedStatistic(items_base=frozenset({'Male'}), items_add=frozenset({'Other ethnic group - Not stated', 'Article for use in theft', '10-17'}), confidence=0.09187279151943463, lift=1.1590106007067138), OrderedStatistic(items_base=frozenset({'Other ethnic group - Not stated'}), items_add=frozenset({'Male', 'Article for use in theft', '10-17'}), confidence=0.19999999999999998, lift=1.2615384615384615), OrderedStatistic(items_base=frozenset({'Article for use in theft', '10-17'}), items_add=frozenset({'Male', 'Other ethnic group - Not stated'}), confidence=0.49056603773584906, lift=1.3752620545073375), OrderedStatistic(items_base=frozenset({'Male', '10-17'}), items_add=frozenset({'Other ethnic group - Not stated', 'Article for use in theft'}), confidence=0.39999999999999997, lift=1.181981981981982), OrderedStatistic(items_base=frozenset({'Other ethnic group - Not stated', '10-17'}), items_add=frozenset({'Male', 'Article for use in theft'}), confidence=0.8125, lift=1.0877551020408163), OrderedStatistic(items_base=frozenset({'Male', 'Article for use in theft'}), items_add=frozenset({'Other ethnic group - Not stated', '10-17'}), confidence=0.10612244897959183, lift=1.0877551020408163), OrderedStatistic(items_base=frozenset({'Other ethnic group - Not stated', 'Article for use in theft'}), items_add=frozenset({'Male', '10-17'}), confidence=0.23423423423423423, lift=1.181981981981982), OrderedStatistic(items_base=frozenset({'Male', 'Other ethnic group - Not stated'}), items_add=frozenset({'Article for use in theft', '10-17'}), confidence=0.22222222222222224, lift=1.3752620545073375), OrderedStatistic(items_base=frozenset({'Male', 'Article for use in theft', '10-17'}), items_add=frozenset({'Other ethnic group - Not stated'}), confidence=0.5, lift=1.2615384615384615), OrderedStatistic(items_base=frozenset({'Other ethnic group - Not stated', 'Article for use in theft', '10-17'}), items_add=frozenset({'Male'}), confidence=1.0, lift=1.1590106007067138), OrderedStatistic(items_base=frozenset({'Male', '10-17', 'Other ethnic group - Not stated'}), items_add=frozenset({'Article for use in theft'}), confidence=0.8125, lift=0.9483985765124555), OrderedStatistic(items_base=frozenset({'Male', 'Article for use in theft', 'Other ethnic group - Not stated'}), items_add=frozenset({'10-17'}), confidence=0.25742574257425743, lift=1.2793279327932794)]),\n",
              " RelationRecord(items=frozenset({'Male', 'White', 'Article for use in theft', '10-17'}), support=0.09146341463414634, ordered_statistics=[OrderedStatistic(items_base=frozenset(), items_add=frozenset({'Male', 'White', 'Article for use in theft', '10-17'}), confidence=0.09146341463414634, lift=1.0), OrderedStatistic(items_base=frozenset({'10-17'}), items_add=frozenset({'Male', 'White', 'Article for use in theft'}), confidence=0.45454545454545453, lift=0.9318181818181818), OrderedStatistic(items_base=frozenset({'Article for use in theft'}), items_add=frozenset({'Male', 'White', '10-17'}), confidence=0.10676156583629894, lift=0.9464268539001635), OrderedStatistic(items_base=frozenset({'Male'}), items_add=frozenset({'White', 'Article for use in theft', '10-17'}), confidence=0.10600706713780919, lift=1.1216231619742392), OrderedStatistic(items_base=frozenset({'White'}), items_add=frozenset({'Male', 'Article for use in theft', '10-17'}), confidence=0.13392857142857142, lift=0.8447802197802198), OrderedStatistic(items_base=frozenset({'Article for use in theft', '10-17'}), items_add=frozenset({'Male', 'White'}), confidence=0.5660377358490566, lift=1.0145375811939374), OrderedStatistic(items_base=frozenset({'Male', '10-17'}), items_add=frozenset({'White', 'Article for use in theft'}), confidence=0.4615384615384615, lift=0.7884615384615384), OrderedStatistic(items_base=frozenset({'White', '10-17'}), items_add=frozenset({'Male', 'Article for use in theft'}), confidence=0.7894736842105262, lift=1.0569280343716432), OrderedStatistic(items_base=frozenset({'Male', 'Article for use in theft'}), items_add=frozenset({'White', '10-17'}), confidence=0.12244897959183673, lift=1.0569280343716434), OrderedStatistic(items_base=frozenset({'White', 'Article for use in theft'}), items_add=frozenset({'Male', '10-17'}), confidence=0.15625, lift=0.7884615384615384), OrderedStatistic(items_base=frozenset({'Male', 'White'}), items_add=frozenset({'Article for use in theft', '10-17'}), confidence=0.16393442622950818, lift=1.0145375811939374), OrderedStatistic(items_base=frozenset({'Male', 'Article for use in theft', '10-17'}), items_add=frozenset({'White'}), confidence=0.5769230769230769, lift=0.8447802197802197), OrderedStatistic(items_base=frozenset({'White', 'Article for use in theft', '10-17'}), items_add=frozenset({'Male'}), confidence=0.9677419354838709, lift=1.1216231619742392), OrderedStatistic(items_base=frozenset({'Male', 'White', '10-17'}), items_add=frozenset({'Article for use in theft'}), confidence=0.8108108108108107, lift=0.9464268539001635), OrderedStatistic(items_base=frozenset({'Male', 'White', 'Article for use in theft'}), items_add=frozenset({'10-17'}), confidence=0.1875, lift=0.9318181818181818)]),\n",
              " RelationRecord(items=frozenset({'Male', 'Article for use in theft', '10-17', 'White - English/Welsh/Scottish/Northern Irish/British'}), support=0.054878048780487805, ordered_statistics=[OrderedStatistic(items_base=frozenset(), items_add=frozenset({'Male', 'Article for use in theft', '10-17', 'White - English/Welsh/Scottish/Northern Irish/British'}), confidence=0.054878048780487805, lift=1.0), OrderedStatistic(items_base=frozenset({'10-17'}), items_add=frozenset({'Male', 'Article for use in theft', 'White - English/Welsh/Scottish/Northern Irish/British'}), confidence=0.2727272727272727, lift=0.9939393939393938), OrderedStatistic(items_base=frozenset({'Article for use in theft'}), items_add=frozenset({'Male', '10-17', 'White - English/Welsh/Scottish/Northern Irish/British'}), confidence=0.06405693950177936, lift=1.0005083884087442), OrderedStatistic(items_base=frozenset({'Male'}), items_add=frozenset({'Article for use in theft', '10-17', 'White - English/Welsh/Scottish/Northern Irish/British'}), confidence=0.06360424028268552, lift=1.0980100427747816), OrderedStatistic(items_base=frozenset({'White - English/Welsh/Scottish/Northern Irish/British'}), items_add=frozenset({'Male', 'Article for use in theft', '10-17'}), confidence=0.13953488372093023, lift=0.8801431127012522), OrderedStatistic(items_base=frozenset({'Article for use in theft', '10-17'}), items_add=frozenset({'Male', 'White - English/Welsh/Scottish/Northern Irish/British'}), confidence=0.33962264150943394, lift=1.0921198668146503), OrderedStatistic(items_base=frozenset({'Male', '10-17'}), items_add=frozenset({'Article for use in theft', 'White - English/Welsh/Scottish/Northern Irish/British'}), confidence=0.2769230769230769, lift=0.8038121170864533), OrderedStatistic(items_base=frozenset({'10-17', 'White - English/Welsh/Scottish/Northern Irish/British'}), items_add=frozenset({'Male', 'Article for use in theft'}), confidence=0.8181818181818181, lift=1.0953617810760667), OrderedStatistic(items_base=frozenset({'Male', 'Article for use in theft'}), items_add=frozenset({'10-17', 'White - English/Welsh/Scottish/Northern Irish/British'}), confidence=0.07346938775510205, lift=1.0953617810760667), OrderedStatistic(items_base=frozenset({'Article for use in theft', 'White - English/Welsh/Scottish/Northern Irish/British'}), items_add=frozenset({'Male', '10-17'}), confidence=0.15929203539823011, lift=0.8038121170864535), OrderedStatistic(items_base=frozenset({'Male', 'White - English/Welsh/Scottish/Northern Irish/British'}), items_add=frozenset({'Article for use in theft', '10-17'}), confidence=0.17647058823529413, lift=1.0921198668146503), OrderedStatistic(items_base=frozenset({'Male', 'Article for use in theft', '10-17'}), items_add=frozenset({'White - English/Welsh/Scottish/Northern Irish/British'}), confidence=0.34615384615384615, lift=0.8801431127012522), OrderedStatistic(items_base=frozenset({'Article for use in theft', '10-17', 'White - English/Welsh/Scottish/Northern Irish/British'}), items_add=frozenset({'Male'}), confidence=0.9473684210526315, lift=1.0980100427747814), OrderedStatistic(items_base=frozenset({'Male', '10-17', 'White - English/Welsh/Scottish/Northern Irish/British'}), items_add=frozenset({'Article for use in theft'}), confidence=0.8571428571428571, lift=1.0005083884087442), OrderedStatistic(items_base=frozenset({'Male', 'Article for use in theft', 'White - English/Welsh/Scottish/Northern Irish/British'}), items_add=frozenset({'10-17'}), confidence=0.19999999999999998, lift=0.9939393939393938)]),\n",
              " RelationRecord(items=frozenset({'White', 'Article for use in theft', '10-17', 'White - English/Welsh/Scottish/Northern Irish/British'}), support=0.057926829268292686, ordered_statistics=[OrderedStatistic(items_base=frozenset(), items_add=frozenset({'White', 'Article for use in theft', '10-17', 'White - English/Welsh/Scottish/Northern Irish/British'}), confidence=0.057926829268292686, lift=1.0), OrderedStatistic(items_base=frozenset({'10-17'}), items_add=frozenset({'White', 'Article for use in theft', 'White - English/Welsh/Scottish/Northern Irish/British'}), confidence=0.2878787878787879, lift=0.8430735930735931), OrderedStatistic(items_base=frozenset({'Article for use in theft'}), items_add=frozenset({'White', '10-17', 'White - English/Welsh/Scottish/Northern Irish/British'}), confidence=0.06761565836298933, lift=1.0080879974118409), OrderedStatistic(items_base=frozenset({'White'}), items_add=frozenset({'Article for use in theft', '10-17', 'White - English/Welsh/Scottish/Northern Irish/British'}), confidence=0.08482142857142858, lift=1.4642857142857142), OrderedStatistic(items_base=frozenset({'White - English/Welsh/Scottish/Northern Irish/British'}), items_add=frozenset({'White', 'Article for use in theft', '10-17'}), confidence=0.14728682170542637, lift=1.55838959739935), OrderedStatistic(items_base=frozenset({'Article for use in theft', '10-17'}), items_add=frozenset({'White', 'White - English/Welsh/Scottish/Northern Irish/British'}), confidence=0.3584905660377359, lift=0.9186320754716981), OrderedStatistic(items_base=frozenset({'White', '10-17'}), items_add=frozenset({'Article for use in theft', 'White - English/Welsh/Scottish/Northern Irish/British'}), confidence=0.5, lift=1.4513274336283186), OrderedStatistic(items_base=frozenset({'10-17', 'White - English/Welsh/Scottish/Northern Irish/British'}), items_add=frozenset({'White', 'Article for use in theft'}), confidence=0.8636363636363636, lift=1.475378787878788), OrderedStatistic(items_base=frozenset({'White', 'Article for use in theft'}), items_add=frozenset({'10-17', 'White - English/Welsh/Scottish/Northern Irish/British'}), confidence=0.09895833333333334, lift=1.4753787878787878), OrderedStatistic(items_base=frozenset({'Article for use in theft', 'White - English/Welsh/Scottish/Northern Irish/British'}), items_add=frozenset({'White', '10-17'}), confidence=0.168141592920354, lift=1.4513274336283186), OrderedStatistic(items_base=frozenset({'White', 'White - English/Welsh/Scottish/Northern Irish/British'}), items_add=frozenset({'Article for use in theft', '10-17'}), confidence=0.1484375, lift=0.9186320754716981), OrderedStatistic(items_base=frozenset({'White', 'Article for use in theft', '10-17'}), items_add=frozenset({'White - English/Welsh/Scottish/Northern Irish/British'}), confidence=0.6129032258064516, lift=1.5583895973993498), OrderedStatistic(items_base=frozenset({'Article for use in theft', '10-17', 'White - English/Welsh/Scottish/Northern Irish/British'}), items_add=frozenset({'White'}), confidence=1.0, lift=1.4642857142857142), OrderedStatistic(items_base=frozenset({'White', '10-17', 'White - English/Welsh/Scottish/Northern Irish/British'}), items_add=frozenset({'Article for use in theft'}), confidence=0.8636363636363636, lift=1.0080879974118409), OrderedStatistic(items_base=frozenset({'White', 'Article for use in theft', 'White - English/Welsh/Scottish/Northern Irish/British'}), items_add=frozenset({'10-17'}), confidence=0.16964285714285715, lift=0.8430735930735931)]),\n",
              " RelationRecord(items=frozenset({'Male', 'White', '10-17', 'White - English/Welsh/Scottish/Northern Irish/British'}), support=0.06402439024390244, ordered_statistics=[OrderedStatistic(items_base=frozenset(), items_add=frozenset({'Male', 'White', '10-17', 'White - English/Welsh/Scottish/Northern Irish/British'}), confidence=0.06402439024390244, lift=1.0), OrderedStatistic(items_base=frozenset({'10-17'}), items_add=frozenset({'Male', 'White', 'White - English/Welsh/Scottish/Northern Irish/British'}), confidence=0.3181818181818182, lift=1.0333033303330332), OrderedStatistic(items_base=frozenset({'Male'}), items_add=frozenset({'White', '10-17', 'White - English/Welsh/Scottish/Northern Irish/British'}), confidence=0.07420494699646643, lift=1.1063283006745903), OrderedStatistic(items_base=frozenset({'White'}), items_add=frozenset({'Male', '10-17', 'White - English/Welsh/Scottish/Northern Irish/British'}), confidence=0.09375, lift=1.4642857142857142), OrderedStatistic(items_base=frozenset({'White - English/Welsh/Scottish/Northern Irish/British'}), items_add=frozenset({'Male', 'White', '10-17'}), confidence=0.1627906976744186, lift=1.4431175361407917), OrderedStatistic(items_base=frozenset({'Male', '10-17'}), items_add=frozenset({'White', 'White - English/Welsh/Scottish/Northern Irish/British'}), confidence=0.3230769230769231, lift=0.8278846153846154), OrderedStatistic(items_base=frozenset({'White', '10-17'}), items_add=frozenset({'Male', 'White - English/Welsh/Scottish/Northern Irish/British'}), confidence=0.5526315789473684, lift=1.7770897832817336), OrderedStatistic(items_base=frozenset({'10-17', 'White - English/Welsh/Scottish/Northern Irish/British'}), items_add=frozenset({'Male', 'White'}), confidence=0.9545454545454545, lift=1.7108792846497762), OrderedStatistic(items_base=frozenset({'Male', 'White'}), items_add=frozenset({'10-17', 'White - English/Welsh/Scottish/Northern Irish/British'}), confidence=0.11475409836065573, lift=1.7108792846497762), OrderedStatistic(items_base=frozenset({'Male', 'White - English/Welsh/Scottish/Northern Irish/British'}), items_add=frozenset({'White', '10-17'}), confidence=0.2058823529411765, lift=1.7770897832817338), OrderedStatistic(items_base=frozenset({'White', 'White - English/Welsh/Scottish/Northern Irish/British'}), items_add=frozenset({'Male', '10-17'}), confidence=0.1640625, lift=0.8278846153846153), OrderedStatistic(items_base=frozenset({'Male', 'White', '10-17'}), items_add=frozenset({'White - English/Welsh/Scottish/Northern Irish/British'}), confidence=0.5675675675675675, lift=1.4431175361407917), OrderedStatistic(items_base=frozenset({'Male', '10-17', 'White - English/Welsh/Scottish/Northern Irish/British'}), items_add=frozenset({'White'}), confidence=1.0, lift=1.4642857142857142), OrderedStatistic(items_base=frozenset({'White', '10-17', 'White - English/Welsh/Scottish/Northern Irish/British'}), items_add=frozenset({'Male'}), confidence=0.9545454545454545, lift=1.1063283006745903), OrderedStatistic(items_base=frozenset({'Male', 'White', 'White - English/Welsh/Scottish/Northern Irish/British'}), items_add=frozenset({'10-17'}), confidence=0.20792079207920794, lift=1.0333033303330332)]),\n",
              " RelationRecord(items=frozenset({'Male', 'Other ethnic group - Not stated', 'Article for use in theft', '18-24'}), support=0.054878048780487805, ordered_statistics=[OrderedStatistic(items_base=frozenset(), items_add=frozenset({'Male', 'Other ethnic group - Not stated', 'Article for use in theft', '18-24'}), confidence=0.054878048780487805, lift=1.0), OrderedStatistic(items_base=frozenset({'18-24'}), items_add=frozenset({'Male', 'Article for use in theft', 'Other ethnic group - Not stated'}), confidence=0.2727272727272727, lift=0.8856885688568856), OrderedStatistic(items_base=frozenset({'Article for use in theft'}), items_add=frozenset({'Male', '18-24', 'Other ethnic group - Not stated'}), confidence=0.06405693950177936, lift=1.0005083884087442), OrderedStatistic(items_base=frozenset({'Male'}), items_add=frozenset({'Other ethnic group - Not stated', 'Article for use in theft', '18-24'}), confidence=0.06360424028268552, lift=0.9934376577486119), OrderedStatistic(items_base=frozenset({'Other ethnic group - Not stated'}), items_add=frozenset({'Male', 'Article for use in theft', '18-24'}), confidence=0.13846153846153844, lift=0.9083076923076921), OrderedStatistic(items_base=frozenset({'Article for use in theft', '18-24'}), items_add=frozenset({'Male', 'Other ethnic group - Not stated'}), confidence=0.32727272727272727, lift=0.9174825174825175), OrderedStatistic(items_base=frozenset({'Male', '18-24'}), items_add=frozenset({'Other ethnic group - Not stated', 'Article for use in theft'}), confidence=0.3, lift=0.8864864864864864), OrderedStatistic(items_base=frozenset({'Other ethnic group - Not stated', '18-24'}), items_add=frozenset({'Male', 'Article for use in theft'}), confidence=0.75, lift=1.0040816326530613), OrderedStatistic(items_base=frozenset({'Male', 'Article for use in theft'}), items_add=frozenset({'Other ethnic group - Not stated', '18-24'}), confidence=0.07346938775510205, lift=1.0040816326530613), OrderedStatistic(items_base=frozenset({'Other ethnic group - Not stated', 'Article for use in theft'}), items_add=frozenset({'Male', '18-24'}), confidence=0.16216216216216214, lift=0.8864864864864864), OrderedStatistic(items_base=frozenset({'Male', 'Other ethnic group - Not stated'}), items_add=frozenset({'Article for use in theft', '18-24'}), confidence=0.15384615384615385, lift=0.9174825174825175), OrderedStatistic(items_base=frozenset({'Male', 'Article for use in theft', '18-24'}), items_add=frozenset({'Other ethnic group - Not stated'}), confidence=0.36, lift=0.9083076923076923), OrderedStatistic(items_base=frozenset({'Other ethnic group - Not stated', 'Article for use in theft', '18-24'}), items_add=frozenset({'Male'}), confidence=0.8571428571428571, lift=0.9934376577486118), OrderedStatistic(items_base=frozenset({'Male', 'Other ethnic group - Not stated', '18-24'}), items_add=frozenset({'Article for use in theft'}), confidence=0.8571428571428571, lift=1.0005083884087442), OrderedStatistic(items_base=frozenset({'Male', 'Article for use in theft', 'Other ethnic group - Not stated'}), items_add=frozenset({'18-24'}), confidence=0.1782178217821782, lift=0.8856885688568856)]),\n",
              " RelationRecord(items=frozenset({'Male', 'White', 'Article for use in theft', '18-24'}), support=0.08231707317073171, ordered_statistics=[OrderedStatistic(items_base=frozenset(), items_add=frozenset({'Male', 'White', 'Article for use in theft', '18-24'}), confidence=0.08231707317073171, lift=1.0), OrderedStatistic(items_base=frozenset({'18-24'}), items_add=frozenset({'Male', 'White', 'Article for use in theft'}), confidence=0.40909090909090906, lift=0.8386363636363636), OrderedStatistic(items_base=frozenset({'Article for use in theft'}), items_add=frozenset({'Male', 'White', '18-24'}), confidence=0.09608540925266905, lift=0.9848754448398577), OrderedStatistic(items_base=frozenset({'Male'}), items_add=frozenset({'White', 'Article for use in theft', '18-24'}), confidence=0.09540636042402828, lift=1.0431095406360427), OrderedStatistic(items_base=frozenset({'White'}), items_add=frozenset({'Male', 'Article for use in theft', '18-24'}), confidence=0.12053571428571429, lift=0.7907142857142857), OrderedStatistic(items_base=frozenset({'Article for use in theft', '18-24'}), items_add=frozenset({'Male', 'White'}), confidence=0.4909090909090909, lift=0.8798807749627421), OrderedStatistic(items_base=frozenset({'Male', '18-24'}), items_add=frozenset({'White', 'Article for use in theft'}), confidence=0.45, lift=0.76875), OrderedStatistic(items_base=frozenset({'White', '18-24'}), items_add=frozenset({'Male', 'Article for use in theft'}), confidence=0.75, lift=1.0040816326530613), OrderedStatistic(items_base=frozenset({'Male', 'Article for use in theft'}), items_add=frozenset({'White', '18-24'}), confidence=0.11020408163265306, lift=1.0040816326530613), OrderedStatistic(items_base=frozenset({'White', 'Article for use in theft'}), items_add=frozenset({'Male', '18-24'}), confidence=0.14062500000000003, lift=0.7687500000000002), OrderedStatistic(items_base=frozenset({'Male', 'White'}), items_add=frozenset({'Article for use in theft', '18-24'}), confidence=0.14754098360655737, lift=0.8798807749627421), OrderedStatistic(items_base=frozenset({'Male', 'Article for use in theft', '18-24'}), items_add=frozenset({'White'}), confidence=0.54, lift=0.7907142857142857), OrderedStatistic(items_base=frozenset({'White', 'Article for use in theft', '18-24'}), items_add=frozenset({'Male'}), confidence=0.9, lift=1.0431095406360424), OrderedStatistic(items_base=frozenset({'Male', 'White', '18-24'}), items_add=frozenset({'Article for use in theft'}), confidence=0.84375, lift=0.9848754448398577), OrderedStatistic(items_base=frozenset({'Male', 'White', 'Article for use in theft'}), items_add=frozenset({'18-24'}), confidence=0.16875, lift=0.8386363636363636)]),\n",
              " RelationRecord(items=frozenset({'White - English/Welsh/Scottish/Northern Irish/British', 'White', 'Article for use in theft', '18-24'}), support=0.051829268292682924, ordered_statistics=[OrderedStatistic(items_base=frozenset(), items_add=frozenset({'White - English/Welsh/Scottish/Northern Irish/British', 'White', 'Article for use in theft', '18-24'}), confidence=0.051829268292682924, lift=1.0), OrderedStatistic(items_base=frozenset({'18-24'}), items_add=frozenset({'White', 'Article for use in theft', 'White - English/Welsh/Scottish/Northern Irish/British'}), confidence=0.25757575757575757, lift=0.7543290043290043), OrderedStatistic(items_base=frozenset({'Article for use in theft'}), items_add=frozenset({'White', '18-24', 'White - English/Welsh/Scottish/Northern Irish/British'}), confidence=0.060498220640569395, lift=0.9019734713684892), OrderedStatistic(items_base=frozenset({'White'}), items_add=frozenset({'Article for use in theft', '18-24', 'White - English/Welsh/Scottish/Northern Irish/British'}), confidence=0.07589285714285714, lift=1.4642857142857142), OrderedStatistic(items_base=frozenset({'White - English/Welsh/Scottish/Northern Irish/British'}), items_add=frozenset({'White', 'Article for use in theft', '18-24'}), confidence=0.1317829457364341, lift=1.4408268733850127), OrderedStatistic(items_base=frozenset({'Article for use in theft', '18-24'}), items_add=frozenset({'White', 'White - English/Welsh/Scottish/Northern Irish/British'}), confidence=0.3090909090909091, lift=0.7920454545454545), OrderedStatistic(items_base=frozenset({'White', '18-24'}), items_add=frozenset({'Article for use in theft', 'White - English/Welsh/Scottish/Northern Irish/British'}), confidence=0.4722222222222222, lift=1.3706981317600788), OrderedStatistic(items_base=frozenset({'White - English/Welsh/Scottish/Northern Irish/British', '18-24'}), items_add=frozenset({'White', 'Article for use in theft'}), confidence=0.7727272727272726, lift=1.3200757575757573), OrderedStatistic(items_base=frozenset({'White', 'Article for use in theft'}), items_add=frozenset({'18-24', 'White - English/Welsh/Scottish/Northern Irish/British'}), confidence=0.08854166666666667, lift=1.3200757575757576), OrderedStatistic(items_base=frozenset({'Article for use in theft', 'White - English/Welsh/Scottish/Northern Irish/British'}), items_add=frozenset({'White', '18-24'}), confidence=0.1504424778761062, lift=1.3706981317600788), OrderedStatistic(items_base=frozenset({'White', 'White - English/Welsh/Scottish/Northern Irish/British'}), items_add=frozenset({'Article for use in theft', '18-24'}), confidence=0.1328125, lift=0.7920454545454545), OrderedStatistic(items_base=frozenset({'White', 'Article for use in theft', '18-24'}), items_add=frozenset({'White - English/Welsh/Scottish/Northern Irish/British'}), confidence=0.5666666666666667, lift=1.440826873385013), OrderedStatistic(items_base=frozenset({'White - English/Welsh/Scottish/Northern Irish/British', 'Article for use in theft', '18-24'}), items_add=frozenset({'White'}), confidence=1.0, lift=1.4642857142857142), OrderedStatistic(items_base=frozenset({'White - English/Welsh/Scottish/Northern Irish/British', 'White', '18-24'}), items_add=frozenset({'Article for use in theft'}), confidence=0.7727272727272726, lift=0.901973471368489), OrderedStatistic(items_base=frozenset({'White', 'Article for use in theft', 'White - English/Welsh/Scottish/Northern Irish/British'}), items_add=frozenset({'18-24'}), confidence=0.15178571428571427, lift=0.7543290043290042)]),\n",
              " RelationRecord(items=frozenset({'Male', 'White - English/Welsh/Scottish/Northern Irish/British', 'White', '18-24'}), support=0.06097560975609756, ordered_statistics=[OrderedStatistic(items_base=frozenset(), items_add=frozenset({'Male', 'White - English/Welsh/Scottish/Northern Irish/British', 'White', '18-24'}), confidence=0.06097560975609756, lift=1.0), OrderedStatistic(items_base=frozenset({'18-24'}), items_add=frozenset({'Male', 'White', 'White - English/Welsh/Scottish/Northern Irish/British'}), confidence=0.303030303030303, lift=0.984098409840984), OrderedStatistic(items_base=frozenset({'Male'}), items_add=frozenset({'White', '18-24', 'White - English/Welsh/Scottish/Northern Irish/British'}), confidence=0.0706713780918728, lift=1.053646000642467), OrderedStatistic(items_base=frozenset({'White'}), items_add=frozenset({'Male', '18-24', 'White - English/Welsh/Scottish/Northern Irish/British'}), confidence=0.08928571428571427, lift=1.4642857142857142), OrderedStatistic(items_base=frozenset({'White - English/Welsh/Scottish/Northern Irish/British'}), items_add=frozenset({'Male', 'White', '18-24'}), confidence=0.15503875968992248, lift=1.5891472868217054), OrderedStatistic(items_base=frozenset({'Male', '18-24'}), items_add=frozenset({'White', 'White - English/Welsh/Scottish/Northern Irish/British'}), confidence=0.3333333333333333, lift=0.8541666666666666), OrderedStatistic(items_base=frozenset({'White', '18-24'}), items_add=frozenset({'Male', 'White - English/Welsh/Scottish/Northern Irish/British'}), confidence=0.5555555555555556, lift=1.7864923747276689), OrderedStatistic(items_base=frozenset({'White - English/Welsh/Scottish/Northern Irish/British', '18-24'}), items_add=frozenset({'Male', 'White'}), confidence=0.9090909090909091, lift=1.6294088425235964), OrderedStatistic(items_base=frozenset({'Male', 'White'}), items_add=frozenset({'18-24', 'White - English/Welsh/Scottish/Northern Irish/British'}), confidence=0.10928961748633878, lift=1.6294088425235962), OrderedStatistic(items_base=frozenset({'Male', 'White - English/Welsh/Scottish/Northern Irish/British'}), items_add=frozenset({'White', '18-24'}), confidence=0.19607843137254902, lift=1.7864923747276689), OrderedStatistic(items_base=frozenset({'White', 'White - English/Welsh/Scottish/Northern Irish/British'}), items_add=frozenset({'Male', '18-24'}), confidence=0.15625, lift=0.8541666666666667), OrderedStatistic(items_base=frozenset({'Male', 'White', '18-24'}), items_add=frozenset({'White - English/Welsh/Scottish/Northern Irish/British'}), confidence=0.625, lift=1.5891472868217054), OrderedStatistic(items_base=frozenset({'Male', 'White - English/Welsh/Scottish/Northern Irish/British', '18-24'}), items_add=frozenset({'White'}), confidence=1.0, lift=1.4642857142857142), OrderedStatistic(items_base=frozenset({'White - English/Welsh/Scottish/Northern Irish/British', 'White', '18-24'}), items_add=frozenset({'Male'}), confidence=0.9090909090909091, lift=1.053646000642467), OrderedStatistic(items_base=frozenset({'Male', 'White', 'White - English/Welsh/Scottish/Northern Irish/British'}), items_add=frozenset({'18-24'}), confidence=0.19801980198019803, lift=0.9840984098409841)]),\n",
              " RelationRecord(items=frozenset({'Male', 'Article for use in theft', '25-34', 'Other ethnic group - Not stated'}), support=0.057926829268292686, ordered_statistics=[OrderedStatistic(items_base=frozenset(), items_add=frozenset({'Male', 'Article for use in theft', '25-34', 'Other ethnic group - Not stated'}), confidence=0.057926829268292686, lift=1.0), OrderedStatistic(items_base=frozenset({'25-34'}), items_add=frozenset({'Male', 'Article for use in theft', 'Other ethnic group - Not stated'}), confidence=0.3114754098360656, lift=1.011524103229995), OrderedStatistic(items_base=frozenset({'Article for use in theft'}), items_add=frozenset({'Male', '25-34', 'Other ethnic group - Not stated'}), confidence=0.06761565836298933, lift=1.0560921877647858), OrderedStatistic(items_base=frozenset({'Male'}), items_add=frozenset({'Other ethnic group - Not stated', 'Article for use in theft', '25-34'}), confidence=0.06713780918727916, lift=1.1010600706713782), OrderedStatistic(items_base=frozenset({'Other ethnic group - Not stated'}), items_add=frozenset({'Male', 'Article for use in theft', '25-34'}), confidence=0.14615384615384616, lift=1.0199672667757775), OrderedStatistic(items_base=frozenset({'Article for use in theft', '25-34'}), items_add=frozenset({'Male', 'Other ethnic group - Not stated'}), confidence=0.34545454545454546, lift=0.9684537684537685), OrderedStatistic(items_base=frozenset({'Male', '25-34'}), items_add=frozenset({'Other ethnic group - Not stated', 'Article for use in theft'}), confidence=0.37254901960784315, lift=1.1008655714538067), OrderedStatistic(items_base=frozenset({'Other ethnic group - Not stated', '25-34'}), items_add=frozenset({'Male', 'Article for use in theft'}), confidence=0.8260869565217391, lift=1.1059449866903284), OrderedStatistic(items_base=frozenset({'Male', 'Article for use in theft'}), items_add=frozenset({'Other ethnic group - Not stated', '25-34'}), confidence=0.07755102040816327, lift=1.1059449866903281), OrderedStatistic(items_base=frozenset({'Other ethnic group - Not stated', 'Article for use in theft'}), items_add=frozenset({'Male', '25-34'}), confidence=0.17117117117117117, lift=1.1008655714538067), OrderedStatistic(items_base=frozenset({'Male', 'Other ethnic group - Not stated'}), items_add=frozenset({'Article for use in theft', '25-34'}), confidence=0.1623931623931624, lift=0.9684537684537684), OrderedStatistic(items_base=frozenset({'Male', 'Article for use in theft', '25-34'}), items_add=frozenset({'Other ethnic group - Not stated'}), confidence=0.4042553191489362, lift=1.0199672667757775), OrderedStatistic(items_base=frozenset({'Other ethnic group - Not stated', 'Article for use in theft', '25-34'}), items_add=frozenset({'Male'}), confidence=0.9500000000000001, lift=1.1010600706713782), OrderedStatistic(items_base=frozenset({'Male', '25-34', 'Other ethnic group - Not stated'}), items_add=frozenset({'Article for use in theft'}), confidence=0.9047619047619048, lift=1.0560921877647858), OrderedStatistic(items_base=frozenset({'Male', 'Article for use in theft', 'Other ethnic group - Not stated'}), items_add=frozenset({'25-34'}), confidence=0.18811881188118812, lift=1.011524103229995)]),\n",
              " RelationRecord(items=frozenset({'Male', 'White', 'Article for use in theft', '25-34'}), support=0.07926829268292683, ordered_statistics=[OrderedStatistic(items_base=frozenset(), items_add=frozenset({'Male', 'White', 'Article for use in theft', '25-34'}), confidence=0.07926829268292683, lift=1.0), OrderedStatistic(items_base=frozenset({'25-34'}), items_add=frozenset({'Male', 'White', 'Article for use in theft'}), confidence=0.42622950819672134, lift=0.8737704918032788), OrderedStatistic(items_base=frozenset({'Article for use in theft'}), items_add=frozenset({'Male', 'White', '25-34'}), confidence=0.09252669039145908, lift=1.0838840874428064), OrderedStatistic(items_base=frozenset({'Male'}), items_add=frozenset({'White', 'Article for use in theft', '25-34'}), confidence=0.09187279151943463, lift=0.88630222406984), OrderedStatistic(items_base=frozenset({'White'}), items_add=frozenset({'Male', 'Article for use in theft', '25-34'}), confidence=0.11607142857142856, lift=0.8100303951367781), OrderedStatistic(items_base=frozenset({'Article for use in theft', '25-34'}), items_add=frozenset({'Male', 'White'}), confidence=0.4727272727272727, lift=0.8472925981122702), OrderedStatistic(items_base=frozenset({'Male', '25-34'}), items_add=frozenset({'White', 'Article for use in theft'}), confidence=0.5098039215686274, lift=0.8709150326797386), OrderedStatistic(items_base=frozenset({'White', '25-34'}), items_add=frozenset({'Male', 'Article for use in theft'}), confidence=0.6842105263157895, lift=0.9160042964554242), OrderedStatistic(items_base=frozenset({'Male', 'Article for use in theft'}), items_add=frozenset({'White', '25-34'}), confidence=0.10612244897959183, lift=0.9160042964554241), OrderedStatistic(items_base=frozenset({'White', 'Article for use in theft'}), items_add=frozenset({'Male', '25-34'}), confidence=0.13541666666666669, lift=0.8709150326797387), OrderedStatistic(items_base=frozenset({'Male', 'White'}), items_add=frozenset({'Article for use in theft', '25-34'}), confidence=0.14207650273224043, lift=0.8472925981122701), OrderedStatistic(items_base=frozenset({'Male', 'Article for use in theft', '25-34'}), items_add=frozenset({'White'}), confidence=0.5531914893617021, lift=0.8100303951367781), OrderedStatistic(items_base=frozenset({'White', 'Article for use in theft', '25-34'}), items_add=frozenset({'Male'}), confidence=0.7647058823529412, lift=0.88630222406984), OrderedStatistic(items_base=frozenset({'Male', 'White', '25-34'}), items_add=frozenset({'Article for use in theft'}), confidence=0.9285714285714285, lift=1.0838840874428062), OrderedStatistic(items_base=frozenset({'Male', 'White', 'Article for use in theft'}), items_add=frozenset({'25-34'}), confidence=0.1625, lift=0.8737704918032787)]),\n",
              " RelationRecord(items=frozenset({'White', 'Article for use in theft', '25-34', 'White - English/Welsh/Scottish/Northern Irish/British'}), support=0.06097560975609756, ordered_statistics=[OrderedStatistic(items_base=frozenset(), items_add=frozenset({'White', 'Article for use in theft', '25-34', 'White - English/Welsh/Scottish/Northern Irish/British'}), confidence=0.06097560975609756, lift=1.0), OrderedStatistic(items_base=frozenset({'25-34'}), items_add=frozenset({'White', 'Article for use in theft', 'White - English/Welsh/Scottish/Northern Irish/British'}), confidence=0.32786885245901637, lift=0.9601873536299764), OrderedStatistic(items_base=frozenset({'Article for use in theft'}), items_add=frozenset({'White', '25-34', 'White - English/Welsh/Scottish/Northern Irish/British'}), confidence=0.07117437722419928, lift=1.1116759871208268), OrderedStatistic(items_base=frozenset({'White'}), items_add=frozenset({'Article for use in theft', '25-34', 'White - English/Welsh/Scottish/Northern Irish/British'}), confidence=0.08928571428571427, lift=1.4642857142857142), OrderedStatistic(items_base=frozenset({'White - English/Welsh/Scottish/Northern Irish/British'}), items_add=frozenset({'White', 'Article for use in theft', '25-34'}), confidence=0.15503875968992248, lift=1.4956680346557227), OrderedStatistic(items_base=frozenset({'Article for use in theft', '25-34'}), items_add=frozenset({'White', 'White - English/Welsh/Scottish/Northern Irish/British'}), confidence=0.3636363636363636, lift=0.9318181818181817), OrderedStatistic(items_base=frozenset({'White', '25-34'}), items_add=frozenset({'Article for use in theft', 'White - English/Welsh/Scottish/Northern Irish/British'}), confidence=0.5263157894736842, lift=1.527713088029809), OrderedStatistic(items_base=frozenset({'25-34', 'White - English/Welsh/Scottish/Northern Irish/British'}), items_add=frozenset({'White', 'Article for use in theft'}), confidence=0.9523809523809523, lift=1.626984126984127), OrderedStatistic(items_base=frozenset({'White', 'Article for use in theft'}), items_add=frozenset({'25-34', 'White - English/Welsh/Scottish/Northern Irish/British'}), confidence=0.10416666666666667, lift=1.626984126984127), OrderedStatistic(items_base=frozenset({'Article for use in theft', 'White - English/Welsh/Scottish/Northern Irish/British'}), items_add=frozenset({'White', '25-34'}), confidence=0.17699115044247787, lift=1.5277130880298089), OrderedStatistic(items_base=frozenset({'White', 'White - English/Welsh/Scottish/Northern Irish/British'}), items_add=frozenset({'Article for use in theft', '25-34'}), confidence=0.15625, lift=0.9318181818181818), OrderedStatistic(items_base=frozenset({'White', 'Article for use in theft', '25-34'}), items_add=frozenset({'White - English/Welsh/Scottish/Northern Irish/British'}), confidence=0.5882352941176471, lift=1.4956680346557227), OrderedStatistic(items_base=frozenset({'Article for use in theft', '25-34', 'White - English/Welsh/Scottish/Northern Irish/British'}), items_add=frozenset({'White'}), confidence=1.0, lift=1.4642857142857142), OrderedStatistic(items_base=frozenset({'White', '25-34', 'White - English/Welsh/Scottish/Northern Irish/British'}), items_add=frozenset({'Article for use in theft'}), confidence=0.9523809523809523, lift=1.111675987120827), OrderedStatistic(items_base=frozenset({'White', 'Article for use in theft', 'White - English/Welsh/Scottish/Northern Irish/British'}), items_add=frozenset({'25-34'}), confidence=0.17857142857142855, lift=0.9601873536299764)]),\n",
              " RelationRecord(items=frozenset({'Male', 'Article for use in theft', 'Black', 'Other ethnic group - Not stated'}), support=0.06402439024390244, ordered_statistics=[OrderedStatistic(items_base=frozenset(), items_add=frozenset({'Male', 'Article for use in theft', 'Black', 'Other ethnic group - Not stated'}), confidence=0.06402439024390244, lift=1.0), OrderedStatistic(items_base=frozenset({'Article for use in theft'}), items_add=frozenset({'Male', 'Black', 'Other ethnic group - Not stated'}), confidence=0.07473309608540926, lift=1.02135231316726), OrderedStatistic(items_base=frozenset({'Black'}), items_add=frozenset({'Male', 'Article for use in theft', 'Other ethnic group - Not stated'}), confidence=0.3620689655172414, lift=1.1758279276203483), OrderedStatistic(items_base=frozenset({'Male'}), items_add=frozenset({'Other ethnic group - Not stated', 'Article for use in theft', 'Black'}), confidence=0.07420494699646643, lift=1.1590106007067138), OrderedStatistic(items_base=frozenset({'Other ethnic group - Not stated'}), items_add=frozenset({'Male', 'Article for use in theft', 'Black'}), confidence=0.16153846153846155, lift=1.1273322422258594), OrderedStatistic(items_base=frozenset({'Article for use in theft', 'Black'}), items_add=frozenset({'Male', 'Other ethnic group - Not stated'}), confidence=0.4285714285714286, lift=1.2014652014652016), OrderedStatistic(items_base=frozenset({'Male', 'Article for use in theft'}), items_add=frozenset({'Other ethnic group - Not stated', 'Black'}), confidence=0.08571428571428572, lift=1.1714285714285715), OrderedStatistic(items_base=frozenset({'Other ethnic group - Not stated', 'Article for use in theft'}), items_add=frozenset({'Male', 'Black'}), confidence=0.18918918918918917, lift=1.108108108108108), OrderedStatistic(items_base=frozenset({'Male', 'Black'}), items_add=frozenset({'Other ethnic group - Not stated', 'Article for use in theft'}), confidence=0.375, lift=1.1081081081081081), OrderedStatistic(items_base=frozenset({'Other ethnic group - Not stated', 'Black'}), items_add=frozenset({'Male', 'Article for use in theft'}), confidence=0.8750000000000001, lift=1.1714285714285715), OrderedStatistic(items_base=frozenset({'Male', 'Other ethnic group - Not stated'}), items_add=frozenset({'Article for use in theft', 'Black'}), confidence=0.1794871794871795, lift=1.2014652014652014), OrderedStatistic(items_base=frozenset({'Male', 'Article for use in theft', 'Black'}), items_add=frozenset({'Other ethnic group - Not stated'}), confidence=0.4468085106382979, lift=1.1273322422258594), OrderedStatistic(items_base=frozenset({'Other ethnic group - Not stated', 'Article for use in theft', 'Black'}), items_add=frozenset({'Male'}), confidence=1.0, lift=1.1590106007067138), OrderedStatistic(items_base=frozenset({'Male', 'Article for use in theft', 'Other ethnic group - Not stated'}), items_add=frozenset({'Black'}), confidence=0.20792079207920794, lift=1.1758279276203485), OrderedStatistic(items_base=frozenset({'Male', 'Black', 'Other ethnic group - Not stated'}), items_add=frozenset({'Article for use in theft'}), confidence=0.8750000000000001, lift=1.02135231316726)]),\n",
              " RelationRecord(items=frozenset({'White - English/Welsh/Scottish/Northern Irish/British', 'White', 'Article for use in theft', 'Female'}), support=0.0701219512195122, ordered_statistics=[OrderedStatistic(items_base=frozenset(), items_add=frozenset({'White - English/Welsh/Scottish/Northern Irish/British', 'White', 'Article for use in theft', 'Female'}), confidence=0.0701219512195122, lift=1.0), OrderedStatistic(items_base=frozenset({'Article for use in theft'}), items_add=frozenset({'Female', 'White', 'White - English/Welsh/Scottish/Northern Irish/British'}), confidence=0.0818505338078292, lift=0.9943324107025175), OrderedStatistic(items_base=frozenset({'Female'}), items_add=frozenset({'White', 'Article for use in theft', 'White - English/Welsh/Scottish/Northern Irish/British'}), confidence=0.5227272727272727, lift=1.5308441558441557), OrderedStatistic(items_base=frozenset({'White'}), items_add=frozenset({'Female', 'Article for use in theft', 'White - English/Welsh/Scottish/Northern Irish/British'}), confidence=0.10267857142857142, lift=1.4642857142857142), OrderedStatistic(items_base=frozenset({'White - English/Welsh/Scottish/Northern Irish/British'}), items_add=frozenset({'White', 'Article for use in theft', 'Female'}), confidence=0.17829457364341086, lift=1.8275193798449614), OrderedStatistic(items_base=frozenset({'Article for use in theft', 'Female'}), items_add=frozenset({'White', 'White - English/Welsh/Scottish/Northern Irish/British'}), confidence=0.6571428571428573, lift=1.6839285714285717), OrderedStatistic(items_base=frozenset({'White', 'Article for use in theft'}), items_add=frozenset({'Female', 'White - English/Welsh/Scottish/Northern Irish/British'}), confidence=0.11979166666666669, lift=1.455246913580247), OrderedStatistic(items_base=frozenset({'Article for use in theft', 'White - English/Welsh/Scottish/Northern Irish/British'}), items_add=frozenset({'White', 'Female'}), confidence=0.2035398230088496, lift=1.6283185840707968), OrderedStatistic(items_base=frozenset({'White', 'Female'}), items_add=frozenset({'Article for use in theft', 'White - English/Welsh/Scottish/Northern Irish/British'}), confidence=0.5609756097560976, lift=1.6283185840707968), OrderedStatistic(items_base=frozenset({'White - English/Welsh/Scottish/Northern Irish/British', 'Female'}), items_add=frozenset({'White', 'Article for use in theft'}), confidence=0.8518518518518519, lift=1.455246913580247), OrderedStatistic(items_base=frozenset({'White', 'White - English/Welsh/Scottish/Northern Irish/British'}), items_add=frozenset({'Article for use in theft', 'Female'}), confidence=0.1796875, lift=1.6839285714285714), OrderedStatistic(items_base=frozenset({'White', 'Article for use in theft', 'Female'}), items_add=frozenset({'White - English/Welsh/Scottish/Northern Irish/British'}), confidence=0.71875, lift=1.8275193798449612), OrderedStatistic(items_base=frozenset({'White - English/Welsh/Scottish/Northern Irish/British', 'Article for use in theft', 'Female'}), items_add=frozenset({'White'}), confidence=1.0, lift=1.4642857142857142), OrderedStatistic(items_base=frozenset({'White', 'Article for use in theft', 'White - English/Welsh/Scottish/Northern Irish/British'}), items_add=frozenset({'Female'}), confidence=0.20535714285714285, lift=1.5308441558441557), OrderedStatistic(items_base=frozenset({'White - English/Welsh/Scottish/Northern Irish/British', 'White', 'Female'}), items_add=frozenset({'Article for use in theft'}), confidence=0.8518518518518519, lift=0.9943324107025175)]),\n",
              " RelationRecord(items=frozenset({'White', 'Article for use in theft', 'over 34', 'Female'}), support=0.06097560975609756, ordered_statistics=[OrderedStatistic(items_base=frozenset(), items_add=frozenset({'White', 'Article for use in theft', 'over 34', 'Female'}), confidence=0.06097560975609756, lift=1.0), OrderedStatistic(items_base=frozenset({'Article for use in theft'}), items_add=frozenset({'White', 'over 34', 'Female'}), confidence=0.07117437722419928, lift=0.8978921434437448), OrderedStatistic(items_base=frozenset({'Female'}), items_add=frozenset({'White', 'Article for use in theft', 'over 34'}), confidence=0.45454545454545453, lift=1.5370196813495782), OrderedStatistic(items_base=frozenset({'White'}), items_add=frozenset({'Article for use in theft', 'over 34', 'Female'}), confidence=0.08928571428571427, lift=1.3945578231292515), OrderedStatistic(items_base=frozenset({'over 34'}), items_add=frozenset({'White', 'Article for use in theft', 'Female'}), confidence=0.14814814814814814, lift=1.5185185185185184), OrderedStatistic(items_base=frozenset({'Article for use in theft', 'Female'}), items_add=frozenset({'White', 'over 34'}), confidence=0.5714285714285714, lift=1.673469387755102), OrderedStatistic(items_base=frozenset({'White', 'Article for use in theft'}), items_add=frozenset({'over 34', 'Female'}), confidence=0.10416666666666667, lift=1.2654320987654322), OrderedStatistic(items_base=frozenset({'Article for use in theft', 'over 34'}), items_add=frozenset({'White', 'Female'}), confidence=0.1694915254237288, lift=1.3559322033898304), OrderedStatistic(items_base=frozenset({'White', 'Female'}), items_add=frozenset({'Article for use in theft', 'over 34'}), confidence=0.4878048780487805, lift=1.3559322033898304), OrderedStatistic(items_base=frozenset({'over 34', 'Female'}), items_add=frozenset({'White', 'Article for use in theft'}), confidence=0.7407407407407407, lift=1.2654320987654322), OrderedStatistic(items_base=frozenset({'White', 'over 34'}), items_add=frozenset({'Article for use in theft', 'Female'}), confidence=0.17857142857142855, lift=1.673469387755102), OrderedStatistic(items_base=frozenset({'White', 'Article for use in theft', 'Female'}), items_add=frozenset({'over 34'}), confidence=0.625, lift=1.5185185185185186), OrderedStatistic(items_base=frozenset({'Article for use in theft', 'over 34', 'Female'}), items_add=frozenset({'White'}), confidence=0.9523809523809523, lift=1.3945578231292515), OrderedStatistic(items_base=frozenset({'White', 'Article for use in theft', 'over 34'}), items_add=frozenset({'Female'}), confidence=0.2061855670103093, lift=1.5370196813495782), OrderedStatistic(items_base=frozenset({'White', 'over 34', 'Female'}), items_add=frozenset({'Article for use in theft'}), confidence=0.7692307692307692, lift=0.8978921434437448)]),\n",
              " RelationRecord(items=frozenset({'Male', 'White', 'Article for use in theft', 'Other ethnic group - Not stated'}), support=0.17682926829268292, ordered_statistics=[OrderedStatistic(items_base=frozenset(), items_add=frozenset({'Male', 'White', 'Article for use in theft', 'Other ethnic group - Not stated'}), confidence=0.17682926829268292, lift=1.0), OrderedStatistic(items_base=frozenset({'Article for use in theft'}), items_add=frozenset({'Male', 'White', 'Other ethnic group - Not stated'}), confidence=0.20640569395017794, lift=1.010463695756095), OrderedStatistic(items_base=frozenset({'Male'}), items_add=frozenset({'Other ethnic group - Not stated', 'White', 'Article for use in theft'}), confidence=0.20494699646643108, lift=1.018524467287718), OrderedStatistic(items_base=frozenset({'Other ethnic group - Not stated'}), items_add=frozenset({'Male', 'White', 'Article for use in theft'}), confidence=0.4461538461538461, lift=0.9146153846153846), OrderedStatistic(items_base=frozenset({'White'}), items_add=frozenset({'Male', 'Article for use in theft', 'Other ethnic group - Not stated'}), confidence=0.2589285714285714, lift=0.8408769448373408), OrderedStatistic(items_base=frozenset({'Male', 'Article for use in theft'}), items_add=frozenset({'Other ethnic group - Not stated', 'White'}), confidence=0.236734693877551, lift=0.9954997383568812), OrderedStatistic(items_base=frozenset({'Other ethnic group - Not stated', 'Article for use in theft'}), items_add=frozenset({'Male', 'White'}), confidence=0.5225225225225224, lift=0.9365431004775264), OrderedStatistic(items_base=frozenset({'White', 'Article for use in theft'}), items_add=frozenset({'Male', 'Other ethnic group - Not stated'}), confidence=0.3020833333333333, lift=0.8468660968660968), OrderedStatistic(items_base=frozenset({'Male', 'Other ethnic group - Not stated'}), items_add=frozenset({'White', 'Article for use in theft'}), confidence=0.49572649572649574, lift=0.8468660968660969), OrderedStatistic(items_base=frozenset({'Male', 'White'}), items_add=frozenset({'Other ethnic group - Not stated', 'Article for use in theft'}), confidence=0.3169398907103825, lift=0.9365431004775265), OrderedStatistic(items_base=frozenset({'Other ethnic group - Not stated', 'White'}), items_add=frozenset({'Male', 'Article for use in theft'}), confidence=0.7435897435897436, lift=0.9954997383568812), OrderedStatistic(items_base=frozenset({'Male', 'Article for use in theft', 'Other ethnic group - Not stated'}), items_add=frozenset({'White'}), confidence=0.5742574257425742, lift=0.8408769448373408), OrderedStatistic(items_base=frozenset({'Male', 'White', 'Article for use in theft'}), items_add=frozenset({'Other ethnic group - Not stated'}), confidence=0.3625, lift=0.9146153846153845), OrderedStatistic(items_base=frozenset({'Other ethnic group - Not stated', 'White', 'Article for use in theft'}), items_add=frozenset({'Male'}), confidence=0.8787878787878787, lift=1.018524467287718), OrderedStatistic(items_base=frozenset({'Male', 'White', 'Other ethnic group - Not stated'}), items_add=frozenset({'Article for use in theft'}), confidence=0.8656716417910448, lift=1.010463695756095)]),\n",
              " RelationRecord(items=frozenset({'Male', 'Article for use in theft', 'over 34', 'Other ethnic group - Not stated'}), support=0.11585365853658537, ordered_statistics=[OrderedStatistic(items_base=frozenset(), items_add=frozenset({'Male', 'Article for use in theft', 'over 34', 'Other ethnic group - Not stated'}), confidence=0.11585365853658537, lift=1.0), OrderedStatistic(items_base=frozenset({'Article for use in theft'}), items_add=frozenset({'Male', 'over 34', 'Other ethnic group - Not stated'}), confidence=0.13523131672597866, lift=1.0315319043283953), OrderedStatistic(items_base=frozenset({'Male'}), items_add=frozenset({'Other ethnic group - Not stated', 'Article for use in theft', 'over 34'}), confidence=0.13427561837455831, lift=1.0009637006103438), OrderedStatistic(items_base=frozenset({'Other ethnic group - Not stated'}), items_add=frozenset({'Male', 'Article for use in theft', 'over 34'}), confidence=0.2923076923076923, lift=0.9987179487179488), OrderedStatistic(items_base=frozenset({'over 34'}), items_add=frozenset({'Male', 'Article for use in theft', 'Other ethnic group - Not stated'}), confidence=0.2814814814814815, lift=0.9141180784745142), OrderedStatistic(items_base=frozenset({'Male', 'Article for use in theft'}), items_add=frozenset({'Other ethnic group - Not stated', 'over 34'}), confidence=0.15510204081632653, lift=0.9975190076030412), OrderedStatistic(items_base=frozenset({'Other ethnic group - Not stated', 'Article for use in theft'}), items_add=frozenset({'Male', 'over 34'}), confidence=0.34234234234234234, lift=1.0494232550307316), OrderedStatistic(items_base=frozenset({'Article for use in theft', 'over 34'}), items_add=frozenset({'Male', 'Other ethnic group - Not stated'}), confidence=0.3220338983050848, lift=0.9027958858467334), OrderedStatistic(items_base=frozenset({'Male', 'Other ethnic group - Not stated'}), items_add=frozenset({'Article for use in theft', 'over 34'}), confidence=0.3247863247863248, lift=0.9027958858467334), OrderedStatistic(items_base=frozenset({'Male', 'over 34'}), items_add=frozenset({'Other ethnic group - Not stated', 'Article for use in theft'}), confidence=0.35514018691588783, lift=1.0494232550307316), OrderedStatistic(items_base=frozenset({'Other ethnic group - Not stated', 'over 34'}), items_add=frozenset({'Male', 'Article for use in theft'}), confidence=0.7450980392156863, lift=0.9975190076030412), OrderedStatistic(items_base=frozenset({'Male', 'Article for use in theft', 'Other ethnic group - Not stated'}), items_add=frozenset({'over 34'}), confidence=0.37623762376237624, lift=0.9141180784745142), OrderedStatistic(items_base=frozenset({'Male', 'Article for use in theft', 'over 34'}), items_add=frozenset({'Other ethnic group - Not stated'}), confidence=0.39583333333333337, lift=0.9987179487179487), OrderedStatistic(items_base=frozenset({'Other ethnic group - Not stated', 'Article for use in theft', 'over 34'}), items_add=frozenset({'Male'}), confidence=0.8636363636363636, lift=1.0009637006103438), OrderedStatistic(items_base=frozenset({'Male', 'over 34', 'Other ethnic group - Not stated'}), items_add=frozenset({'Article for use in theft'}), confidence=0.8837209302325582, lift=1.0315319043283953)]),\n",
              " RelationRecord(items=frozenset({'Male', 'White', 'Article for use in theft', 'White - English/Welsh/Scottish/Northern Irish/British'}), support=0.27134146341463417, ordered_statistics=[OrderedStatistic(items_base=frozenset(), items_add=frozenset({'Male', 'White', 'Article for use in theft', 'White - English/Welsh/Scottish/Northern Irish/British'}), confidence=0.27134146341463417, lift=1.0), OrderedStatistic(items_base=frozenset({'Article for use in theft'}), items_add=frozenset({'Male', 'White', 'White - English/Welsh/Scottish/Northern Irish/British'}), confidence=0.31672597864768687, lift=1.02857545541031), OrderedStatistic(items_base=frozenset({'Male'}), items_add=frozenset({'White', 'Article for use in theft', 'White - English/Welsh/Scottish/Northern Irish/British'}), confidence=0.31448763250883394, lift=0.9209994952044421), OrderedStatistic(items_base=frozenset({'White'}), items_add=frozenset({'Male', 'Article for use in theft', 'White - English/Welsh/Scottish/Northern Irish/British'}), confidence=0.39732142857142855, lift=1.4480158730158728), OrderedStatistic(items_base=frozenset({'White - English/Welsh/Scottish/Northern Irish/British'}), items_add=frozenset({'Male', 'White', 'Article for use in theft'}), confidence=0.689922480620155, lift=1.4143410852713179), OrderedStatistic(items_base=frozenset({'Male', 'Article for use in theft'}), items_add=frozenset({'White', 'White - English/Welsh/Scottish/Northern Irish/British'}), confidence=0.363265306122449, lift=0.9308673469387756), OrderedStatistic(items_base=frozenset({'White', 'Article for use in theft'}), items_add=frozenset({'Male', 'White - English/Welsh/Scottish/Northern Irish/British'}), confidence=0.46354166666666674, lift=1.490604575163399), OrderedStatistic(items_base=frozenset({'Article for use in theft', 'White - English/Welsh/Scottish/Northern Irish/British'}), items_add=frozenset({'Male', 'White'}), confidence=0.7876106194690267, lift=1.4116736786111515), OrderedStatistic(items_base=frozenset({'Male', 'White'}), items_add=frozenset({'Article for use in theft', 'White - English/Welsh/Scottish/Northern Irish/British'}), confidence=0.48633879781420764, lift=1.4116736786111515), OrderedStatistic(items_base=frozenset({'Male', 'White - English/Welsh/Scottish/Northern Irish/British'}), items_add=frozenset({'White', 'Article for use in theft'}), confidence=0.8725490196078433, lift=1.490604575163399), OrderedStatistic(items_base=frozenset({'White', 'White - English/Welsh/Scottish/Northern Irish/British'}), items_add=frozenset({'Male', 'Article for use in theft'}), confidence=0.6953125, lift=0.9308673469387755), OrderedStatistic(items_base=frozenset({'Male', 'White', 'Article for use in theft'}), items_add=frozenset({'White - English/Welsh/Scottish/Northern Irish/British'}), confidence=0.55625, lift=1.4143410852713179), OrderedStatistic(items_base=frozenset({'Male', 'Article for use in theft', 'White - English/Welsh/Scottish/Northern Irish/British'}), items_add=frozenset({'White'}), confidence=0.9888888888888889, lift=1.448015873015873), OrderedStatistic(items_base=frozenset({'White', 'Article for use in theft', 'White - English/Welsh/Scottish/Northern Irish/British'}), items_add=frozenset({'Male'}), confidence=0.7946428571428571, lift=0.9209994952044421), OrderedStatistic(items_base=frozenset({'Male', 'White', 'White - English/Welsh/Scottish/Northern Irish/British'}), items_add=frozenset({'Article for use in theft'}), confidence=0.8811881188118813, lift=1.02857545541031)]),\n",
              " RelationRecord(items=frozenset({'Male', 'White', 'Article for use in theft', 'over 34'}), support=0.2347560975609756, ordered_statistics=[OrderedStatistic(items_base=frozenset(), items_add=frozenset({'Male', 'White', 'Article for use in theft', 'over 34'}), confidence=0.2347560975609756, lift=1.0), OrderedStatistic(items_base=frozenset({'Article for use in theft'}), items_add=frozenset({'Male', 'White', 'over 34'}), confidence=0.27402135231316727, lift=1.0451046925432426), OrderedStatistic(items_base=frozenset({'Male'}), items_add=frozenset({'White', 'Article for use in theft', 'over 34'}), confidence=0.27208480565371024, lift=0.9200393428290409), OrderedStatistic(items_base=frozenset({'White'}), items_add=frozenset({'Male', 'Article for use in theft', 'over 34'}), confidence=0.34374999999999994, lift=1.1744791666666665), OrderedStatistic(items_base=frozenset({'over 34'}), items_add=frozenset({'Male', 'White', 'Article for use in theft'}), confidence=0.5703703703703704, lift=1.1692592592592594), OrderedStatistic(items_base=frozenset({'Male', 'Article for use in theft'}), items_add=frozenset({'White', 'over 34'}), confidence=0.3142857142857143, lift=0.9204081632653061), OrderedStatistic(items_base=frozenset({'White', 'Article for use in theft'}), items_add=frozenset({'Male', 'over 34'}), confidence=0.4010416666666667, lift=1.229361370716511), OrderedStatistic(items_base=frozenset({'Article for use in theft', 'over 34'}), items_add=frozenset({'Male', 'White'}), confidence=0.652542372881356, lift=1.1695841437436325), OrderedStatistic(items_base=frozenset({'Male', 'White'}), items_add=frozenset({'Article for use in theft', 'over 34'}), confidence=0.4207650273224043, lift=1.1695841437436323), OrderedStatistic(items_base=frozenset({'Male', 'over 34'}), items_add=frozenset({'White', 'Article for use in theft'}), confidence=0.719626168224299, lift=1.229361370716511), OrderedStatistic(items_base=frozenset({'White', 'over 34'}), items_add=frozenset({'Male', 'Article for use in theft'}), confidence=0.6874999999999999, lift=0.920408163265306), OrderedStatistic(items_base=frozenset({'Male', 'White', 'Article for use in theft'}), items_add=frozenset({'over 34'}), confidence=0.48124999999999996, lift=1.1692592592592592), OrderedStatistic(items_base=frozenset({'Male', 'Article for use in theft', 'over 34'}), items_add=frozenset({'White'}), confidence=0.8020833333333334, lift=1.1744791666666667), OrderedStatistic(items_base=frozenset({'White', 'Article for use in theft', 'over 34'}), items_add=frozenset({'Male'}), confidence=0.7938144329896907, lift=0.9200393428290408), OrderedStatistic(items_base=frozenset({'Male', 'White', 'over 34'}), items_add=frozenset({'Article for use in theft'}), confidence=0.8953488372093023, lift=1.0451046925432426)]),\n",
              " RelationRecord(items=frozenset({'Male', 'Article for use in theft', 'over 34', 'White - English/Welsh/Scottish/Northern Irish/British'}), support=0.12804878048780488, ordered_statistics=[OrderedStatistic(items_base=frozenset(), items_add=frozenset({'Male', 'Article for use in theft', 'over 34', 'White - English/Welsh/Scottish/Northern Irish/British'}), confidence=0.12804878048780488, lift=1.0), OrderedStatistic(items_base=frozenset({'Article for use in theft'}), items_add=frozenset({'Male', 'over 34', 'White - English/Welsh/Scottish/Northern Irish/British'}), confidence=0.14946619217081852, lift=1.06575893547888), OrderedStatistic(items_base=frozenset({'Male'}), items_add=frozenset({'Article for use in theft', 'over 34', 'White - English/Welsh/Scottish/Northern Irish/British'}), confidence=0.14840989399293286, lift=0.8540078110470524), OrderedStatistic(items_base=frozenset({'White - English/Welsh/Scottish/Northern Irish/British'}), items_add=frozenset({'Male', 'Article for use in theft', 'over 34'}), confidence=0.3255813953488372, lift=1.1124031007751938), OrderedStatistic(items_base=frozenset({'over 34'}), items_add=frozenset({'Male', 'Article for use in theft', 'White - English/Welsh/Scottish/Northern Irish/British'}), confidence=0.3111111111111111, lift=1.133827160493827), OrderedStatistic(items_base=frozenset({'Male', 'Article for use in theft'}), items_add=frozenset({'over 34', 'White - English/Welsh/Scottish/Northern Irish/British'}), confidence=0.17142857142857143, lift=0.8785714285714286), OrderedStatistic(items_base=frozenset({'Article for use in theft', 'White - English/Welsh/Scottish/Northern Irish/British'}), items_add=frozenset({'Male', 'over 34'}), confidence=0.37168141592920356, lift=1.1393598544371848), OrderedStatistic(items_base=frozenset({'Article for use in theft', 'over 34'}), items_add=frozenset({'Male', 'White - English/Welsh/Scottish/Northern Irish/British'}), confidence=0.3559322033898305, lift=1.1445663010967098), OrderedStatistic(items_base=frozenset({'Male', 'White - English/Welsh/Scottish/Northern Irish/British'}), items_add=frozenset({'Article for use in theft', 'over 34'}), confidence=0.411764705882353, lift=1.14456630109671), OrderedStatistic(items_base=frozenset({'Male', 'over 34'}), items_add=frozenset({'Article for use in theft', 'White - English/Welsh/Scottish/Northern Irish/British'}), confidence=0.3925233644859813, lift=1.1393598544371848), OrderedStatistic(items_base=frozenset({'over 34', 'White - English/Welsh/Scottish/Northern Irish/British'}), items_add=frozenset({'Male', 'Article for use in theft'}), confidence=0.65625, lift=0.8785714285714286), OrderedStatistic(items_base=frozenset({'Male', 'Article for use in theft', 'White - English/Welsh/Scottish/Northern Irish/British'}), items_add=frozenset({'over 34'}), confidence=0.4666666666666666, lift=1.133827160493827), OrderedStatistic(items_base=frozenset({'Male', 'Article for use in theft', 'over 34'}), items_add=frozenset({'White - English/Welsh/Scottish/Northern Irish/British'}), confidence=0.43750000000000006, lift=1.112403100775194), OrderedStatistic(items_base=frozenset({'Article for use in theft', 'over 34', 'White - English/Welsh/Scottish/Northern Irish/British'}), items_add=frozenset({'Male'}), confidence=0.736842105263158, lift=0.8540078110470524), OrderedStatistic(items_base=frozenset({'Male', 'over 34', 'White - English/Welsh/Scottish/Northern Irish/British'}), items_add=frozenset({'Article for use in theft'}), confidence=0.9130434782608695, lift=1.0657589354788797)]),\n",
              " RelationRecord(items=frozenset({'Other ethnic group - Not stated', 'White', 'Article for use in theft', 'over 34'}), support=0.10365853658536585, ordered_statistics=[OrderedStatistic(items_base=frozenset(), items_add=frozenset({'Other ethnic group - Not stated', 'White', 'Article for use in theft', 'over 34'}), confidence=0.10365853658536585, lift=1.0), OrderedStatistic(items_base=frozenset({'Article for use in theft'}), items_add=frozenset({'Other ethnic group - Not stated', 'White', 'over 34'}), confidence=0.12099644128113879, lift=0.9921708185053381), OrderedStatistic(items_base=frozenset({'Other ethnic group - Not stated'}), items_add=frozenset({'White', 'Article for use in theft', 'over 34'}), confidence=0.2615384615384615, lift=0.884377478191911), OrderedStatistic(items_base=frozenset({'White'}), items_add=frozenset({'Other ethnic group - Not stated', 'Article for use in theft', 'over 34'}), confidence=0.15178571428571427, lift=1.1314935064935063), OrderedStatistic(items_base=frozenset({'over 34'}), items_add=frozenset({'Other ethnic group - Not stated', 'White', 'Article for use in theft'}), confidence=0.2518518518518518, lift=1.251627384960718), OrderedStatistic(items_base=frozenset({'Other ethnic group - Not stated', 'Article for use in theft'}), items_add=frozenset({'White', 'over 34'}), confidence=0.3063063063063063, lift=0.897039897039897), OrderedStatistic(items_base=frozenset({'White', 'Article for use in theft'}), items_add=frozenset({'Other ethnic group - Not stated', 'over 34'}), confidence=0.17708333333333334, lift=1.138888888888889), OrderedStatistic(items_base=frozenset({'Article for use in theft', 'over 34'}), items_add=frozenset({'Other ethnic group - Not stated', 'White'}), confidence=0.288135593220339, lift=1.2116471099521948), OrderedStatistic(items_base=frozenset({'Other ethnic group - Not stated', 'White'}), items_add=frozenset({'Article for use in theft', 'over 34'}), confidence=0.4358974358974359, lift=1.2116471099521948), OrderedStatistic(items_base=frozenset({'Other ethnic group - Not stated', 'over 34'}), items_add=frozenset({'White', 'Article for use in theft'}), confidence=0.6666666666666666, lift=1.1388888888888888), OrderedStatistic(items_base=frozenset({'White', 'over 34'}), items_add=frozenset({'Other ethnic group - Not stated', 'Article for use in theft'}), confidence=0.30357142857142855, lift=0.897039897039897), OrderedStatistic(items_base=frozenset({'Other ethnic group - Not stated', 'White', 'Article for use in theft'}), items_add=frozenset({'over 34'}), confidence=0.5151515151515151, lift=1.2516273849607182), OrderedStatistic(items_base=frozenset({'Other ethnic group - Not stated', 'Article for use in theft', 'over 34'}), items_add=frozenset({'White'}), confidence=0.7727272727272726, lift=1.131493506493506), OrderedStatistic(items_base=frozenset({'White', 'Article for use in theft', 'over 34'}), items_add=frozenset({'Other ethnic group - Not stated'}), confidence=0.35051546391752575, lift=0.884377478191911), OrderedStatistic(items_base=frozenset({'Other ethnic group - Not stated', 'White', 'over 34'}), items_add=frozenset({'Article for use in theft'}), confidence=0.85, lift=0.9921708185053381)]),\n",
              " RelationRecord(items=frozenset({'White', 'Article for use in theft', 'over 34', 'White - English/Welsh/Scottish/Northern Irish/British'}), support=0.17073170731707318, ordered_statistics=[OrderedStatistic(items_base=frozenset(), items_add=frozenset({'White', 'Article for use in theft', 'over 34', 'White - English/Welsh/Scottish/Northern Irish/British'}), confidence=0.17073170731707318, lift=1.0), OrderedStatistic(items_base=frozenset({'Article for use in theft'}), items_add=frozenset({'White', 'over 34', 'White - English/Welsh/Scottish/Northern Irish/British'}), confidence=0.19928825622775803, lift=1.0375642546461052), OrderedStatistic(items_base=frozenset({'White'}), items_add=frozenset({'Article for use in theft', 'over 34', 'White - English/Welsh/Scottish/Northern Irish/British'}), confidence=0.25, lift=1.4385964912280702), OrderedStatistic(items_base=frozenset({'White - English/Welsh/Scottish/Northern Irish/British'}), items_add=frozenset({'White', 'Article for use in theft', 'over 34'}), confidence=0.43410852713178294, lift=1.4679133700951013), OrderedStatistic(items_base=frozenset({'over 34'}), items_add=frozenset({'White', 'Article for use in theft', 'White - English/Welsh/Scottish/Northern Irish/British'}), confidence=0.41481481481481486, lift=1.2148148148148148), OrderedStatistic(items_base=frozenset({'White', 'Article for use in theft'}), items_add=frozenset({'over 34', 'White - English/Welsh/Scottish/Northern Irish/British'}), confidence=0.2916666666666667, lift=1.4947916666666667), OrderedStatistic(items_base=frozenset({'Article for use in theft', 'White - English/Welsh/Scottish/Northern Irish/British'}), items_add=frozenset({'White', 'over 34'}), confidence=0.4955752212389381, lift=1.4513274336283186), OrderedStatistic(items_base=frozenset({'Article for use in theft', 'over 34'}), items_add=frozenset({'White', 'White - English/Welsh/Scottish/Northern Irish/British'}), confidence=0.47457627118644075, lift=1.2161016949152543), OrderedStatistic(items_base=frozenset({'White', 'White - English/Welsh/Scottish/Northern Irish/British'}), items_add=frozenset({'Article for use in theft', 'over 34'}), confidence=0.4375, lift=1.2161016949152543), OrderedStatistic(items_base=frozenset({'White', 'over 34'}), items_add=frozenset({'Article for use in theft', 'White - English/Welsh/Scottish/Northern Irish/British'}), confidence=0.5, lift=1.4513274336283186), OrderedStatistic(items_base=frozenset({'over 34', 'White - English/Welsh/Scottish/Northern Irish/British'}), items_add=frozenset({'White', 'Article for use in theft'}), confidence=0.875, lift=1.4947916666666667), OrderedStatistic(items_base=frozenset({'White', 'Article for use in theft', 'White - English/Welsh/Scottish/Northern Irish/British'}), items_add=frozenset({'over 34'}), confidence=0.5, lift=1.2148148148148148), OrderedStatistic(items_base=frozenset({'White', 'Article for use in theft', 'over 34'}), items_add=frozenset({'White - English/Welsh/Scottish/Northern Irish/British'}), confidence=0.577319587628866, lift=1.4679133700951013), OrderedStatistic(items_base=frozenset({'Article for use in theft', 'over 34', 'White - English/Welsh/Scottish/Northern Irish/British'}), items_add=frozenset({'White'}), confidence=0.9824561403508774, lift=1.4385964912280702), OrderedStatistic(items_base=frozenset({'White', 'over 34', 'White - English/Welsh/Scottish/Northern Irish/British'}), items_add=frozenset({'Article for use in theft'}), confidence=0.888888888888889, lift=1.0375642546461052)]),\n",
              " RelationRecord(items=frozenset({'White - English/Welsh/Scottish/Northern Irish/British', 'White', 'over 34', 'Female'}), support=0.054878048780487805, ordered_statistics=[OrderedStatistic(items_base=frozenset(), items_add=frozenset({'White - English/Welsh/Scottish/Northern Irish/British', 'White', 'over 34', 'Female'}), confidence=0.054878048780487805, lift=1.0), OrderedStatistic(items_base=frozenset({'Female'}), items_add=frozenset({'White', 'over 34', 'White - English/Welsh/Scottish/Northern Irish/British'}), confidence=0.40909090909090906, lift=2.1298701298701297), OrderedStatistic(items_base=frozenset({'White'}), items_add=frozenset({'Female', 'over 34', 'White - English/Welsh/Scottish/Northern Irish/British'}), confidence=0.08035714285714285, lift=1.4642857142857142), OrderedStatistic(items_base=frozenset({'White - English/Welsh/Scottish/Northern Irish/British'}), items_add=frozenset({'White', 'over 34', 'Female'}), confidence=0.13953488372093023, lift=1.7602862254025045), OrderedStatistic(items_base=frozenset({'over 34'}), items_add=frozenset({'Female', 'White', 'White - English/Welsh/Scottish/Northern Irish/British'}), confidence=0.13333333333333333, lift=1.619753086419753), OrderedStatistic(items_base=frozenset({'White', 'Female'}), items_add=frozenset({'over 34', 'White - English/Welsh/Scottish/Northern Irish/British'}), confidence=0.43902439024390244, lift=2.25), OrderedStatistic(items_base=frozenset({'White - English/Welsh/Scottish/Northern Irish/British', 'Female'}), items_add=frozenset({'White', 'over 34'}), confidence=0.6666666666666666, lift=1.952380952380952), OrderedStatistic(items_base=frozenset({'over 34', 'Female'}), items_add=frozenset({'White', 'White - English/Welsh/Scottish/Northern Irish/British'}), confidence=0.6666666666666666, lift=1.7083333333333333), OrderedStatistic(items_base=frozenset({'White', 'White - English/Welsh/Scottish/Northern Irish/British'}), items_add=frozenset({'over 34', 'Female'}), confidence=0.140625, lift=1.7083333333333333), OrderedStatistic(items_base=frozenset({'White', 'over 34'}), items_add=frozenset({'Female', 'White - English/Welsh/Scottish/Northern Irish/British'}), confidence=0.1607142857142857, lift=1.952380952380952), OrderedStatistic(items_base=frozenset({'over 34', 'White - English/Welsh/Scottish/Northern Irish/British'}), items_add=frozenset({'White', 'Female'}), confidence=0.28125, lift=2.25), OrderedStatistic(items_base=frozenset({'White - English/Welsh/Scottish/Northern Irish/British', 'White', 'Female'}), items_add=frozenset({'over 34'}), confidence=0.6666666666666666, lift=1.6197530864197531), OrderedStatistic(items_base=frozenset({'White', 'over 34', 'Female'}), items_add=frozenset({'White - English/Welsh/Scottish/Northern Irish/British'}), confidence=0.6923076923076923, lift=1.7602862254025045), OrderedStatistic(items_base=frozenset({'White - English/Welsh/Scottish/Northern Irish/British', 'over 34', 'Female'}), items_add=frozenset({'White'}), confidence=1.0, lift=1.4642857142857142), OrderedStatistic(items_base=frozenset({'White', 'over 34', 'White - English/Welsh/Scottish/Northern Irish/British'}), items_add=frozenset({'Female'}), confidence=0.2857142857142857, lift=2.1298701298701297)]),\n",
              " RelationRecord(items=frozenset({'Male', 'White', 'over 34', 'Other ethnic group - Not stated'}), support=0.10060975609756098, ordered_statistics=[OrderedStatistic(items_base=frozenset(), items_add=frozenset({'Male', 'White', 'over 34', 'Other ethnic group - Not stated'}), confidence=0.10060975609756098, lift=1.0), OrderedStatistic(items_base=frozenset({'Male'}), items_add=frozenset({'Other ethnic group - Not stated', 'White', 'over 34'}), confidence=0.11660777385159012, lift=0.956183745583039), OrderedStatistic(items_base=frozenset({'Other ethnic group - Not stated'}), items_add=frozenset({'Male', 'White', 'over 34'}), confidence=0.25384615384615383, lift=0.9681574239713774), OrderedStatistic(items_base=frozenset({'White'}), items_add=frozenset({'Male', 'over 34', 'Other ethnic group - Not stated'}), confidence=0.14732142857142858, lift=1.1237541528239203), OrderedStatistic(items_base=frozenset({'over 34'}), items_add=frozenset({'Male', 'White', 'Other ethnic group - Not stated'}), confidence=0.24444444444444446, lift=1.196683250414594), OrderedStatistic(items_base=frozenset({'Male', 'Other ethnic group - Not stated'}), items_add=frozenset({'White', 'over 34'}), confidence=0.2820512820512821, lift=0.8260073260073261), OrderedStatistic(items_base=frozenset({'Male', 'White'}), items_add=frozenset({'Other ethnic group - Not stated', 'over 34'}), confidence=0.18032786885245902, lift=1.159755705560913), OrderedStatistic(items_base=frozenset({'Male', 'over 34'}), items_add=frozenset({'Other ethnic group - Not stated', 'White'}), confidence=0.30841121495327106, lift=1.2969086987778577), OrderedStatistic(items_base=frozenset({'Other ethnic group - Not stated', 'White'}), items_add=frozenset({'Male', 'over 34'}), confidence=0.42307692307692313, lift=1.2969086987778577), OrderedStatistic(items_base=frozenset({'Other ethnic group - Not stated', 'over 34'}), items_add=frozenset({'Male', 'White'}), confidence=0.6470588235294118, lift=1.159755705560913), OrderedStatistic(items_base=frozenset({'White', 'over 34'}), items_add=frozenset({'Male', 'Other ethnic group - Not stated'}), confidence=0.29464285714285715, lift=0.8260073260073261), OrderedStatistic(items_base=frozenset({'Male', 'White', 'Other ethnic group - Not stated'}), items_add=frozenset({'over 34'}), confidence=0.49253731343283585, lift=1.196683250414594), OrderedStatistic(items_base=frozenset({'Male', 'over 34', 'Other ethnic group - Not stated'}), items_add=frozenset({'White'}), confidence=0.7674418604651163, lift=1.1237541528239203), OrderedStatistic(items_base=frozenset({'Male', 'White', 'over 34'}), items_add=frozenset({'Other ethnic group - Not stated'}), confidence=0.38372093023255816, lift=0.9681574239713775), OrderedStatistic(items_base=frozenset({'Other ethnic group - Not stated', 'White', 'over 34'}), items_add=frozenset({'Male'}), confidence=0.8250000000000001, lift=0.956183745583039)]),\n",
              " RelationRecord(items=frozenset({'Male', 'White', 'over 34', 'White - English/Welsh/Scottish/Northern Irish/British'}), support=0.13719512195121952, ordered_statistics=[OrderedStatistic(items_base=frozenset(), items_add=frozenset({'Male', 'White', 'over 34', 'White - English/Welsh/Scottish/Northern Irish/British'}), confidence=0.13719512195121952, lift=1.0), OrderedStatistic(items_base=frozenset({'Male'}), items_add=frozenset({'White', 'over 34', 'White - English/Welsh/Scottish/Northern Irish/British'}), confidence=0.1590106007067138, lift=0.8278647147905099), OrderedStatistic(items_base=frozenset({'White'}), items_add=frozenset({'Male', 'over 34', 'White - English/Welsh/Scottish/Northern Irish/British'}), confidence=0.20089285714285715, lift=1.4324534161490683), OrderedStatistic(items_base=frozenset({'White - English/Welsh/Scottish/Northern Irish/British'}), items_add=frozenset({'Male', 'White', 'over 34'}), confidence=0.3488372093023256, lift=1.3304488912925905), OrderedStatistic(items_base=frozenset({'over 34'}), items_add=frozenset({'Male', 'White', 'White - English/Welsh/Scottish/Northern Irish/British'}), confidence=0.33333333333333337, lift=1.0825082508250827), OrderedStatistic(items_base=frozenset({'Male', 'White'}), items_add=frozenset({'over 34', 'White - English/Welsh/Scottish/Northern Irish/British'}), confidence=0.2459016393442623, lift=1.2602459016393441), OrderedStatistic(items_base=frozenset({'Male', 'White - English/Welsh/Scottish/Northern Irish/British'}), items_add=frozenset({'White', 'over 34'}), confidence=0.44117647058823534, lift=1.2920168067226891), OrderedStatistic(items_base=frozenset({'Male', 'over 34'}), items_add=frozenset({'White', 'White - English/Welsh/Scottish/Northern Irish/British'}), confidence=0.4205607476635514, lift=1.0776869158878504), OrderedStatistic(items_base=frozenset({'White', 'White - English/Welsh/Scottish/Northern Irish/British'}), items_add=frozenset({'Male', 'over 34'}), confidence=0.3515625, lift=1.0776869158878504), OrderedStatistic(items_base=frozenset({'White', 'over 34'}), items_add=frozenset({'Male', 'White - English/Welsh/Scottish/Northern Irish/British'}), confidence=0.4017857142857143, lift=1.2920168067226891), OrderedStatistic(items_base=frozenset({'over 34', 'White - English/Welsh/Scottish/Northern Irish/British'}), items_add=frozenset({'Male', 'White'}), confidence=0.703125, lift=1.2602459016393441), OrderedStatistic(items_base=frozenset({'Male', 'White', 'White - English/Welsh/Scottish/Northern Irish/British'}), items_add=frozenset({'over 34'}), confidence=0.4455445544554456, lift=1.0825082508250827), OrderedStatistic(items_base=frozenset({'Male', 'White', 'over 34'}), items_add=frozenset({'White - English/Welsh/Scottish/Northern Irish/British'}), confidence=0.5232558139534884, lift=1.3304488912925907), OrderedStatistic(items_base=frozenset({'Male', 'over 34', 'White - English/Welsh/Scottish/Northern Irish/British'}), items_add=frozenset({'White'}), confidence=0.9782608695652174, lift=1.4324534161490683), OrderedStatistic(items_base=frozenset({'White', 'over 34', 'White - English/Welsh/Scottish/Northern Irish/British'}), items_add=frozenset({'Male'}), confidence=0.7142857142857143, lift=0.8278647147905098)]),\n",
              " RelationRecord(items=frozenset({'White', '10-17', 'Article for use in theft', 'Male', 'White - English/Welsh/Scottish/Northern Irish/British'}), support=0.054878048780487805, ordered_statistics=[OrderedStatistic(items_base=frozenset(), items_add=frozenset({'Male', 'White', '10-17', 'Article for use in theft', 'White - English/Welsh/Scottish/Northern Irish/British'}), confidence=0.054878048780487805, lift=1.0), OrderedStatistic(items_base=frozenset({'10-17'}), items_add=frozenset({'Male', 'White', 'Article for use in theft', 'White - English/Welsh/Scottish/Northern Irish/British'}), confidence=0.2727272727272727, lift=1.0051072522982634), OrderedStatistic(items_base=frozenset({'Article for use in theft'}), items_add=frozenset({'Male', 'White', '10-17', 'White - English/Welsh/Scottish/Northern Irish/British'}), confidence=0.06405693950177936, lift=1.0005083884087442), OrderedStatistic(items_base=frozenset({'Male'}), items_add=frozenset({'White', 'Article for use in theft', '10-17', 'White - English/Welsh/Scottish/Northern Irish/British'}), confidence=0.06360424028268552, lift=1.0980100427747816), OrderedStatistic(items_base=frozenset({'White'}), items_add=frozenset({'Male', 'Article for use in theft', '10-17', 'White - English/Welsh/Scottish/Northern Irish/British'}), confidence=0.08035714285714285, lift=1.4642857142857142), OrderedStatistic(items_base=frozenset({'White - English/Welsh/Scottish/Northern Irish/British'}), items_add=frozenset({'Male', 'White', 'Article for use in theft', '10-17'}), confidence=0.13953488372093023, lift=1.5255813953488373), OrderedStatistic(items_base=frozenset({'Article for use in theft', '10-17'}), items_add=frozenset({'Male', 'White', 'White - English/Welsh/Scottish/Northern Irish/British'}), confidence=0.33962264150943394, lift=1.1029329348029142), OrderedStatistic(items_base=frozenset({'Male', '10-17'}), items_add=frozenset({'White', 'Article for use in theft', 'White - English/Welsh/Scottish/Northern Irish/British'}), confidence=0.2769230769230769, lift=0.8109890109890108), OrderedStatistic(items_base=frozenset({'White', '10-17'}), items_add=frozenset({'Male', 'Article for use in theft', 'White - English/Welsh/Scottish/Northern Irish/British'}), confidence=0.47368421052631576, lift=1.726315789473684), OrderedStatistic(items_base=frozenset({'10-17', 'White - English/Welsh/Scottish/Northern Irish/British'}), items_add=frozenset({'Male', 'White', 'Article for use in theft'}), confidence=0.8181818181818181, lift=1.6772727272727272), OrderedStatistic(items_base=frozenset({'Male', 'Article for use in theft'}), items_add=frozenset({'White', '10-17', 'White - English/Welsh/Scottish/Northern Irish/British'}), confidence=0.07346938775510205, lift=1.0953617810760667), OrderedStatistic(items_base=frozenset({'White', 'Article for use in theft'}), items_add=frozenset({'Male', '10-17', 'White - English/Welsh/Scottish/Northern Irish/British'}), confidence=0.09375, lift=1.4642857142857142), OrderedStatistic(items_base=frozenset({'Article for use in theft', 'White - English/Welsh/Scottish/Northern Irish/British'}), items_add=frozenset({'Male', 'White', '10-17'}), confidence=0.15929203539823011, lift=1.4121023678545805), OrderedStatistic(items_base=frozenset({'Male', 'White'}), items_add=frozenset({'Article for use in theft', '10-17', 'White - English/Welsh/Scottish/Northern Irish/British'}), confidence=0.0983606557377049, lift=1.698015530629853), OrderedStatistic(items_base=frozenset({'Male', 'White - English/Welsh/Scottish/Northern Irish/British'}), items_add=frozenset({'White', 'Article for use in theft', '10-17'}), confidence=0.17647058823529413, lift=1.8671726755218216), OrderedStatistic(items_base=frozenset({'White', 'White - English/Welsh/Scottish/Northern Irish/British'}), items_add=frozenset({'Male', 'Article for use in theft', '10-17'}), confidence=0.140625, lift=0.8870192307692307), OrderedStatistic(items_base=frozenset({'Male', 'Article for use in theft', '10-17'}), items_add=frozenset({'White', 'White - English/Welsh/Scottish/Northern Irish/British'}), confidence=0.34615384615384615, lift=0.8870192307692307), OrderedStatistic(items_base=frozenset({'White', 'Article for use in theft', '10-17'}), items_add=frozenset({'Male', 'White - English/Welsh/Scottish/Northern Irish/British'}), confidence=0.5806451612903226, lift=1.8671726755218219), OrderedStatistic(items_base=frozenset({'Article for use in theft', '10-17', 'White - English/Welsh/Scottish/Northern Irish/British'}), items_add=frozenset({'Male', 'White'}), confidence=0.9473684210526315, lift=1.698015530629853), OrderedStatistic(items_base=frozenset({'Male', 'White', '10-17'}), items_add=frozenset({'Article for use in theft', 'White - English/Welsh/Scottish/Northern Irish/British'}), confidence=0.48648648648648646, lift=1.4121023678545803), OrderedStatistic(items_base=frozenset({'Male', '10-17', 'White - English/Welsh/Scottish/Northern Irish/British'}), items_add=frozenset({'White', 'Article for use in theft'}), confidence=0.8571428571428571, lift=1.4642857142857142), OrderedStatistic(items_base=frozenset({'White', '10-17', 'White - English/Welsh/Scottish/Northern Irish/British'}), items_add=frozenset({'Male', 'Article for use in theft'}), confidence=0.8181818181818181, lift=1.0953617810760667), OrderedStatistic(items_base=frozenset({'Male', 'White', 'Article for use in theft'}), items_add=frozenset({'10-17', 'White - English/Welsh/Scottish/Northern Irish/British'}), confidence=0.1125, lift=1.6772727272727272), OrderedStatistic(items_base=frozenset({'Male', 'Article for use in theft', 'White - English/Welsh/Scottish/Northern Irish/British'}), items_add=frozenset({'White', '10-17'}), confidence=0.19999999999999998, lift=1.726315789473684), OrderedStatistic(items_base=frozenset({'White', 'Article for use in theft', 'White - English/Welsh/Scottish/Northern Irish/British'}), items_add=frozenset({'Male', '10-17'}), confidence=0.1607142857142857, lift=0.8109890109890109), OrderedStatistic(items_base=frozenset({'Male', 'White', 'White - English/Welsh/Scottish/Northern Irish/British'}), items_add=frozenset({'Article for use in theft', '10-17'}), confidence=0.1782178217821782, lift=1.1029329348029142), OrderedStatistic(items_base=frozenset({'Male', 'White', 'Article for use in theft', '10-17'}), items_add=frozenset({'White - English/Welsh/Scottish/Northern Irish/British'}), confidence=0.6, lift=1.525581395348837), OrderedStatistic(items_base=frozenset({'Male', 'Article for use in theft', '10-17', 'White - English/Welsh/Scottish/Northern Irish/British'}), items_add=frozenset({'White'}), confidence=1.0, lift=1.4642857142857142), OrderedStatistic(items_base=frozenset({'White', 'Article for use in theft', '10-17', 'White - English/Welsh/Scottish/Northern Irish/British'}), items_add=frozenset({'Male'}), confidence=0.9473684210526315, lift=1.0980100427747814), OrderedStatistic(items_base=frozenset({'Male', 'White', '10-17', 'White - English/Welsh/Scottish/Northern Irish/British'}), items_add=frozenset({'Article for use in theft'}), confidence=0.8571428571428571, lift=1.0005083884087442), OrderedStatistic(items_base=frozenset({'Male', 'White', 'Article for use in theft', 'White - English/Welsh/Scottish/Northern Irish/British'}), items_add=frozenset({'10-17'}), confidence=0.20224719101123595, lift=1.0051072522982634)]),\n",
              " RelationRecord(items=frozenset({'Other ethnic group - Not stated', 'White', 'over 34', 'Article for use in theft', 'Male'}), support=0.08841463414634146, ordered_statistics=[OrderedStatistic(items_base=frozenset(), items_add=frozenset({'Other ethnic group - Not stated', 'Male', 'White', 'over 34', 'Article for use in theft'}), confidence=0.08841463414634146, lift=1.0), OrderedStatistic(items_base=frozenset({'Article for use in theft'}), items_add=frozenset({'Other ethnic group - Not stated', 'Male', 'White', 'over 34'}), confidence=0.10320284697508897, lift=1.0257737517523995), OrderedStatistic(items_base=frozenset({'Male'}), items_add=frozenset({'Other ethnic group - Not stated', 'White', 'Article for use in theft', 'over 34'}), confidence=0.10247349823321554, lift=0.9885678653086676), OrderedStatistic(items_base=frozenset({'Other ethnic group - Not stated'}), items_add=frozenset({'Male', 'White', 'Article for use in theft', 'over 34'}), confidence=0.22307692307692306, lift=0.9502497502497502), OrderedStatistic(items_base=frozenset({'White'}), items_add=frozenset({'Other ethnic group - Not stated', 'Male', 'Article for use in theft', 'over 34'}), confidence=0.1294642857142857, lift=1.1174812030075185), OrderedStatistic(items_base=frozenset({'over 34'}), items_add=frozenset({'Other ethnic group - Not stated', 'Male', 'White', 'Article for use in theft'}), confidence=0.21481481481481482, lift=1.214814814814815), OrderedStatistic(items_base=frozenset({'Male', 'Article for use in theft'}), items_add=frozenset({'Other ethnic group - Not stated', 'White', 'over 34'}), confidence=0.1183673469387755, lift=0.9706122448979592), OrderedStatistic(items_base=frozenset({'Other ethnic group - Not stated', 'Article for use in theft'}), items_add=frozenset({'Male', 'White', 'over 34'}), confidence=0.2612612612612612, lift=0.9964382987638799), OrderedStatistic(items_base=frozenset({'White', 'Article for use in theft'}), items_add=frozenset({'Other ethnic group - Not stated', 'Male', 'over 34'}), confidence=0.15104166666666666, lift=1.1521317829457363), OrderedStatistic(items_base=frozenset({'Article for use in theft', 'over 34'}), items_add=frozenset({'Other ethnic group - Not stated', 'Male', 'White'}), confidence=0.24576271186440676, lift=1.203136858082469), OrderedStatistic(items_base=frozenset({'Male', 'Other ethnic group - Not stated'}), items_add=frozenset({'White', 'Article for use in theft', 'over 34'}), confidence=0.24786324786324787, lift=0.8381355185478897), OrderedStatistic(items_base=frozenset({'Male', 'White'}), items_add=frozenset({'Other ethnic group - Not stated', 'Article for use in theft', 'over 34'}), confidence=0.15846994535519124, lift=1.1813214108296073), OrderedStatistic(items_base=frozenset({'Male', 'over 34'}), items_add=frozenset({'Other ethnic group - Not stated', 'White', 'Article for use in theft'}), confidence=0.27102803738317754, lift=1.3469272160860943), OrderedStatistic(items_base=frozenset({'Other ethnic group - Not stated', 'White'}), items_add=frozenset({'Male', 'Article for use in theft', 'over 34'}), confidence=0.3717948717948718, lift=1.2702991452991454), OrderedStatistic(items_base=frozenset({'Other ethnic group - Not stated', 'over 34'}), items_add=frozenset({'Male', 'White', 'Article for use in theft'}), confidence=0.5686274509803921, lift=1.165686274509804), OrderedStatistic(items_base=frozenset({'White', 'over 34'}), items_add=frozenset({'Other ethnic group - Not stated', 'Male', 'Article for use in theft'}), confidence=0.2589285714285714, lift=0.8408769448373408), OrderedStatistic(items_base=frozenset({'Male', 'Article for use in theft', 'Other ethnic group - Not stated'}), items_add=frozenset({'White', 'over 34'}), confidence=0.2871287128712871, lift=0.8408769448373408), OrderedStatistic(items_base=frozenset({'Male', 'White', 'Article for use in theft'}), items_add=frozenset({'Other ethnic group - Not stated', 'over 34'}), confidence=0.18125, lift=1.165686274509804), OrderedStatistic(items_base=frozenset({'Male', 'Article for use in theft', 'over 34'}), items_add=frozenset({'Other ethnic group - Not stated', 'White'}), confidence=0.3020833333333333, lift=1.2702991452991452), OrderedStatistic(items_base=frozenset({'Other ethnic group - Not stated', 'White', 'Article for use in theft'}), items_add=frozenset({'Male', 'over 34'}), confidence=0.43939393939393934, lift=1.3469272160860943), OrderedStatistic(items_base=frozenset({'Other ethnic group - Not stated', 'Article for use in theft', 'over 34'}), items_add=frozenset({'Male', 'White'}), confidence=0.6590909090909091, lift=1.1813214108296073), OrderedStatistic(items_base=frozenset({'White', 'Article for use in theft', 'over 34'}), items_add=frozenset({'Other ethnic group - Not stated', 'Male'}), confidence=0.29896907216494845, lift=0.8381355185478897), OrderedStatistic(items_base=frozenset({'Male', 'White', 'Other ethnic group - Not stated'}), items_add=frozenset({'Article for use in theft', 'over 34'}), confidence=0.4328358208955224, lift=1.203136858082469), OrderedStatistic(items_base=frozenset({'Male', 'over 34', 'Other ethnic group - Not stated'}), items_add=frozenset({'White', 'Article for use in theft'}), confidence=0.6744186046511628, lift=1.1521317829457365), OrderedStatistic(items_base=frozenset({'Male', 'White', 'over 34'}), items_add=frozenset({'Other ethnic group - Not stated', 'Article for use in theft'}), confidence=0.3372093023255814, lift=0.99643829876388), OrderedStatistic(items_base=frozenset({'Other ethnic group - Not stated', 'White', 'over 34'}), items_add=frozenset({'Male', 'Article for use in theft'}), confidence=0.725, lift=0.9706122448979592), OrderedStatistic(items_base=frozenset({'Male', 'White', 'Article for use in theft', 'Other ethnic group - Not stated'}), items_add=frozenset({'over 34'}), confidence=0.5, lift=1.2148148148148148), OrderedStatistic(items_base=frozenset({'Male', 'Article for use in theft', 'over 34', 'Other ethnic group - Not stated'}), items_add=frozenset({'White'}), confidence=0.763157894736842, lift=1.1174812030075185), OrderedStatistic(items_base=frozenset({'Male', 'White', 'Article for use in theft', 'over 34'}), items_add=frozenset({'Other ethnic group - Not stated'}), confidence=0.37662337662337664, lift=0.9502497502497502), OrderedStatistic(items_base=frozenset({'Other ethnic group - Not stated', 'White', 'Article for use in theft', 'over 34'}), items_add=frozenset({'Male'}), confidence=0.8529411764705882, lift=0.9885678653086676), OrderedStatistic(items_base=frozenset({'Male', 'White', 'over 34', 'Other ethnic group - Not stated'}), items_add=frozenset({'Article for use in theft'}), confidence=0.8787878787878787, lift=1.0257737517523993)]),\n",
              " RelationRecord(items=frozenset({'White', 'over 34', 'Article for use in theft', 'Male', 'White - English/Welsh/Scottish/Northern Irish/British'}), support=0.125, ordered_statistics=[OrderedStatistic(items_base=frozenset(), items_add=frozenset({'Male', 'White', 'over 34', 'Article for use in theft', 'White - English/Welsh/Scottish/Northern Irish/British'}), confidence=0.125, lift=1.0), OrderedStatistic(items_base=frozenset({'Article for use in theft'}), items_add=frozenset({'Male', 'White', 'over 34', 'White - English/Welsh/Scottish/Northern Irish/British'}), confidence=0.14590747330960854, lift=1.0635033610122577), OrderedStatistic(items_base=frozenset({'Male'}), items_add=frozenset({'White', 'Article for use in theft', 'over 34', 'White - English/Welsh/Scottish/Northern Irish/British'}), confidence=0.14487632508833923, lift=0.8485613326602726), OrderedStatistic(items_base=frozenset({'White'}), items_add=frozenset({'Male', 'Article for use in theft', 'over 34', 'White - English/Welsh/Scottish/Northern Irish/British'}), confidence=0.18303571428571427, lift=1.4294217687074828), OrderedStatistic(items_base=frozenset({'White - English/Welsh/Scottish/Northern Irish/British'}), items_add=frozenset({'Male', 'White', 'Article for use in theft', 'over 34'}), confidence=0.3178294573643411, lift=1.3538709352662843), OrderedStatistic(items_base=frozenset({'over 34'}), items_add=frozenset({'Male', 'White', 'Article for use in theft', 'White - English/Welsh/Scottish/Northern Irish/British'}), confidence=0.3037037037037037, lift=1.1192675821889304), OrderedStatistic(items_base=frozenset({'Male', 'Article for use in theft'}), items_add=frozenset({'White', 'over 34', 'White - English/Welsh/Scottish/Northern Irish/British'}), confidence=0.1673469387755102, lift=0.8712666018788467), OrderedStatistic(items_base=frozenset({'White', 'Article for use in theft'}), items_add=frozenset({'Male', 'over 34', 'White - English/Welsh/Scottish/Northern Irish/British'}), confidence=0.21354166666666669, lift=1.522644927536232), OrderedStatistic(items_base=frozenset({'Article for use in theft', 'White - English/Welsh/Scottish/Northern Irish/British'}), items_add=frozenset({'Male', 'White', 'over 34'}), confidence=0.36283185840707965, lift=1.3838238320642107), OrderedStatistic(items_base=frozenset({'Article for use in theft', 'over 34'}), items_add=frozenset({'Male', 'White', 'White - English/Welsh/Scottish/Northern Irish/British'}), confidence=0.3474576271186441, lift=1.1283772445041116), OrderedStatistic(items_base=frozenset({'Male', 'White'}), items_add=frozenset({'Article for use in theft', 'over 34', 'White - English/Welsh/Scottish/Northern Irish/British'}), confidence=0.2240437158469945, lift=1.2892340139967404), OrderedStatistic(items_base=frozenset({'Male', 'White - English/Welsh/Scottish/Northern Irish/British'}), items_add=frozenset({'White', 'Article for use in theft', 'over 34'}), confidence=0.4019607843137255, lift=1.3592076005659997), OrderedStatistic(items_base=frozenset({'Male', 'over 34'}), items_add=frozenset({'White', 'Article for use in theft', 'White - English/Welsh/Scottish/Northern Irish/British'}), confidence=0.38317757009345793, lift=1.1221628838451267), OrderedStatistic(items_base=frozenset({'White', 'White - English/Welsh/Scottish/Northern Irish/British'}), items_add=frozenset({'Male', 'Article for use in theft', 'over 34'}), confidence=0.3203125, lift=1.0944010416666667), OrderedStatistic(items_base=frozenset({'White', 'over 34'}), items_add=frozenset({'Male', 'Article for use in theft', 'White - English/Welsh/Scottish/Northern Irish/British'}), confidence=0.36607142857142855, lift=1.3341269841269838), OrderedStatistic(items_base=frozenset({'over 34', 'White - English/Welsh/Scottish/Northern Irish/British'}), items_add=frozenset({'Male', 'White', 'Article for use in theft'}), confidence=0.640625, lift=1.31328125), OrderedStatistic(items_base=frozenset({'Male', 'White', 'Article for use in theft'}), items_add=frozenset({'over 34', 'White - English/Welsh/Scottish/Northern Irish/British'}), confidence=0.25625000000000003, lift=1.3132812500000002), OrderedStatistic(items_base=frozenset({'Male', 'Article for use in theft', 'White - English/Welsh/Scottish/Northern Irish/British'}), items_add=frozenset({'White', 'over 34'}), confidence=0.45555555555555555, lift=1.334126984126984), OrderedStatistic(items_base=frozenset({'Male', 'Article for use in theft', 'over 34'}), items_add=frozenset({'White', 'White - English/Welsh/Scottish/Northern Irish/British'}), confidence=0.42708333333333337, lift=1.0944010416666667), OrderedStatistic(items_base=frozenset({'White', 'Article for use in theft', 'White - English/Welsh/Scottish/Northern Irish/British'}), items_add=frozenset({'Male', 'over 34'}), confidence=0.36607142857142855, lift=1.1221628838451267), OrderedStatistic(items_base=frozenset({'White', 'Article for use in theft', 'over 34'}), items_add=frozenset({'Male', 'White - English/Welsh/Scottish/Northern Irish/British'}), confidence=0.422680412371134, lift=1.3592076005659997), OrderedStatistic(items_base=frozenset({'Article for use in theft', 'over 34', 'White - English/Welsh/Scottish/Northern Irish/British'}), items_add=frozenset({'Male', 'White'}), confidence=0.7192982456140351, lift=1.2892340139967404), OrderedStatistic(items_base=frozenset({'Male', 'White', 'White - English/Welsh/Scottish/Northern Irish/British'}), items_add=frozenset({'Article for use in theft', 'over 34'}), confidence=0.40594059405940597, lift=1.1283772445041116), OrderedStatistic(items_base=frozenset({'Male', 'White', 'over 34'}), items_add=frozenset({'Article for use in theft', 'White - English/Welsh/Scottish/Northern Irish/British'}), confidence=0.4767441860465116, lift=1.3838238320642107), OrderedStatistic(items_base=frozenset({'Male', 'over 34', 'White - English/Welsh/Scottish/Northern Irish/British'}), items_add=frozenset({'White', 'Article for use in theft'}), confidence=0.8913043478260869, lift=1.522644927536232), OrderedStatistic(items_base=frozenset({'White', 'over 34', 'White - English/Welsh/Scottish/Northern Irish/British'}), items_add=frozenset({'Male', 'Article for use in theft'}), confidence=0.6507936507936508, lift=0.8712666018788469), OrderedStatistic(items_base=frozenset({'Male', 'White', 'Article for use in theft', 'White - English/Welsh/Scottish/Northern Irish/British'}), items_add=frozenset({'over 34'}), confidence=0.46067415730337075, lift=1.1192675821889304), OrderedStatistic(items_base=frozenset({'Male', 'White', 'Article for use in theft', 'over 34'}), items_add=frozenset({'White - English/Welsh/Scottish/Northern Irish/British'}), confidence=0.5324675324675325, lift=1.3538709352662843), OrderedStatistic(items_base=frozenset({'Male', 'Article for use in theft', 'over 34', 'White - English/Welsh/Scottish/Northern Irish/British'}), items_add=frozenset({'White'}), confidence=0.9761904761904762, lift=1.4294217687074828), OrderedStatistic(items_base=frozenset({'White', 'Article for use in theft', 'over 34', 'White - English/Welsh/Scottish/Northern Irish/British'}), items_add=frozenset({'Male'}), confidence=0.7321428571428571, lift=0.8485613326602726), OrderedStatistic(items_base=frozenset({'Male', 'White', 'over 34', 'White - English/Welsh/Scottish/Northern Irish/British'}), items_add=frozenset({'Article for use in theft'}), confidence=0.9111111111111111, lift=1.0635033610122577)])]"
            ]
          },
          "metadata": {},
          "execution_count": 100
        }
      ]
    },
    {
      "cell_type": "code",
      "source": [
        "list_apri = list(apriori(data_transaction['LOI'], min_support=0.05))"
      ],
      "metadata": {
        "id": "h1lkcpGOE5yC"
      },
      "execution_count": 99,
      "outputs": []
    },
    {
      "cell_type": "code",
      "source": [
        "list_apri[:5]"
      ],
      "metadata": {
        "id": "cp85Zwr6FAWW"
      },
      "execution_count": null,
      "outputs": []
    },
    {
      "cell_type": "code",
      "source": [
        "list_apri[-1][1]"
      ],
      "metadata": {
        "colab": {
          "base_uri": "https://localhost:8080/"
        },
        "id": "NjfYSzQdG2vp",
        "outputId": "cd904f4e-9315-44fa-d6b0-d917f2ab75cb"
      },
      "execution_count": 101,
      "outputs": [
        {
          "output_type": "execute_result",
          "data": {
            "text/plain": [
              "0.125"
            ]
          },
          "metadata": {},
          "execution_count": 101
        }
      ]
    },
    {
      "cell_type": "code",
      "source": [],
      "metadata": {
        "id": "A_QAC1NkG7xe"
      },
      "execution_count": null,
      "outputs": []
    },
    {
      "cell_type": "markdown",
      "source": [
        "ว่าหาตำรวจ black มีความสัมพันธ์กับอะไรบ้าง"
      ],
      "metadata": {
        "id": "E-0igEDTGHCF"
      }
    },
    {
      "cell_type": "code",
      "source": [
        "police_back = list()\n",
        "for result in list_apri:\n",
        "  if 'Black' in result[0]:\n",
        "    police_back.append(result)"
      ],
      "metadata": {
        "id": "o72dRc30GN_P"
      },
      "execution_count": null,
      "outputs": []
    },
    {
      "cell_type": "code",
      "source": [],
      "metadata": {
        "id": "GU9kJdJWKKsc"
      },
      "execution_count": null,
      "outputs": []
    },
    {
      "cell_type": "code",
      "source": [
        "len(police_back)"
      ],
      "metadata": {
        "id": "csw2ScmiHE-i"
      },
      "execution_count": null,
      "outputs": []
    },
    {
      "cell_type": "code",
      "source": [
        "for rule in police_back:\n",
        "  print(rule)"
      ],
      "metadata": {
        "id": "JTH66nAJHRRH"
      },
      "execution_count": null,
      "outputs": []
    },
    {
      "cell_type": "markdown",
      "source": [
        "ใน transaction ทั้งหมด Black ชอบไปจับกุมอายุ 18-24 ถึง 5.7% และชอบจับ Article for use in thef ถึง 14%, จับคนที่เป็นผู้ชาย อายุ 10-17 5%\n",
        "\n",
        "RelationRecord(items=frozenset({'Male', 'Article for use in theft', 'Black'}), support=0.14329268292682926, ordered_statistics=[OrderedStatistic(items_base=frozenset(), items_add=frozenset({'Male', 'Article for use in theft', 'Black'}), confidence=0.14329268292682926, lift=1.0), OrderedStatistic(items_base=frozenset({'Article for use in theft'}), items_add=frozenset({'Male', 'Black'}), confidence=0.16725978647686832, lift=0.9796644636502286), OrderedStatistic(items_base=frozenset({'Black'}), items_add=frozenset({'Male', 'Article for use in theft'}), confidence=0.8103448275862069, lift=1.0848698099929626), OrderedStatistic(items_base=frozenset({'Male'}), items_add=frozenset({'Article for use in theft', 'Black'}), confidence=0.16607773851590105, lift=1.1117040455758274), OrderedStatistic(items_base=frozenset({'Article for use in theft', 'Black'}), items_add=frozenset({'Male'}), confidence=0.9591836734693877, lift=1.1117040455758274), OrderedStatistic(items_base=frozenset({'Male', 'Article for use in theft'}), items_add=frozenset({'Black'}), confidence=0.19183673469387755, lift=1.0848698099929628), OrderedStatistic(items_base=frozenset({'Male', 'Black'}), items_add=frozenset({'Article for use in theft'}), confidence=0.8392857142857142, lift=0.9796644636502286)])\n",
        "\n",
        "อันนี้น่าสนใจ จับผู้ชายที่มีอุปกรณ์ที่ใช้ในการโจรกรรม 14%"
      ],
      "metadata": {
        "id": "pZciQV3CHb9K"
      }
    },
    {
      "cell_type": "code",
      "source": [
        "for i, rule in enumerate(police_back):\n",
        "  print(i,rule)"
      ],
      "metadata": {
        "id": "vGHr1_kWIIga"
      },
      "execution_count": null,
      "outputs": []
    },
    {
      "cell_type": "code",
      "source": [
        "for v in police_back[8][2]:\n",
        "   print(v)"
      ],
      "metadata": {
        "id": "oOiZuhIvIcML"
      },
      "execution_count": null,
      "outputs": []
    },
    {
      "cell_type": "markdown",
      "source": [
        "ช่วงอายุที่ over 34 มีความสัมพันธ์กับอะไรบ้าง"
      ],
      "metadata": {
        "id": "HIqOqhfVKC9V"
      }
    },
    {
      "cell_type": "code",
      "source": [
        "ช่วงอายุที่ over 34 มีความสัมพันธ์กับอะไรบ้าง"
      ],
      "metadata": {
        "id": "4QIdlLzIJ2Mc"
      },
      "execution_count": null,
      "outputs": []
    },
    {
      "cell_type": "code",
      "source": [
        "Outcome= list()\n",
        "for result in list_apri:\n",
        "  if 'Controlled drugs' in result[0]:\n",
        "    Outcome.append(result)\n",
        ""
      ],
      "metadata": {
        "id": "a11PeYvxKMPk"
      },
      "execution_count": 117,
      "outputs": []
    },
    {
      "cell_type": "code",
      "source": [
        "Outcome"
      ],
      "metadata": {
        "colab": {
          "base_uri": "https://localhost:8080/"
        },
        "id": "J5mm-1YVKUoz",
        "outputId": "9b4da07e-9887-4e6e-f0cb-3d896d1c48b7"
      },
      "execution_count": 118,
      "outputs": [
        {
          "output_type": "execute_result",
          "data": {
            "text/plain": [
              "[RelationRecord(items=frozenset({'Controlled drugs'}), support=0.08536585365853659, ordered_statistics=[OrderedStatistic(items_base=frozenset(), items_add=frozenset({'Controlled drugs'}), confidence=0.08536585365853659, lift=1.0)]),\n",
              " RelationRecord(items=frozenset({'Male', 'Controlled drugs'}), support=0.06707317073170732, ordered_statistics=[OrderedStatistic(items_base=frozenset(), items_add=frozenset({'Male', 'Controlled drugs'}), confidence=0.06707317073170732, lift=1.0), OrderedStatistic(items_base=frozenset({'Controlled drugs'}), items_add=frozenset({'Male'}), confidence=0.7857142857142857, lift=0.9106511862695609), OrderedStatistic(items_base=frozenset({'Male'}), items_add=frozenset({'Controlled drugs'}), confidence=0.07773851590106008, lift=0.9106511862695609)]),\n",
              " RelationRecord(items=frozenset({'White', 'Controlled drugs'}), support=0.054878048780487805, ordered_statistics=[OrderedStatistic(items_base=frozenset(), items_add=frozenset({'White', 'Controlled drugs'}), confidence=0.054878048780487805, lift=1.0), OrderedStatistic(items_base=frozenset({'Controlled drugs'}), items_add=frozenset({'White'}), confidence=0.6428571428571428, lift=0.9413265306122447), OrderedStatistic(items_base=frozenset({'White'}), items_add=frozenset({'Controlled drugs'}), confidence=0.08035714285714285, lift=0.9413265306122447)])]"
            ]
          },
          "metadata": {},
          "execution_count": 118
        }
      ]
    },
    {
      "cell_type": "code",
      "source": [
        "len(Outcome)"
      ],
      "metadata": {
        "colab": {
          "base_uri": "https://localhost:8080/"
        },
        "id": "ajNy1hNhM9qg",
        "outputId": "85ce3ab9-3066-4c8f-a661-89a8fd5a6967"
      },
      "execution_count": 120,
      "outputs": [
        {
          "output_type": "execute_result",
          "data": {
            "text/plain": [
              "3"
            ]
          },
          "metadata": {},
          "execution_count": 120
        }
      ]
    },
    {
      "cell_type": "code",
      "source": [
        "for rule in Outcome:\n",
        "  print(rule)"
      ],
      "metadata": {
        "colab": {
          "base_uri": "https://localhost:8080/"
        },
        "id": "diDbsTMrMr6p",
        "outputId": "883d41a1-1ae6-4b18-dd57-5abcca69c683"
      },
      "execution_count": 119,
      "outputs": [
        {
          "output_type": "stream",
          "name": "stdout",
          "text": [
            "RelationRecord(items=frozenset({'Controlled drugs'}), support=0.08536585365853659, ordered_statistics=[OrderedStatistic(items_base=frozenset(), items_add=frozenset({'Controlled drugs'}), confidence=0.08536585365853659, lift=1.0)])\n",
            "RelationRecord(items=frozenset({'Male', 'Controlled drugs'}), support=0.06707317073170732, ordered_statistics=[OrderedStatistic(items_base=frozenset(), items_add=frozenset({'Male', 'Controlled drugs'}), confidence=0.06707317073170732, lift=1.0), OrderedStatistic(items_base=frozenset({'Controlled drugs'}), items_add=frozenset({'Male'}), confidence=0.7857142857142857, lift=0.9106511862695609), OrderedStatistic(items_base=frozenset({'Male'}), items_add=frozenset({'Controlled drugs'}), confidence=0.07773851590106008, lift=0.9106511862695609)])\n",
            "RelationRecord(items=frozenset({'White', 'Controlled drugs'}), support=0.054878048780487805, ordered_statistics=[OrderedStatistic(items_base=frozenset(), items_add=frozenset({'White', 'Controlled drugs'}), confidence=0.054878048780487805, lift=1.0), OrderedStatistic(items_base=frozenset({'Controlled drugs'}), items_add=frozenset({'White'}), confidence=0.6428571428571428, lift=0.9413265306122447), OrderedStatistic(items_base=frozenset({'White'}), items_add=frozenset({'Controlled drugs'}), confidence=0.08035714285714285, lift=0.9413265306122447)])\n"
          ]
        }
      ]
    },
    {
      "cell_type": "markdown",
      "source": [
        "78.57% ของคนที่ถูกจับด้วย controlled drug จะเป็นเป็นเพศชาย"
      ],
      "metadata": {
        "id": "jBLrdIzPOKe7"
      }
    }
  ],
  "metadata": {
    "colab": {
      "collapsed_sections": [
        "JstLxHG8y5Uw"
      ],
      "provenance": [],
      "include_colab_link": true
    },
    "kernelspec": {
      "display_name": "Python 3",
      "name": "python3"
    },
    "language_info": {
      "name": "python"
    }
  },
  "nbformat": 4,
  "nbformat_minor": 0
}